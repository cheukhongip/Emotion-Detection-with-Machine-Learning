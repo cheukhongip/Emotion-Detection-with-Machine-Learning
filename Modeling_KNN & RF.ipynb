{
 "cells": [
  {
   "cell_type": "code",
   "execution_count": 6,
   "metadata": {
    "id": "k2ivRhnTR-UN"
   },
   "outputs": [],
   "source": [
    "import pandas as pd \n",
    "import numpy as np\n",
    "import matplotlib.pyplot as plt\n",
    "import glob\n",
    "from sklearn.neighbors  import KNeighborsClassifier \n",
    "from sklearn.metrics import accuracy_score,precision_score, recall_score\n",
    "from sklearn.tree import DecisionTreeClassifier\n",
    "from sklearn.metrics import confusion_matrix\n",
    "from sklearn.ensemble import RandomForestClassifier\n",
    "from sklearn.tree import export_graphviz\n",
    "from sklearn.model_selection import KFold\n",
    "from sklearn.metrics import classification_report, confusion_matrix\n",
    "from sklearn.utils import shuffle\n",
    "from sklearn.model_selection import GridSearchCV"
   ]
  },
  {
   "cell_type": "markdown",
   "metadata": {
    "id": "u7mxAYXaR-UP"
   },
   "source": [
    "# Load CSV"
   ]
  },
  {
   "cell_type": "code",
   "execution_count": 2,
   "metadata": {
    "id": "gJqZl7l1R-UQ"
   },
   "outputs": [],
   "source": [
    "X_train = pd.read_csv('./x_train_minmax_pca_97.csv')\n",
    "X_train = shuffle(X_train)\n",
    "y_train = X_train.iloc[:,-1]\n",
    "X_train = X_train.drop('class',axis=1)\n",
    "\n",
    "X_test = pd.read_csv('./x_test_minmax_pca_97.csv')\n",
    "y_test = X_test.iloc[:,-1]\n",
    "X_test = X_test.drop('class',axis=1)"
   ]
  },
  {
   "cell_type": "code",
   "execution_count": 3,
   "metadata": {},
   "outputs": [
    {
     "data": {
      "text/html": [
       "<div>\n",
       "<style scoped>\n",
       "    .dataframe tbody tr th:only-of-type {\n",
       "        vertical-align: middle;\n",
       "    }\n",
       "\n",
       "    .dataframe tbody tr th {\n",
       "        vertical-align: top;\n",
       "    }\n",
       "\n",
       "    .dataframe thead th {\n",
       "        text-align: right;\n",
       "    }\n",
       "</style>\n",
       "<table border=\"1\" class=\"dataframe\">\n",
       "  <thead>\n",
       "    <tr style=\"text-align: right;\">\n",
       "      <th></th>\n",
       "      <th>0</th>\n",
       "      <th>1</th>\n",
       "      <th>2</th>\n",
       "      <th>3</th>\n",
       "      <th>4</th>\n",
       "      <th>5</th>\n",
       "      <th>6</th>\n",
       "      <th>7</th>\n",
       "      <th>8</th>\n",
       "      <th>9</th>\n",
       "      <th>...</th>\n",
       "      <th>786</th>\n",
       "      <th>787</th>\n",
       "      <th>788</th>\n",
       "      <th>789</th>\n",
       "      <th>790</th>\n",
       "      <th>791</th>\n",
       "      <th>792</th>\n",
       "      <th>793</th>\n",
       "      <th>794</th>\n",
       "      <th>795</th>\n",
       "    </tr>\n",
       "  </thead>\n",
       "  <tbody>\n",
       "    <tr>\n",
       "      <th>2789</th>\n",
       "      <td>13.287567</td>\n",
       "      <td>-4.180306</td>\n",
       "      <td>14.377235</td>\n",
       "      <td>0.673594</td>\n",
       "      <td>3.627946</td>\n",
       "      <td>-2.390770</td>\n",
       "      <td>-1.712191</td>\n",
       "      <td>1.585448</td>\n",
       "      <td>1.241285</td>\n",
       "      <td>-2.879860</td>\n",
       "      <td>...</td>\n",
       "      <td>-0.125729</td>\n",
       "      <td>0.104276</td>\n",
       "      <td>-0.305436</td>\n",
       "      <td>-0.093603</td>\n",
       "      <td>0.056822</td>\n",
       "      <td>0.090002</td>\n",
       "      <td>0.136251</td>\n",
       "      <td>0.040818</td>\n",
       "      <td>0.081623</td>\n",
       "      <td>0.085125</td>\n",
       "    </tr>\n",
       "    <tr>\n",
       "      <th>3216</th>\n",
       "      <td>6.770210</td>\n",
       "      <td>12.890282</td>\n",
       "      <td>-8.020639</td>\n",
       "      <td>-3.647142</td>\n",
       "      <td>0.805590</td>\n",
       "      <td>-1.807976</td>\n",
       "      <td>-1.034888</td>\n",
       "      <td>-0.628998</td>\n",
       "      <td>-2.944534</td>\n",
       "      <td>1.892892</td>\n",
       "      <td>...</td>\n",
       "      <td>0.147628</td>\n",
       "      <td>-0.009304</td>\n",
       "      <td>-0.219030</td>\n",
       "      <td>0.006520</td>\n",
       "      <td>-0.043305</td>\n",
       "      <td>0.037583</td>\n",
       "      <td>-0.104130</td>\n",
       "      <td>-0.032128</td>\n",
       "      <td>0.065893</td>\n",
       "      <td>-0.035865</td>\n",
       "    </tr>\n",
       "    <tr>\n",
       "      <th>2063</th>\n",
       "      <td>-1.828611</td>\n",
       "      <td>-13.684523</td>\n",
       "      <td>5.199024</td>\n",
       "      <td>-9.624094</td>\n",
       "      <td>-4.374345</td>\n",
       "      <td>-0.092272</td>\n",
       "      <td>-4.412358</td>\n",
       "      <td>-4.536297</td>\n",
       "      <td>-1.542239</td>\n",
       "      <td>-7.370496</td>\n",
       "      <td>...</td>\n",
       "      <td>0.080060</td>\n",
       "      <td>0.124420</td>\n",
       "      <td>0.233778</td>\n",
       "      <td>0.027752</td>\n",
       "      <td>0.024571</td>\n",
       "      <td>0.129558</td>\n",
       "      <td>-0.041770</td>\n",
       "      <td>-0.075894</td>\n",
       "      <td>0.104417</td>\n",
       "      <td>-0.206279</td>\n",
       "    </tr>\n",
       "    <tr>\n",
       "      <th>2341</th>\n",
       "      <td>6.382314</td>\n",
       "      <td>4.338540</td>\n",
       "      <td>-2.042769</td>\n",
       "      <td>-4.341775</td>\n",
       "      <td>1.719186</td>\n",
       "      <td>0.159963</td>\n",
       "      <td>0.223397</td>\n",
       "      <td>0.222860</td>\n",
       "      <td>-1.499287</td>\n",
       "      <td>-2.585470</td>\n",
       "      <td>...</td>\n",
       "      <td>-0.039154</td>\n",
       "      <td>-0.420040</td>\n",
       "      <td>-0.270576</td>\n",
       "      <td>0.004325</td>\n",
       "      <td>-0.025851</td>\n",
       "      <td>0.055873</td>\n",
       "      <td>-0.031505</td>\n",
       "      <td>-0.041305</td>\n",
       "      <td>0.054169</td>\n",
       "      <td>-0.029417</td>\n",
       "    </tr>\n",
       "    <tr>\n",
       "      <th>3033</th>\n",
       "      <td>7.351010</td>\n",
       "      <td>10.312603</td>\n",
       "      <td>-10.771262</td>\n",
       "      <td>-3.691142</td>\n",
       "      <td>3.030546</td>\n",
       "      <td>-0.655544</td>\n",
       "      <td>3.684249</td>\n",
       "      <td>-0.930706</td>\n",
       "      <td>0.648103</td>\n",
       "      <td>-4.357490</td>\n",
       "      <td>...</td>\n",
       "      <td>-0.124508</td>\n",
       "      <td>0.202441</td>\n",
       "      <td>0.078776</td>\n",
       "      <td>-0.002325</td>\n",
       "      <td>0.010074</td>\n",
       "      <td>0.111184</td>\n",
       "      <td>-0.041874</td>\n",
       "      <td>-0.123013</td>\n",
       "      <td>0.354662</td>\n",
       "      <td>0.051020</td>\n",
       "    </tr>\n",
       "    <tr>\n",
       "      <th>...</th>\n",
       "      <td>...</td>\n",
       "      <td>...</td>\n",
       "      <td>...</td>\n",
       "      <td>...</td>\n",
       "      <td>...</td>\n",
       "      <td>...</td>\n",
       "      <td>...</td>\n",
       "      <td>...</td>\n",
       "      <td>...</td>\n",
       "      <td>...</td>\n",
       "      <td>...</td>\n",
       "      <td>...</td>\n",
       "      <td>...</td>\n",
       "      <td>...</td>\n",
       "      <td>...</td>\n",
       "      <td>...</td>\n",
       "      <td>...</td>\n",
       "      <td>...</td>\n",
       "      <td>...</td>\n",
       "      <td>...</td>\n",
       "      <td>...</td>\n",
       "    </tr>\n",
       "    <tr>\n",
       "      <th>1445</th>\n",
       "      <td>-1.871261</td>\n",
       "      <td>-10.615463</td>\n",
       "      <td>2.483176</td>\n",
       "      <td>-1.259055</td>\n",
       "      <td>6.677393</td>\n",
       "      <td>6.423196</td>\n",
       "      <td>0.418993</td>\n",
       "      <td>-1.056852</td>\n",
       "      <td>-0.653057</td>\n",
       "      <td>0.184942</td>\n",
       "      <td>...</td>\n",
       "      <td>0.090348</td>\n",
       "      <td>-0.000828</td>\n",
       "      <td>-0.140998</td>\n",
       "      <td>0.026114</td>\n",
       "      <td>0.238663</td>\n",
       "      <td>0.084268</td>\n",
       "      <td>0.131170</td>\n",
       "      <td>-0.016255</td>\n",
       "      <td>-0.068221</td>\n",
       "      <td>0.003243</td>\n",
       "    </tr>\n",
       "    <tr>\n",
       "      <th>1108</th>\n",
       "      <td>21.509198</td>\n",
       "      <td>1.240296</td>\n",
       "      <td>6.378385</td>\n",
       "      <td>2.639177</td>\n",
       "      <td>-1.776608</td>\n",
       "      <td>2.240362</td>\n",
       "      <td>-4.921393</td>\n",
       "      <td>1.108573</td>\n",
       "      <td>3.110468</td>\n",
       "      <td>5.293504</td>\n",
       "      <td>...</td>\n",
       "      <td>-0.184946</td>\n",
       "      <td>-0.380490</td>\n",
       "      <td>-0.176000</td>\n",
       "      <td>-0.208445</td>\n",
       "      <td>-0.258500</td>\n",
       "      <td>-0.037162</td>\n",
       "      <td>0.249668</td>\n",
       "      <td>-0.146676</td>\n",
       "      <td>-0.413438</td>\n",
       "      <td>0.255906</td>\n",
       "    </tr>\n",
       "    <tr>\n",
       "      <th>1001</th>\n",
       "      <td>4.656363</td>\n",
       "      <td>-2.095246</td>\n",
       "      <td>-4.496836</td>\n",
       "      <td>-5.081287</td>\n",
       "      <td>-2.405390</td>\n",
       "      <td>-1.680795</td>\n",
       "      <td>-1.622980</td>\n",
       "      <td>2.970796</td>\n",
       "      <td>1.314793</td>\n",
       "      <td>-2.074769</td>\n",
       "      <td>...</td>\n",
       "      <td>0.081225</td>\n",
       "      <td>0.065187</td>\n",
       "      <td>-0.001557</td>\n",
       "      <td>0.064854</td>\n",
       "      <td>0.074368</td>\n",
       "      <td>-0.040408</td>\n",
       "      <td>0.123602</td>\n",
       "      <td>0.056694</td>\n",
       "      <td>-0.152787</td>\n",
       "      <td>-0.079117</td>\n",
       "    </tr>\n",
       "    <tr>\n",
       "      <th>1554</th>\n",
       "      <td>-5.286232</td>\n",
       "      <td>-5.123122</td>\n",
       "      <td>-0.200314</td>\n",
       "      <td>-2.808654</td>\n",
       "      <td>-4.004364</td>\n",
       "      <td>-1.371789</td>\n",
       "      <td>-2.811417</td>\n",
       "      <td>-0.258015</td>\n",
       "      <td>0.971283</td>\n",
       "      <td>4.759483</td>\n",
       "      <td>...</td>\n",
       "      <td>-0.016720</td>\n",
       "      <td>-0.052466</td>\n",
       "      <td>-0.143166</td>\n",
       "      <td>-0.186470</td>\n",
       "      <td>-0.090572</td>\n",
       "      <td>0.160962</td>\n",
       "      <td>-0.180943</td>\n",
       "      <td>0.117821</td>\n",
       "      <td>-0.133019</td>\n",
       "      <td>-0.065400</td>\n",
       "    </tr>\n",
       "    <tr>\n",
       "      <th>3251</th>\n",
       "      <td>3.564888</td>\n",
       "      <td>-2.291933</td>\n",
       "      <td>-13.771432</td>\n",
       "      <td>4.721605</td>\n",
       "      <td>2.572158</td>\n",
       "      <td>-1.981756</td>\n",
       "      <td>-3.698414</td>\n",
       "      <td>-2.943950</td>\n",
       "      <td>-4.694808</td>\n",
       "      <td>-0.308273</td>\n",
       "      <td>...</td>\n",
       "      <td>-0.071221</td>\n",
       "      <td>-0.068886</td>\n",
       "      <td>0.166833</td>\n",
       "      <td>-0.027779</td>\n",
       "      <td>0.056629</td>\n",
       "      <td>0.068875</td>\n",
       "      <td>0.052468</td>\n",
       "      <td>0.306391</td>\n",
       "      <td>-0.105912</td>\n",
       "      <td>0.205177</td>\n",
       "    </tr>\n",
       "  </tbody>\n",
       "</table>\n",
       "<p>3489 rows × 796 columns</p>\n",
       "</div>"
      ],
      "text/plain": [
       "              0          1          2         3         4         5         6  \\\n",
       "2789  13.287567  -4.180306  14.377235  0.673594  3.627946 -2.390770 -1.712191   \n",
       "3216   6.770210  12.890282  -8.020639 -3.647142  0.805590 -1.807976 -1.034888   \n",
       "2063  -1.828611 -13.684523   5.199024 -9.624094 -4.374345 -0.092272 -4.412358   \n",
       "2341   6.382314   4.338540  -2.042769 -4.341775  1.719186  0.159963  0.223397   \n",
       "3033   7.351010  10.312603 -10.771262 -3.691142  3.030546 -0.655544  3.684249   \n",
       "...         ...        ...        ...       ...       ...       ...       ...   \n",
       "1445  -1.871261 -10.615463   2.483176 -1.259055  6.677393  6.423196  0.418993   \n",
       "1108  21.509198   1.240296   6.378385  2.639177 -1.776608  2.240362 -4.921393   \n",
       "1001   4.656363  -2.095246  -4.496836 -5.081287 -2.405390 -1.680795 -1.622980   \n",
       "1554  -5.286232  -5.123122  -0.200314 -2.808654 -4.004364 -1.371789 -2.811417   \n",
       "3251   3.564888  -2.291933 -13.771432  4.721605  2.572158 -1.981756 -3.698414   \n",
       "\n",
       "             7         8         9  ...       786       787       788  \\\n",
       "2789  1.585448  1.241285 -2.879860  ... -0.125729  0.104276 -0.305436   \n",
       "3216 -0.628998 -2.944534  1.892892  ...  0.147628 -0.009304 -0.219030   \n",
       "2063 -4.536297 -1.542239 -7.370496  ...  0.080060  0.124420  0.233778   \n",
       "2341  0.222860 -1.499287 -2.585470  ... -0.039154 -0.420040 -0.270576   \n",
       "3033 -0.930706  0.648103 -4.357490  ... -0.124508  0.202441  0.078776   \n",
       "...        ...       ...       ...  ...       ...       ...       ...   \n",
       "1445 -1.056852 -0.653057  0.184942  ...  0.090348 -0.000828 -0.140998   \n",
       "1108  1.108573  3.110468  5.293504  ... -0.184946 -0.380490 -0.176000   \n",
       "1001  2.970796  1.314793 -2.074769  ...  0.081225  0.065187 -0.001557   \n",
       "1554 -0.258015  0.971283  4.759483  ... -0.016720 -0.052466 -0.143166   \n",
       "3251 -2.943950 -4.694808 -0.308273  ... -0.071221 -0.068886  0.166833   \n",
       "\n",
       "           789       790       791       792       793       794       795  \n",
       "2789 -0.093603  0.056822  0.090002  0.136251  0.040818  0.081623  0.085125  \n",
       "3216  0.006520 -0.043305  0.037583 -0.104130 -0.032128  0.065893 -0.035865  \n",
       "2063  0.027752  0.024571  0.129558 -0.041770 -0.075894  0.104417 -0.206279  \n",
       "2341  0.004325 -0.025851  0.055873 -0.031505 -0.041305  0.054169 -0.029417  \n",
       "3033 -0.002325  0.010074  0.111184 -0.041874 -0.123013  0.354662  0.051020  \n",
       "...        ...       ...       ...       ...       ...       ...       ...  \n",
       "1445  0.026114  0.238663  0.084268  0.131170 -0.016255 -0.068221  0.003243  \n",
       "1108 -0.208445 -0.258500 -0.037162  0.249668 -0.146676 -0.413438  0.255906  \n",
       "1001  0.064854  0.074368 -0.040408  0.123602  0.056694 -0.152787 -0.079117  \n",
       "1554 -0.186470 -0.090572  0.160962 -0.180943  0.117821 -0.133019 -0.065400  \n",
       "3251 -0.027779  0.056629  0.068875  0.052468  0.306391 -0.105912  0.205177  \n",
       "\n",
       "[3489 rows x 796 columns]"
      ]
     },
     "execution_count": 3,
     "metadata": {},
     "output_type": "execute_result"
    }
   ],
   "source": [
    "X_train"
   ]
  },
  {
   "cell_type": "markdown",
   "metadata": {},
   "source": [
    "# RF-Hyperparameter Tune"
   ]
  },
  {
   "cell_type": "code",
   "execution_count": 11,
   "metadata": {},
   "outputs": [],
   "source": [
    "rnd_clf = RandomForestClassifier(n_estimators=500, max_leaf_nodes=16, random_state=42)\n",
    "rnd_clf.fit(X_train, y_train)\n",
    "\n",
    "y_pred_rf = rnd_clf.predict(X_test)"
   ]
  },
  {
   "cell_type": "code",
   "execution_count": 14,
   "metadata": {},
   "outputs": [
    {
     "data": {
      "text/plain": [
       "0.7232142857142857"
      ]
     },
     "execution_count": 14,
     "metadata": {},
     "output_type": "execute_result"
    }
   ],
   "source": [
    "np.sum(y_test == y_pred_rf) / len(y_test)"
   ]
  },
  {
   "cell_type": "code",
   "execution_count": 26,
   "metadata": {},
   "outputs": [],
   "source": [
    "RF_classifier = RandomForestClassifier()\n",
    "parameters = [{'n_estimators':[280,300],\n",
    "               'max_depth': list(range(6,8,2)),\n",
    "               'criterion':['entropy'],                 \n",
    "               'min_samples_split':[9,10],\n",
    "               'max_features':['auto'],\n",
    "               'min_samples_leaf':[2]\n",
    "               }]"
   ]
  },
  {
   "cell_type": "code",
   "execution_count": 27,
   "metadata": {},
   "outputs": [
    {
     "name": "stdout",
     "output_type": "stream",
     "text": [
      "Fitting 5 folds for each of 4 candidates, totalling 20 fits\n",
      "[CV 1/5] END criterion=entropy, max_depth=6, max_features=auto, min_samples_leaf=2, min_samples_split=9, n_estimators=280;, score=(train=0.960, test=0.719) total time=  10.0s\n",
      "[CV 2/5] END criterion=entropy, max_depth=6, max_features=auto, min_samples_leaf=2, min_samples_split=9, n_estimators=280;, score=(train=0.955, test=0.695) total time=  10.5s\n",
      "[CV 3/5] END criterion=entropy, max_depth=6, max_features=auto, min_samples_leaf=2, min_samples_split=9, n_estimators=280;, score=(train=0.952, test=0.702) total time=  10.3s\n",
      "[CV 4/5] END criterion=entropy, max_depth=6, max_features=auto, min_samples_leaf=2, min_samples_split=9, n_estimators=280;, score=(train=0.949, test=0.758) total time=  10.3s\n",
      "[CV 5/5] END criterion=entropy, max_depth=6, max_features=auto, min_samples_leaf=2, min_samples_split=9, n_estimators=280;, score=(train=0.958, test=0.712) total time=  10.4s\n",
      "[CV 1/5] END criterion=entropy, max_depth=6, max_features=auto, min_samples_leaf=2, min_samples_split=9, n_estimators=300;, score=(train=0.955, test=0.735) total time=  11.0s\n",
      "[CV 2/5] END criterion=entropy, max_depth=6, max_features=auto, min_samples_leaf=2, min_samples_split=9, n_estimators=300;, score=(train=0.951, test=0.712) total time=  10.9s\n",
      "[CV 3/5] END criterion=entropy, max_depth=6, max_features=auto, min_samples_leaf=2, min_samples_split=9, n_estimators=300;, score=(train=0.949, test=0.702) total time=  11.0s\n",
      "[CV 4/5] END criterion=entropy, max_depth=6, max_features=auto, min_samples_leaf=2, min_samples_split=9, n_estimators=300;, score=(train=0.956, test=0.738) total time=  11.0s\n",
      "[CV 5/5] END criterion=entropy, max_depth=6, max_features=auto, min_samples_leaf=2, min_samples_split=9, n_estimators=300;, score=(train=0.958, test=0.712) total time=  10.9s\n",
      "[CV 1/5] END criterion=entropy, max_depth=6, max_features=auto, min_samples_leaf=2, min_samples_split=10, n_estimators=280;, score=(train=0.956, test=0.711) total time=  10.2s\n",
      "[CV 2/5] END criterion=entropy, max_depth=6, max_features=auto, min_samples_leaf=2, min_samples_split=10, n_estimators=280;, score=(train=0.954, test=0.718) total time=  10.2s\n",
      "[CV 3/5] END criterion=entropy, max_depth=6, max_features=auto, min_samples_leaf=2, min_samples_split=10, n_estimators=280;, score=(train=0.956, test=0.711) total time=  10.1s\n",
      "[CV 4/5] END criterion=entropy, max_depth=6, max_features=auto, min_samples_leaf=2, min_samples_split=10, n_estimators=280;, score=(train=0.951, test=0.755) total time=  10.2s\n",
      "[CV 5/5] END criterion=entropy, max_depth=6, max_features=auto, min_samples_leaf=2, min_samples_split=10, n_estimators=280;, score=(train=0.957, test=0.730) total time=  10.2s\n",
      "[CV 1/5] END criterion=entropy, max_depth=6, max_features=auto, min_samples_leaf=2, min_samples_split=10, n_estimators=300;, score=(train=0.955, test=0.725) total time=  11.1s\n",
      "[CV 2/5] END criterion=entropy, max_depth=6, max_features=auto, min_samples_leaf=2, min_samples_split=10, n_estimators=300;, score=(train=0.956, test=0.711) total time=  11.0s\n",
      "[CV 3/5] END criterion=entropy, max_depth=6, max_features=auto, min_samples_leaf=2, min_samples_split=10, n_estimators=300;, score=(train=0.953, test=0.701) total time=  10.9s\n",
      "[CV 4/5] END criterion=entropy, max_depth=6, max_features=auto, min_samples_leaf=2, min_samples_split=10, n_estimators=300;, score=(train=0.956, test=0.758) total time=  10.8s\n",
      "[CV 5/5] END criterion=entropy, max_depth=6, max_features=auto, min_samples_leaf=2, min_samples_split=10, n_estimators=300;, score=(train=0.957, test=0.726) total time=  10.8s\n"
     ]
    },
    {
     "data": {
      "text/plain": [
       "GridSearchCV(estimator=RandomForestClassifier(),\n",
       "             param_grid=[{'criterion': ['entropy'], 'max_depth': [6],\n",
       "                          'max_features': ['auto'], 'min_samples_leaf': [2],\n",
       "                          'min_samples_split': [9, 10],\n",
       "                          'n_estimators': [280, 300]}],\n",
       "             return_train_score=True, scoring='accuracy', verbose=3)"
      ]
     },
     "execution_count": 27,
     "metadata": {},
     "output_type": "execute_result"
    }
   ],
   "source": [
    "grid_search = GridSearchCV(estimator = RF_classifier,\n",
    "                           param_grid= parameters,\n",
    "                           scoring = 'accuracy',\n",
    "                           refit=True,\n",
    "                           verbose = 3,\n",
    "                           return_train_score = True)\n",
    "\n",
    "grid_search.fit(X_train,y_train)"
   ]
  },
  {
   "cell_type": "code",
   "execution_count": 28,
   "metadata": {},
   "outputs": [
    {
     "name": "stdout",
     "output_type": "stream",
     "text": [
      "Best Accuracy: 72.49 %\n",
      "Best Parameters: {'criterion': 'entropy', 'max_depth': 6, 'max_features': 'auto', 'min_samples_leaf': 2, 'min_samples_split': 10, 'n_estimators': 280}\n"
     ]
    }
   ],
   "source": [
    "best_accuracy = grid_search.best_score_\n",
    "best_parameters = grid_search.best_params_\n",
    "print(\"Best Accuracy: {:.2f} %\".format(best_accuracy*100))\n",
    "print(\"Best Parameters:\", best_parameters)"
   ]
  },
  {
   "cell_type": "code",
   "execution_count": 22,
   "metadata": {},
   "outputs": [
    {
     "name": "stdout",
     "output_type": "stream",
     "text": [
      "RandomForestClassifier(criterion='entropy', max_depth=6, min_samples_leaf=2,\n",
      "                       min_samples_split=10, n_estimators=300)\n"
     ]
    }
   ],
   "source": [
    "print(grid_search.best_estimator_)"
   ]
  },
  {
   "cell_type": "code",
   "execution_count": 29,
   "metadata": {},
   "outputs": [
    {
     "data": {
      "text/html": [
       "<div>\n",
       "<style scoped>\n",
       "    .dataframe tbody tr th:only-of-type {\n",
       "        vertical-align: middle;\n",
       "    }\n",
       "\n",
       "    .dataframe tbody tr th {\n",
       "        vertical-align: top;\n",
       "    }\n",
       "\n",
       "    .dataframe thead th {\n",
       "        text-align: right;\n",
       "    }\n",
       "</style>\n",
       "<table border=\"1\" class=\"dataframe\">\n",
       "  <thead>\n",
       "    <tr style=\"text-align: right;\">\n",
       "      <th></th>\n",
       "      <th>mean_fit_time</th>\n",
       "      <th>params</th>\n",
       "      <th>mean_test_score</th>\n",
       "      <th>rank_test_score</th>\n",
       "    </tr>\n",
       "  </thead>\n",
       "  <tbody>\n",
       "    <tr>\n",
       "      <th>1</th>\n",
       "      <td>0.015851</td>\n",
       "      <td>{'n_neighbors': 1, 'p': 2, 'weights': 'uniform'}</td>\n",
       "      <td>0.779300</td>\n",
       "      <td>1</td>\n",
       "    </tr>\n",
       "    <tr>\n",
       "      <th>5</th>\n",
       "      <td>0.013371</td>\n",
       "      <td>{'n_neighbors': 3, 'p': 2, 'weights': 'uniform'}</td>\n",
       "      <td>0.740902</td>\n",
       "      <td>2</td>\n",
       "    </tr>\n",
       "    <tr>\n",
       "      <th>0</th>\n",
       "      <td>0.013680</td>\n",
       "      <td>{'n_neighbors': 1, 'p': 1, 'weights': 'uniform'}</td>\n",
       "      <td>0.712235</td>\n",
       "      <td>3</td>\n",
       "    </tr>\n",
       "    <tr>\n",
       "      <th>9</th>\n",
       "      <td>0.012282</td>\n",
       "      <td>{'n_neighbors': 5, 'p': 2, 'weights': 'uniform'}</td>\n",
       "      <td>0.709084</td>\n",
       "      <td>4</td>\n",
       "    </tr>\n",
       "    <tr>\n",
       "      <th>7</th>\n",
       "      <td>0.013433</td>\n",
       "      <td>{'n_neighbors': 4, 'p': 2, 'weights': 'uniform'}</td>\n",
       "      <td>0.703066</td>\n",
       "      <td>5</td>\n",
       "    </tr>\n",
       "  </tbody>\n",
       "</table>\n",
       "</div>"
      ],
      "text/plain": [
       "   mean_fit_time                                            params  \\\n",
       "1       0.015851  {'n_neighbors': 1, 'p': 2, 'weights': 'uniform'}   \n",
       "5       0.013371  {'n_neighbors': 3, 'p': 2, 'weights': 'uniform'}   \n",
       "0       0.013680  {'n_neighbors': 1, 'p': 1, 'weights': 'uniform'}   \n",
       "9       0.012282  {'n_neighbors': 5, 'p': 2, 'weights': 'uniform'}   \n",
       "7       0.013433  {'n_neighbors': 4, 'p': 2, 'weights': 'uniform'}   \n",
       "\n",
       "   mean_test_score  rank_test_score  \n",
       "1         0.779300                1  \n",
       "5         0.740902                2  \n",
       "0         0.712235                3  \n",
       "9         0.709084                4  \n",
       "7         0.703066                5  "
      ]
     },
     "execution_count": 29,
     "metadata": {},
     "output_type": "execute_result"
    }
   ],
   "source": [
    "result = pd.DataFrame(grid.cv_results_)[['mean_fit_time','params','mean_test_score','rank_test_score']]\n",
    "result.sort_values(by=['mean_test_score'],ascending=False).head()"
   ]
  },
  {
   "cell_type": "code",
   "execution_count": 30,
   "metadata": {},
   "outputs": [
    {
     "name": "stdout",
     "output_type": "stream",
     "text": [
      "Confusion Matrix : \n",
      " [[20 16  4]\n",
      " [10 30  0]\n",
      " [ 3  2 27]]\n",
      "              precision    recall  f1-score   support\n",
      "\n",
      "       happy       0.61      0.50      0.55        40\n",
      "         sad       0.62      0.75      0.68        40\n",
      "       angry       0.87      0.84      0.86        32\n",
      "\n",
      "    accuracy                           0.69       112\n",
      "   macro avg       0.70      0.70      0.70       112\n",
      "weighted avg       0.69      0.69      0.68       112\n",
      "\n"
     ]
    }
   ],
   "source": [
    "grid_pred = grid_search.best_estimator_.predict(X_test)\n",
    "cm = confusion_matrix(y_test, grid_pred)\n",
    "\n",
    "print (\"Confusion Matrix : \\n\", cm)\n",
    "print(classification_report(y_test, grid_pred, target_names=['happy', 'sad', 'angry']))"
   ]
  },
  {
   "cell_type": "code",
   "execution_count": 31,
   "metadata": {},
   "outputs": [
    {
     "data": {
      "text/plain": [
       "[Text(0, 0.5, 'happy'), Text(0, 1.5, 'sad'), Text(0, 2.5, 'angry')]"
      ]
     },
     "execution_count": 31,
     "metadata": {},
     "output_type": "execute_result"
    },
    {
     "data": {
      "image/png": "[encoded data removed]",
      "text/plain": [
       "<Figure size 432x288 with 2 Axes>"
      ]
     },
     "metadata": {
      "needs_background": "light"
     },
     "output_type": "display_data"
    }
   ],
   "source": [
    "ax= plt.subplot()\n",
    "sns.heatmap(cm, annot=True, fmt='g', ax=ax)\n",
    "ax.set_xlabel('Predicted labels');ax.set_ylabel('True labels');\n",
    "ax.set_title('Confusion Matrix') \n",
    "ax.xaxis.set_ticklabels(['happy', 'sad', 'angry']); ax.yaxis.set_ticklabels(['happy', 'sad', 'angry'])"
   ]
  },
  {
   "cell_type": "code",
   "execution_count": null,
   "metadata": {},
   "outputs": [],
   "source": []
  },
  {
   "cell_type": "markdown",
   "metadata": {
    "id": "okqk9hgQR-UQ"
   },
   "source": [
    "----------\n",
    "# Knn"
   ]
  },
  {
   "cell_type": "code",
   "execution_count": null,
   "metadata": {},
   "outputs": [],
   "source": [
    "from sklearn.model_selection import GridSearchCV\n",
    "model = KNeighborsClassifier()\n",
    "# prepare a range of alpha values to test\n",
    "param_grid = {'n_neighbors':list(range(1,30)) , 'weights': ['uniform'] , 'p':[1,2]}   #,'distance'\n",
    "grid = GridSearchCV(model, param_grid, cv = 5, scoring = 'accuracy', refit=True, verbose = 1, return_train_score = True)\n",
    "grid.fit(X_train, y_train.values.ravel())\n",
    "print(grid.best_score_)\n",
    "print(grid.best_estimator_)"
   ]
  },
  {
   "cell_type": "code",
   "execution_count": 7,
   "metadata": {},
   "outputs": [
    {
     "name": "stdout",
     "output_type": "stream",
     "text": [
      "Best Accuracy: 77.93 %\n",
      "Best Parameters: {'n_neighbors': 1, 'p': 2, 'weights': 'uniform'}\n"
     ]
    }
   ],
   "source": [
    "best_accuracy = grid.best_score_\n",
    "best_parameters = grid.best_params_\n",
    "print(\"Best Accuracy: {:.2f} %\".format(best_accuracy*100))\n",
    "print(\"Best Parameters:\", best_parameters)"
   ]
  },
  {
   "cell_type": "code",
   "execution_count": 13,
   "metadata": {},
   "outputs": [
    {
     "data": {
      "text/html": [
       "<div>\n",
       "<style scoped>\n",
       "    .dataframe tbody tr th:only-of-type {\n",
       "        vertical-align: middle;\n",
       "    }\n",
       "\n",
       "    .dataframe tbody tr th {\n",
       "        vertical-align: top;\n",
       "    }\n",
       "\n",
       "    .dataframe thead th {\n",
       "        text-align: right;\n",
       "    }\n",
       "</style>\n",
       "<table border=\"1\" class=\"dataframe\">\n",
       "  <thead>\n",
       "    <tr style=\"text-align: right;\">\n",
       "      <th></th>\n",
       "      <th>mean_fit_time</th>\n",
       "      <th>params</th>\n",
       "      <th>mean_test_score</th>\n",
       "      <th>rank_test_score</th>\n",
       "    </tr>\n",
       "  </thead>\n",
       "  <tbody>\n",
       "    <tr>\n",
       "      <th>1</th>\n",
       "      <td>0.015851</td>\n",
       "      <td>{'n_neighbors': 1, 'p': 2, 'weights': 'uniform'}</td>\n",
       "      <td>0.779300</td>\n",
       "      <td>1</td>\n",
       "    </tr>\n",
       "    <tr>\n",
       "      <th>5</th>\n",
       "      <td>0.013371</td>\n",
       "      <td>{'n_neighbors': 3, 'p': 2, 'weights': 'uniform'}</td>\n",
       "      <td>0.740902</td>\n",
       "      <td>2</td>\n",
       "    </tr>\n",
       "    <tr>\n",
       "      <th>0</th>\n",
       "      <td>0.013680</td>\n",
       "      <td>{'n_neighbors': 1, 'p': 1, 'weights': 'uniform'}</td>\n",
       "      <td>0.712235</td>\n",
       "      <td>3</td>\n",
       "    </tr>\n",
       "    <tr>\n",
       "      <th>9</th>\n",
       "      <td>0.012282</td>\n",
       "      <td>{'n_neighbors': 5, 'p': 2, 'weights': 'uniform'}</td>\n",
       "      <td>0.709084</td>\n",
       "      <td>4</td>\n",
       "    </tr>\n",
       "    <tr>\n",
       "      <th>7</th>\n",
       "      <td>0.013433</td>\n",
       "      <td>{'n_neighbors': 4, 'p': 2, 'weights': 'uniform'}</td>\n",
       "      <td>0.703066</td>\n",
       "      <td>5</td>\n",
       "    </tr>\n",
       "  </tbody>\n",
       "</table>\n",
       "</div>"
      ],
      "text/plain": [
       "   mean_fit_time                                            params  \\\n",
       "1       0.015851  {'n_neighbors': 1, 'p': 2, 'weights': 'uniform'}   \n",
       "5       0.013371  {'n_neighbors': 3, 'p': 2, 'weights': 'uniform'}   \n",
       "0       0.013680  {'n_neighbors': 1, 'p': 1, 'weights': 'uniform'}   \n",
       "9       0.012282  {'n_neighbors': 5, 'p': 2, 'weights': 'uniform'}   \n",
       "7       0.013433  {'n_neighbors': 4, 'p': 2, 'weights': 'uniform'}   \n",
       "\n",
       "   mean_test_score  rank_test_score  \n",
       "1         0.779300                1  \n",
       "5         0.740902                2  \n",
       "0         0.712235                3  \n",
       "9         0.709084                4  \n",
       "7         0.703066                5  "
      ]
     },
     "execution_count": 13,
     "metadata": {},
     "output_type": "execute_result"
    }
   ],
   "source": [
    "result = pd.DataFrame(grid.cv_results_)[['mean_fit_time','params','mean_test_score','rank_test_score']]\n",
    "result.sort_values(by=['mean_test_score'],ascending=False).head()"
   ]
  },
  {
   "cell_type": "code",
   "execution_count": 8,
   "metadata": {},
   "outputs": [
    {
     "data": {
      "text/html": [
       "<div>\n",
       "<style scoped>\n",
       "    .dataframe tbody tr th:only-of-type {\n",
       "        vertical-align: middle;\n",
       "    }\n",
       "\n",
       "    .dataframe tbody tr th {\n",
       "        vertical-align: top;\n",
       "    }\n",
       "\n",
       "    .dataframe thead th {\n",
       "        text-align: right;\n",
       "    }\n",
       "</style>\n",
       "<table border=\"1\" class=\"dataframe\">\n",
       "  <thead>\n",
       "    <tr style=\"text-align: right;\">\n",
       "      <th></th>\n",
       "      <th>mean_fit_time</th>\n",
       "      <th>std_fit_time</th>\n",
       "      <th>mean_score_time</th>\n",
       "      <th>std_score_time</th>\n",
       "      <th>param_n_neighbors</th>\n",
       "      <th>param_p</th>\n",
       "      <th>param_weights</th>\n",
       "      <th>params</th>\n",
       "      <th>split0_test_score</th>\n",
       "      <th>split1_test_score</th>\n",
       "      <th>...</th>\n",
       "      <th>mean_test_score</th>\n",
       "      <th>std_test_score</th>\n",
       "      <th>rank_test_score</th>\n",
       "      <th>split0_train_score</th>\n",
       "      <th>split1_train_score</th>\n",
       "      <th>split2_train_score</th>\n",
       "      <th>split3_train_score</th>\n",
       "      <th>split4_train_score</th>\n",
       "      <th>mean_train_score</th>\n",
       "      <th>std_train_score</th>\n",
       "    </tr>\n",
       "  </thead>\n",
       "  <tbody>\n",
       "    <tr>\n",
       "      <th>1</th>\n",
       "      <td>0.015851</td>\n",
       "      <td>0.003150</td>\n",
       "      <td>0.077238</td>\n",
       "      <td>0.008363</td>\n",
       "      <td>1</td>\n",
       "      <td>2</td>\n",
       "      <td>uniform</td>\n",
       "      <td>{'n_neighbors': 1, 'p': 2, 'weights': 'uniform'}</td>\n",
       "      <td>0.783668</td>\n",
       "      <td>0.770774</td>\n",
       "      <td>...</td>\n",
       "      <td>0.779300</td>\n",
       "      <td>0.013702</td>\n",
       "      <td>1</td>\n",
       "      <td>1.000000</td>\n",
       "      <td>1.000000</td>\n",
       "      <td>1.000000</td>\n",
       "      <td>1.000000</td>\n",
       "      <td>1.000000</td>\n",
       "      <td>1.000000</td>\n",
       "      <td>0.000000</td>\n",
       "    </tr>\n",
       "    <tr>\n",
       "      <th>5</th>\n",
       "      <td>0.013371</td>\n",
       "      <td>0.001012</td>\n",
       "      <td>0.083997</td>\n",
       "      <td>0.009938</td>\n",
       "      <td>3</td>\n",
       "      <td>2</td>\n",
       "      <td>uniform</td>\n",
       "      <td>{'n_neighbors': 3, 'p': 2, 'weights': 'uniform'}</td>\n",
       "      <td>0.757880</td>\n",
       "      <td>0.730659</td>\n",
       "      <td>...</td>\n",
       "      <td>0.740902</td>\n",
       "      <td>0.013978</td>\n",
       "      <td>2</td>\n",
       "      <td>0.869939</td>\n",
       "      <td>0.881405</td>\n",
       "      <td>0.881405</td>\n",
       "      <td>0.872089</td>\n",
       "      <td>0.873567</td>\n",
       "      <td>0.875681</td>\n",
       "      <td>0.004814</td>\n",
       "    </tr>\n",
       "  </tbody>\n",
       "</table>\n",
       "<p>2 rows × 23 columns</p>\n",
       "</div>"
      ],
      "text/plain": [
       "   mean_fit_time  std_fit_time  mean_score_time  std_score_time  \\\n",
       "1       0.015851      0.003150         0.077238        0.008363   \n",
       "5       0.013371      0.001012         0.083997        0.009938   \n",
       "\n",
       "  param_n_neighbors param_p param_weights  \\\n",
       "1                 1       2       uniform   \n",
       "5                 3       2       uniform   \n",
       "\n",
       "                                             params  split0_test_score  \\\n",
       "1  {'n_neighbors': 1, 'p': 2, 'weights': 'uniform'}           0.783668   \n",
       "5  {'n_neighbors': 3, 'p': 2, 'weights': 'uniform'}           0.757880   \n",
       "\n",
       "   split1_test_score  ...  mean_test_score  std_test_score  rank_test_score  \\\n",
       "1           0.770774  ...         0.779300        0.013702                1   \n",
       "5           0.730659  ...         0.740902        0.013978                2   \n",
       "\n",
       "   split0_train_score  split1_train_score  split2_train_score  \\\n",
       "1            1.000000            1.000000            1.000000   \n",
       "5            0.869939            0.881405            0.881405   \n",
       "\n",
       "   split3_train_score  split4_train_score  mean_train_score  std_train_score  \n",
       "1            1.000000            1.000000          1.000000         0.000000  \n",
       "5            0.872089            0.873567          0.875681         0.004814  \n",
       "\n",
       "[2 rows x 23 columns]"
      ]
     },
     "execution_count": 8,
     "metadata": {},
     "output_type": "execute_result"
    }
   ],
   "source": [
    "result = pd.DataFrame(grid.cv_results_)#[['params','mean_test_score','rank_test_score']]\n",
    "result.sort_values(by=['mean_test_score'],ascending=False).head(2)"
   ]
  },
  {
   "cell_type": "code",
   "execution_count": 32,
   "metadata": {},
   "outputs": [
    {
     "name": "stdout",
     "output_type": "stream",
     "text": [
      "Accuracy: 0.7321428571428571\n"
     ]
    }
   ],
   "source": [
    "model = KNeighborsClassifier(n_neighbors=3, weights = 'uniform', p = 2)\n",
    "model.fit(X_train, y_train.values.ravel())\n",
    "y_pred = model.predict(X_test)\n",
    "score = accuracy_score(y_pred,y_test)\n",
    "print(\"Accuracy:\", score)\n",
    "cm = confusion_matrix(y_test, y_pred)"
   ]
  },
  {
   "cell_type": "code",
   "execution_count": 33,
   "metadata": {},
   "outputs": [
    {
     "name": "stdout",
     "output_type": "stream",
     "text": [
      "Confusion Matrix : \n",
      " [[32  8  0]\n",
      " [12 26  2]\n",
      " [ 8  0 24]]\n",
      "              precision    recall  f1-score   support\n",
      "\n",
      "       happy       0.61      0.50      0.55        40\n",
      "         sad       0.62      0.75      0.68        40\n",
      "       angry       0.87      0.84      0.86        32\n",
      "\n",
      "    accuracy                           0.69       112\n",
      "   macro avg       0.70      0.70      0.70       112\n",
      "weighted avg       0.69      0.69      0.68       112\n",
      "\n"
     ]
    }
   ],
   "source": [
    "#grid_pred = grid.best_estimator_.predict(X_test)\n",
    "cm = confusion_matrix(y_test, y_pred)\n",
    "\n",
    "print (\"Confusion Matrix : \\n\", cm)\n",
    "print(classification_report(y_test, grid_pred, target_names=['happy', 'sad', 'angry']))"
   ]
  },
  {
   "cell_type": "code",
   "execution_count": 34,
   "metadata": {},
   "outputs": [
    {
     "data": {
      "text/plain": [
       "[Text(0, 0.5, 'happy'), Text(0, 1.5, 'sad'), Text(0, 2.5, 'angry')]"
      ]
     },
     "execution_count": 34,
     "metadata": {},
     "output_type": "execute_result"
    },
    {
     "data": {
      "image/png": "[encoded data removed]",
      "text/plain": [
       "<Figure size 432x288 with 2 Axes>"
      ]
     },
     "metadata": {
      "needs_background": "light"
     },
     "output_type": "display_data"
    }
   ],
   "source": [
    "ax= plt.subplot()\n",
    "sns.heatmap(cm, annot=True, fmt='g', ax=ax)\n",
    "ax.set_xlabel('Predicted labels');ax.set_ylabel('True labels');\n",
    "ax.set_title('Confusion Matrix') \n",
    "ax.xaxis.set_ticklabels(['happy', 'sad', 'angry']); ax.yaxis.set_ticklabels(['happy', 'sad', 'angry'])"
   ]
  },
  {
   "cell_type": "code",
   "execution_count": 14,
   "metadata": {},
   "outputs": [
    {
     "name": "stdout",
     "output_type": "stream",
     "text": [
      "Confusion Matrix : \n",
      " [[36  4  0]\n",
      " [12 27  1]\n",
      " [ 8  1 23]]\n",
      "              precision    recall  f1-score   support\n",
      "\n",
      "       happy       0.64      0.90      0.75        40\n",
      "         sad       0.84      0.68      0.75        40\n",
      "       angry       0.96      0.72      0.82        32\n",
      "\n",
      "    accuracy                           0.77       112\n",
      "   macro avg       0.81      0.76      0.77       112\n",
      "weighted avg       0.80      0.77      0.77       112\n",
      "\n"
     ]
    }
   ],
   "source": [
    "#grid_pred = grid.best_estimator_.predict(X_test)\n",
    "# overfitting\n",
    "cm = confusion_matrix(y_test, y_pred)\n",
    "\n",
    "print (\"Confusion Matrix : \\n\", cm)\n",
    "print(classification_report(y_test, grid_pred, target_names=['happy', 'sad', 'angry']))"
   ]
  },
  {
   "cell_type": "code",
   "execution_count": 16,
   "metadata": {},
   "outputs": [
    {
     "data": {
      "text/plain": [
       "[Text(0, 0.5, 'happy'), Text(0, 1.5, 'sad'), Text(0, 2.5, 'angry')]"
      ]
     },
     "execution_count": 16,
     "metadata": {},
     "output_type": "execute_result"
    },
    {
     "data": {
      "image/png": "[encoded data removed]",
      "text/plain": [
       "<Figure size 432x288 with 2 Axes>"
      ]
     },
     "metadata": {
      "needs_background": "light"
     },
     "output_type": "display_data"
    }
   ],
   "source": [
    "# overfitting\n",
    "import seaborn as sns\n",
    "ax= plt.subplot()\n",
    "sns.heatmap(cm, annot=True, fmt='g', ax=ax)\n",
    "ax.set_xlabel('Predicted labels');ax.set_ylabel('True labels');\n",
    "ax.set_title('Confusion Matrix') \n",
    "ax.xaxis.set_ticklabels(['happy', 'sad', 'angry']); ax.yaxis.set_ticklabels(['happy', 'sad', 'angry'])"
   ]
  },
  {
   "cell_type": "code",
   "execution_count": null,
   "metadata": {},
   "outputs": [],
   "source": []
  },
  {
   "cell_type": "code",
   "execution_count": null,
   "metadata": {},
   "outputs": [],
   "source": []
  }
 ],
 "metadata": {
  "colab": {
   "provenance": []
  },
  "kernelspec": {
   "display_name": "Python 3 (ipykernel)",
   "language": "python",
   "name": "python3"
  },
  "language_info": {
   "codemirror_mode": {
    "name": "ipython",
    "version": 3
   },
   "file_extension": ".py",
   "mimetype": "text/x-python",
   "name": "python",
   "nbconvert_exporter": "python",
   "pygments_lexer": "ipython3",
   "version": "3.9.7"
  },
  "vscode": {
   "interpreter": {
    "hash": "c6d397e88e0efbbd8219d03da9b3c5df077addb1f99cd1e82901e91b9cd0375e"
   }
  }
 },
 "nbformat": 4,
 "nbformat_minor": 4
}
