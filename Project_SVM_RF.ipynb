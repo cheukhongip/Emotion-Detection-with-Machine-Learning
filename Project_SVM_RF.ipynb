{
 "cells": [
  {
   "cell_type": "code",
   "execution_count": 31,
   "id": "c9c8936c",
   "metadata": {},
   "outputs": [],
   "source": [
    "import pandas as pd \n",
    "import numpy as np\n",
    "import matplotlib.pyplot as plt\n",
    "import glob\n",
    "from collections import defaultdict\n",
    "import os\n",
    "from sklearn import svm\n",
    "from sklearn.neighbors  import KNeighborsClassifier \n",
    "from sklearn.metrics import accuracy_score, precision_score, recall_score, classification_report, confusion_matrix \n",
    "from sklearn.tree import DecisionTreeClassifier\n",
    "from sklearn.ensemble import BaggingClassifier\n",
    "from sklearn.ensemble import RandomForestClassifier\n",
    "from sklearn.ensemble import AdaBoostClassifier\n",
    "from sklearn.ensemble import GradientBoostingClassifier\n",
    "from sklearn.model_selection import cross_val_score\n",
    "from sklearn.model_selection import RepeatedStratifiedKFold\n",
    "from numpy import mean\n",
    "from numpy import std\n",
    "from sklearn.tree import export_graphviz\n",
    "from sklearn.model_selection import KFold\n",
    "from sklearn.model_selection import RepeatedKFold\n",
    "from sklearn.model_selection import StratifiedKFold\n",
    "\n",
    "from sklearn.utils import shuffle\n",
    "\n",
    "from sklearn.model_selection import GridSearchCV"
   ]
  },
  {
   "cell_type": "code",
   "execution_count": 72,
   "id": "8bb06e77",
   "metadata": {},
   "outputs": [],
   "source": [
    "from sklearn.preprocessing import label_binarize\n",
    "from sklearn.multiclass import OneVsRestClassifier\n",
    "from sklearn.metrics import roc_auc_score\n",
    "from sklearn.metrics import roc_curve, auc\n",
    "from itertools import cycle"
   ]
  },
  {
   "cell_type": "markdown",
   "id": "15b2d5a7",
   "metadata": {},
   "source": [
    "# Load CSV"
   ]
  },
  {
   "cell_type": "markdown",
   "id": "3838f94a",
   "metadata": {},
   "source": [
    "## minmax pca97"
   ]
  },
  {
   "cell_type": "code",
   "execution_count": 81,
   "id": "0b9d45ec",
   "metadata": {
    "scrolled": true
   },
   "outputs": [],
   "source": [
    "train = pd.read_csv('./Training/Ready_to_train/x_train_minmax_pca_97.csv')\n",
    "train = shuffle(train)\n",
    "X_train = train.drop('class',axis=1)\n",
    "y_train = train.iloc[:,-1]\n",
    "test = pd.read_csv('./Training/Ready_to_train/x_test_minmax_pca_97.csv')\n",
    "X_test=test.drop('class',axis=1)\n",
    "y_test = test.iloc[:,-1]"
   ]
  },
  {
   "cell_type": "markdown",
   "id": "1b1238c1",
   "metadata": {},
   "source": [
    "# SVM"
   ]
  },
  {
   "cell_type": "code",
   "execution_count": 33,
   "id": "a212234c",
   "metadata": {},
   "outputs": [
    {
     "name": "stdout",
     "output_type": "stream",
     "text": [
      "              precision    recall  f1-score   support\n",
      "\n",
      "           0       0.77      0.68      0.72        40\n",
      "           1       0.71      0.80      0.75        40\n",
      "           2       1.00      1.00      1.00        32\n",
      "\n",
      "    accuracy                           0.81       112\n",
      "   macro avg       0.83      0.83      0.82       112\n",
      "weighted avg       0.82      0.81      0.81       112\n",
      "\n",
      "              precision    recall  f1-score   support\n",
      "\n",
      "           0       0.94      0.90      0.92      1163\n",
      "           1       0.90      0.96      0.92      1163\n",
      "           2       0.99      0.97      0.98      1163\n",
      "\n",
      "    accuracy                           0.94      3489\n",
      "   macro avg       0.94      0.94      0.94      3489\n",
      "weighted avg       0.94      0.94      0.94      3489\n",
      "\n"
     ]
    }
   ],
   "source": [
    "from sklearn.svm import SVC\n",
    "model = SVC()\n",
    "model.fit(X_train, y_train)\n",
    "# print prediction results \n",
    "print(classification_report(y_test, model.predict(X_test)))\n",
    "print(classification_report(y_train, model.predict(X_train)))"
   ]
  },
  {
   "cell_type": "markdown",
   "id": "1ec081c8",
   "metadata": {},
   "source": [
    "### confusion matrix"
   ]
  },
  {
   "cell_type": "code",
   "execution_count": 5,
   "id": "533d59d9",
   "metadata": {},
   "outputs": [
    {
     "name": "stdout",
     "output_type": "stream",
     "text": [
      "[[1046  110    7]\n",
      " [  48 1111    4]\n",
      " [  19   19 1125]]\n",
      "0.94067067927773\n"
     ]
    }
   ],
   "source": [
    "print(confusion_matrix(y_train,model.predict(X_train)))\n",
    "print(accuracy_score(y_train,model.predict(X_train)))"
   ]
  },
  {
   "cell_type": "code",
   "execution_count": 6,
   "id": "a2661a51",
   "metadata": {},
   "outputs": [
    {
     "name": "stdout",
     "output_type": "stream",
     "text": [
      "[[27 13  0]\n",
      " [ 8 32  0]\n",
      " [ 0  0 32]]\n",
      "0.8125\n"
     ]
    }
   ],
   "source": [
    "print(confusion_matrix(y_test,model.predict(X_test)))\n",
    "print(accuracy_score(y_test,model.predict(X_test)))"
   ]
  },
  {
   "cell_type": "markdown",
   "id": "ef1c7c1e",
   "metadata": {},
   "source": [
    "## Grid Search"
   ]
  },
  {
   "cell_type": "markdown",
   "id": "75a16821",
   "metadata": {},
   "source": [
    "### 1"
   ]
  },
  {
   "cell_type": "code",
   "execution_count": 7,
   "id": "43e7e2a2",
   "metadata": {},
   "outputs": [
    {
     "name": "stdout",
     "output_type": "stream",
     "text": [
      "Fitting 5 folds for each of 4 candidates, totalling 20 fits\n"
     ]
    },
    {
     "data": {
      "text/html": [
       "<style>#sk-container-id-1 {color: black;background-color: white;}#sk-container-id-1 pre{padding: 0;}#sk-container-id-1 div.sk-toggleable {background-color: white;}#sk-container-id-1 label.sk-toggleable__label {cursor: pointer;display: block;width: 100%;margin-bottom: 0;padding: 0.3em;box-sizing: border-box;text-align: center;}#sk-container-id-1 label.sk-toggleable__label-arrow:before {content: \"▸\";float: left;margin-right: 0.25em;color: #696969;}#sk-container-id-1 label.sk-toggleable__label-arrow:hover:before {color: black;}#sk-container-id-1 div.sk-estimator:hover label.sk-toggleable__label-arrow:before {color: black;}#sk-container-id-1 div.sk-toggleable__content {max-height: 0;max-width: 0;overflow: hidden;text-align: left;background-color: #f0f8ff;}#sk-container-id-1 div.sk-toggleable__content pre {margin: 0.2em;color: black;border-radius: 0.25em;background-color: #f0f8ff;}#sk-container-id-1 input.sk-toggleable__control:checked~div.sk-toggleable__content {max-height: 200px;max-width: 100%;overflow: auto;}#sk-container-id-1 input.sk-toggleable__control:checked~label.sk-toggleable__label-arrow:before {content: \"▾\";}#sk-container-id-1 div.sk-estimator input.sk-toggleable__control:checked~label.sk-toggleable__label {background-color: #d4ebff;}#sk-container-id-1 div.sk-label input.sk-toggleable__control:checked~label.sk-toggleable__label {background-color: #d4ebff;}#sk-container-id-1 input.sk-hidden--visually {border: 0;clip: rect(1px 1px 1px 1px);clip: rect(1px, 1px, 1px, 1px);height: 1px;margin: -1px;overflow: hidden;padding: 0;position: absolute;width: 1px;}#sk-container-id-1 div.sk-estimator {font-family: monospace;background-color: #f0f8ff;border: 1px dotted black;border-radius: 0.25em;box-sizing: border-box;margin-bottom: 0.5em;}#sk-container-id-1 div.sk-estimator:hover {background-color: #d4ebff;}#sk-container-id-1 div.sk-parallel-item::after {content: \"\";width: 100%;border-bottom: 1px solid gray;flex-grow: 1;}#sk-container-id-1 div.sk-label:hover label.sk-toggleable__label {background-color: #d4ebff;}#sk-container-id-1 div.sk-serial::before {content: \"\";position: absolute;border-left: 1px solid gray;box-sizing: border-box;top: 0;bottom: 0;left: 50%;z-index: 0;}#sk-container-id-1 div.sk-serial {display: flex;flex-direction: column;align-items: center;background-color: white;padding-right: 0.2em;padding-left: 0.2em;position: relative;}#sk-container-id-1 div.sk-item {position: relative;z-index: 1;}#sk-container-id-1 div.sk-parallel {display: flex;align-items: stretch;justify-content: center;background-color: white;position: relative;}#sk-container-id-1 div.sk-item::before, #sk-container-id-1 div.sk-parallel-item::before {content: \"\";position: absolute;border-left: 1px solid gray;box-sizing: border-box;top: 0;bottom: 0;left: 50%;z-index: -1;}#sk-container-id-1 div.sk-parallel-item {display: flex;flex-direction: column;z-index: 1;position: relative;background-color: white;}#sk-container-id-1 div.sk-parallel-item:first-child::after {align-self: flex-end;width: 50%;}#sk-container-id-1 div.sk-parallel-item:last-child::after {align-self: flex-start;width: 50%;}#sk-container-id-1 div.sk-parallel-item:only-child::after {width: 0;}#sk-container-id-1 div.sk-dashed-wrapped {border: 1px dashed gray;margin: 0 0.4em 0.5em 0.4em;box-sizing: border-box;padding-bottom: 0.4em;background-color: white;}#sk-container-id-1 div.sk-label label {font-family: monospace;font-weight: bold;display: inline-block;line-height: 1.2em;}#sk-container-id-1 div.sk-label-container {text-align: center;}#sk-container-id-1 div.sk-container {/* jupyter's `normalize.less` sets `[hidden] { display: none; }` but bootstrap.min.css set `[hidden] { display: none !important; }` so we also need the `!important` here to be able to override the default hidden behavior on the sphinx rendered scikit-learn.org. See: https://github.com/scikit-learn/scikit-learn/issues/21755 */display: inline-block !important;position: relative;}#sk-container-id-1 div.sk-text-repr-fallback {display: none;}</style><div id=\"sk-container-id-1\" class=\"sk-top-container\"><div class=\"sk-text-repr-fallback\"><pre>GridSearchCV(cv=5, estimator=SVC(), n_jobs=-1,\n",
       "             param_grid={&#x27;kernel&#x27;: [&#x27;rbf&#x27;, &#x27;linear&#x27;, &#x27;poly&#x27;, &#x27;sigmoid&#x27;]},\n",
       "             verbose=3)</pre><b>In a Jupyter environment, please rerun this cell to show the HTML representation or trust the notebook. <br />On GitHub, the HTML representation is unable to render, please try loading this page with nbviewer.org.</b></div><div class=\"sk-container\" hidden><div class=\"sk-item sk-dashed-wrapped\"><div class=\"sk-label-container\"><div class=\"sk-label sk-toggleable\"><input class=\"sk-toggleable__control sk-hidden--visually\" id=\"sk-estimator-id-1\" type=\"checkbox\" ><label for=\"sk-estimator-id-1\" class=\"sk-toggleable__label sk-toggleable__label-arrow\">GridSearchCV</label><div class=\"sk-toggleable__content\"><pre>GridSearchCV(cv=5, estimator=SVC(), n_jobs=-1,\n",
       "             param_grid={&#x27;kernel&#x27;: [&#x27;rbf&#x27;, &#x27;linear&#x27;, &#x27;poly&#x27;, &#x27;sigmoid&#x27;]},\n",
       "             verbose=3)</pre></div></div></div><div class=\"sk-parallel\"><div class=\"sk-parallel-item\"><div class=\"sk-item\"><div class=\"sk-label-container\"><div class=\"sk-label sk-toggleable\"><input class=\"sk-toggleable__control sk-hidden--visually\" id=\"sk-estimator-id-2\" type=\"checkbox\" ><label for=\"sk-estimator-id-2\" class=\"sk-toggleable__label sk-toggleable__label-arrow\">estimator: SVC</label><div class=\"sk-toggleable__content\"><pre>SVC()</pre></div></div></div><div class=\"sk-serial\"><div class=\"sk-item\"><div class=\"sk-estimator sk-toggleable\"><input class=\"sk-toggleable__control sk-hidden--visually\" id=\"sk-estimator-id-3\" type=\"checkbox\" ><label for=\"sk-estimator-id-3\" class=\"sk-toggleable__label sk-toggleable__label-arrow\">SVC</label><div class=\"sk-toggleable__content\"><pre>SVC()</pre></div></div></div></div></div></div></div></div></div></div>"
      ],
      "text/plain": [
       "GridSearchCV(cv=5, estimator=SVC(), n_jobs=-1,\n",
       "             param_grid={'kernel': ['rbf', 'linear', 'poly', 'sigmoid']},\n",
       "             verbose=3)"
      ]
     },
     "execution_count": 7,
     "metadata": {},
     "output_type": "execute_result"
    }
   ],
   "source": [
    "from sklearn.model_selection import GridSearchCV\n",
    "\n",
    "# defining parameter range\n",
    "param_grid = {'kernel': ['rbf','linear','poly','sigmoid']}\n",
    "\n",
    "grid = GridSearchCV(SVC(), param_grid, refit = True, verbose = 3, cv=5, n_jobs=-1)\n",
    "\n",
    "# fitting the model for grid search\n",
    "grid.fit(X_train, y_train)"
   ]
  },
  {
   "cell_type": "code",
   "execution_count": 8,
   "id": "2b5d56d0",
   "metadata": {},
   "outputs": [
    {
     "data": {
      "text/html": [
       "<div>\n",
       "<style scoped>\n",
       "    .dataframe tbody tr th:only-of-type {\n",
       "        vertical-align: middle;\n",
       "    }\n",
       "\n",
       "    .dataframe tbody tr th {\n",
       "        vertical-align: top;\n",
       "    }\n",
       "\n",
       "    .dataframe thead th {\n",
       "        text-align: right;\n",
       "    }\n",
       "</style>\n",
       "<table border=\"1\" class=\"dataframe\">\n",
       "  <thead>\n",
       "    <tr style=\"text-align: right;\">\n",
       "      <th></th>\n",
       "      <th>mean_fit_time</th>\n",
       "      <th>std_fit_time</th>\n",
       "      <th>mean_score_time</th>\n",
       "      <th>std_score_time</th>\n",
       "      <th>param_kernel</th>\n",
       "      <th>params</th>\n",
       "      <th>split0_test_score</th>\n",
       "      <th>split1_test_score</th>\n",
       "      <th>split2_test_score</th>\n",
       "      <th>split3_test_score</th>\n",
       "      <th>split4_test_score</th>\n",
       "      <th>mean_test_score</th>\n",
       "      <th>std_test_score</th>\n",
       "      <th>rank_test_score</th>\n",
       "    </tr>\n",
       "  </thead>\n",
       "  <tbody>\n",
       "    <tr>\n",
       "      <th>0</th>\n",
       "      <td>24.496912</td>\n",
       "      <td>4.185313</td>\n",
       "      <td>6.774024</td>\n",
       "      <td>2.442802</td>\n",
       "      <td>rbf</td>\n",
       "      <td>{'kernel': 'rbf'}</td>\n",
       "      <td>0.825215</td>\n",
       "      <td>0.816619</td>\n",
       "      <td>0.840974</td>\n",
       "      <td>0.836676</td>\n",
       "      <td>0.820660</td>\n",
       "      <td>0.828029</td>\n",
       "      <td>0.009325</td>\n",
       "      <td>1</td>\n",
       "    </tr>\n",
       "    <tr>\n",
       "      <th>2</th>\n",
       "      <td>26.717976</td>\n",
       "      <td>2.539473</td>\n",
       "      <td>4.187061</td>\n",
       "      <td>1.355559</td>\n",
       "      <td>poly</td>\n",
       "      <td>{'kernel': 'poly'}</td>\n",
       "      <td>0.787966</td>\n",
       "      <td>0.793696</td>\n",
       "      <td>0.803725</td>\n",
       "      <td>0.830946</td>\n",
       "      <td>0.816356</td>\n",
       "      <td>0.806538</td>\n",
       "      <td>0.015556</td>\n",
       "      <td>2</td>\n",
       "    </tr>\n",
       "  </tbody>\n",
       "</table>\n",
       "</div>"
      ],
      "text/plain": [
       "   mean_fit_time  std_fit_time  mean_score_time  std_score_time param_kernel  \\\n",
       "0      24.496912      4.185313         6.774024        2.442802          rbf   \n",
       "2      26.717976      2.539473         4.187061        1.355559         poly   \n",
       "\n",
       "               params  split0_test_score  split1_test_score  \\\n",
       "0   {'kernel': 'rbf'}           0.825215           0.816619   \n",
       "2  {'kernel': 'poly'}           0.787966           0.793696   \n",
       "\n",
       "   split2_test_score  split3_test_score  split4_test_score  mean_test_score  \\\n",
       "0           0.840974           0.836676           0.820660         0.828029   \n",
       "2           0.803725           0.830946           0.816356         0.806538   \n",
       "\n",
       "   std_test_score  rank_test_score  \n",
       "0        0.009325                1  \n",
       "2        0.015556                2  "
      ]
     },
     "execution_count": 8,
     "metadata": {},
     "output_type": "execute_result"
    }
   ],
   "source": [
    "result = pd.DataFrame(grid.cv_results_)#[['params','mean_test_score','rank_test_score']]\n",
    "result.sort_values(by=['mean_test_score'],ascending=False).head(2)"
   ]
  },
  {
   "cell_type": "code",
   "execution_count": 9,
   "id": "f3ca20d2",
   "metadata": {},
   "outputs": [
    {
     "name": "stdout",
     "output_type": "stream",
     "text": [
      "{'kernel': 'rbf'}\n",
      "0.94067067927773\n",
      "0.8125\n"
     ]
    }
   ],
   "source": [
    "print(grid.best_params_)\n",
    "print(grid.score(X_train,y_train))\n",
    "print(grid.score(X_test,y_test))"
   ]
  },
  {
   "cell_type": "markdown",
   "id": "9e33fcd2",
   "metadata": {},
   "source": [
    "### 2"
   ]
  },
  {
   "cell_type": "code",
   "execution_count": 10,
   "id": "9d0e1ec3",
   "metadata": {},
   "outputs": [
    {
     "name": "stdout",
     "output_type": "stream",
     "text": [
      "Fitting 5 folds for each of 42 candidates, totalling 210 fits\n"
     ]
    },
    {
     "data": {
      "text/html": [
       "<style>#sk-container-id-2 {color: black;background-color: white;}#sk-container-id-2 pre{padding: 0;}#sk-container-id-2 div.sk-toggleable {background-color: white;}#sk-container-id-2 label.sk-toggleable__label {cursor: pointer;display: block;width: 100%;margin-bottom: 0;padding: 0.3em;box-sizing: border-box;text-align: center;}#sk-container-id-2 label.sk-toggleable__label-arrow:before {content: \"▸\";float: left;margin-right: 0.25em;color: #696969;}#sk-container-id-2 label.sk-toggleable__label-arrow:hover:before {color: black;}#sk-container-id-2 div.sk-estimator:hover label.sk-toggleable__label-arrow:before {color: black;}#sk-container-id-2 div.sk-toggleable__content {max-height: 0;max-width: 0;overflow: hidden;text-align: left;background-color: #f0f8ff;}#sk-container-id-2 div.sk-toggleable__content pre {margin: 0.2em;color: black;border-radius: 0.25em;background-color: #f0f8ff;}#sk-container-id-2 input.sk-toggleable__control:checked~div.sk-toggleable__content {max-height: 200px;max-width: 100%;overflow: auto;}#sk-container-id-2 input.sk-toggleable__control:checked~label.sk-toggleable__label-arrow:before {content: \"▾\";}#sk-container-id-2 div.sk-estimator input.sk-toggleable__control:checked~label.sk-toggleable__label {background-color: #d4ebff;}#sk-container-id-2 div.sk-label input.sk-toggleable__control:checked~label.sk-toggleable__label {background-color: #d4ebff;}#sk-container-id-2 input.sk-hidden--visually {border: 0;clip: rect(1px 1px 1px 1px);clip: rect(1px, 1px, 1px, 1px);height: 1px;margin: -1px;overflow: hidden;padding: 0;position: absolute;width: 1px;}#sk-container-id-2 div.sk-estimator {font-family: monospace;background-color: #f0f8ff;border: 1px dotted black;border-radius: 0.25em;box-sizing: border-box;margin-bottom: 0.5em;}#sk-container-id-2 div.sk-estimator:hover {background-color: #d4ebff;}#sk-container-id-2 div.sk-parallel-item::after {content: \"\";width: 100%;border-bottom: 1px solid gray;flex-grow: 1;}#sk-container-id-2 div.sk-label:hover label.sk-toggleable__label {background-color: #d4ebff;}#sk-container-id-2 div.sk-serial::before {content: \"\";position: absolute;border-left: 1px solid gray;box-sizing: border-box;top: 0;bottom: 0;left: 50%;z-index: 0;}#sk-container-id-2 div.sk-serial {display: flex;flex-direction: column;align-items: center;background-color: white;padding-right: 0.2em;padding-left: 0.2em;position: relative;}#sk-container-id-2 div.sk-item {position: relative;z-index: 1;}#sk-container-id-2 div.sk-parallel {display: flex;align-items: stretch;justify-content: center;background-color: white;position: relative;}#sk-container-id-2 div.sk-item::before, #sk-container-id-2 div.sk-parallel-item::before {content: \"\";position: absolute;border-left: 1px solid gray;box-sizing: border-box;top: 0;bottom: 0;left: 50%;z-index: -1;}#sk-container-id-2 div.sk-parallel-item {display: flex;flex-direction: column;z-index: 1;position: relative;background-color: white;}#sk-container-id-2 div.sk-parallel-item:first-child::after {align-self: flex-end;width: 50%;}#sk-container-id-2 div.sk-parallel-item:last-child::after {align-self: flex-start;width: 50%;}#sk-container-id-2 div.sk-parallel-item:only-child::after {width: 0;}#sk-container-id-2 div.sk-dashed-wrapped {border: 1px dashed gray;margin: 0 0.4em 0.5em 0.4em;box-sizing: border-box;padding-bottom: 0.4em;background-color: white;}#sk-container-id-2 div.sk-label label {font-family: monospace;font-weight: bold;display: inline-block;line-height: 1.2em;}#sk-container-id-2 div.sk-label-container {text-align: center;}#sk-container-id-2 div.sk-container {/* jupyter's `normalize.less` sets `[hidden] { display: none; }` but bootstrap.min.css set `[hidden] { display: none !important; }` so we also need the `!important` here to be able to override the default hidden behavior on the sphinx rendered scikit-learn.org. See: https://github.com/scikit-learn/scikit-learn/issues/21755 */display: inline-block !important;position: relative;}#sk-container-id-2 div.sk-text-repr-fallback {display: none;}</style><div id=\"sk-container-id-2\" class=\"sk-top-container\"><div class=\"sk-text-repr-fallback\"><pre>GridSearchCV(cv=5, estimator=SVC(), n_jobs=-1,\n",
       "             param_grid={&#x27;C&#x27;: array([ 10,  20,  30,  40,  50,  60,  70,  80,  90, 100, 110, 120, 130,\n",
       "       140, 150, 160, 170, 180, 190, 200, 210]),\n",
       "                         &#x27;gamma&#x27;: [&#x27;auto&#x27;, &#x27;scale&#x27;]},\n",
       "             verbose=3)</pre><b>In a Jupyter environment, please rerun this cell to show the HTML representation or trust the notebook. <br />On GitHub, the HTML representation is unable to render, please try loading this page with nbviewer.org.</b></div><div class=\"sk-container\" hidden><div class=\"sk-item sk-dashed-wrapped\"><div class=\"sk-label-container\"><div class=\"sk-label sk-toggleable\"><input class=\"sk-toggleable__control sk-hidden--visually\" id=\"sk-estimator-id-4\" type=\"checkbox\" ><label for=\"sk-estimator-id-4\" class=\"sk-toggleable__label sk-toggleable__label-arrow\">GridSearchCV</label><div class=\"sk-toggleable__content\"><pre>GridSearchCV(cv=5, estimator=SVC(), n_jobs=-1,\n",
       "             param_grid={&#x27;C&#x27;: array([ 10,  20,  30,  40,  50,  60,  70,  80,  90, 100, 110, 120, 130,\n",
       "       140, 150, 160, 170, 180, 190, 200, 210]),\n",
       "                         &#x27;gamma&#x27;: [&#x27;auto&#x27;, &#x27;scale&#x27;]},\n",
       "             verbose=3)</pre></div></div></div><div class=\"sk-parallel\"><div class=\"sk-parallel-item\"><div class=\"sk-item\"><div class=\"sk-label-container\"><div class=\"sk-label sk-toggleable\"><input class=\"sk-toggleable__control sk-hidden--visually\" id=\"sk-estimator-id-5\" type=\"checkbox\" ><label for=\"sk-estimator-id-5\" class=\"sk-toggleable__label sk-toggleable__label-arrow\">estimator: SVC</label><div class=\"sk-toggleable__content\"><pre>SVC()</pre></div></div></div><div class=\"sk-serial\"><div class=\"sk-item\"><div class=\"sk-estimator sk-toggleable\"><input class=\"sk-toggleable__control sk-hidden--visually\" id=\"sk-estimator-id-6\" type=\"checkbox\" ><label for=\"sk-estimator-id-6\" class=\"sk-toggleable__label sk-toggleable__label-arrow\">SVC</label><div class=\"sk-toggleable__content\"><pre>SVC()</pre></div></div></div></div></div></div></div></div></div></div>"
      ],
      "text/plain": [
       "GridSearchCV(cv=5, estimator=SVC(), n_jobs=-1,\n",
       "             param_grid={'C': array([ 10,  20,  30,  40,  50,  60,  70,  80,  90, 100, 110, 120, 130,\n",
       "       140, 150, 160, 170, 180, 190, 200, 210]),\n",
       "                         'gamma': ['auto', 'scale']},\n",
       "             verbose=3)"
      ]
     },
     "execution_count": 10,
     "metadata": {},
     "output_type": "execute_result"
    }
   ],
   "source": [
    "# defining parameter range\n",
    "rng_C=np.arange(1,102,5)\n",
    "param_grid = {'C': rng_C,\n",
    "             'gamma': ['auto','scale',]}\n",
    "\n",
    "grid = GridSearchCV(SVC(), param_grid, refit = True, verbose = 3,cv=5, n_jobs=-1)\n",
    "\n",
    "# fitting the model for grid search\n",
    "grid.fit(X_train, y_train)"
   ]
  },
  {
   "cell_type": "code",
   "execution_count": 11,
   "id": "1cf62ac8",
   "metadata": {},
   "outputs": [
    {
     "data": {
      "text/html": [
       "<div>\n",
       "<style scoped>\n",
       "    .dataframe tbody tr th:only-of-type {\n",
       "        vertical-align: middle;\n",
       "    }\n",
       "\n",
       "    .dataframe tbody tr th {\n",
       "        vertical-align: top;\n",
       "    }\n",
       "\n",
       "    .dataframe thead th {\n",
       "        text-align: right;\n",
       "    }\n",
       "</style>\n",
       "<table border=\"1\" class=\"dataframe\">\n",
       "  <thead>\n",
       "    <tr style=\"text-align: right;\">\n",
       "      <th></th>\n",
       "      <th>mean_fit_time</th>\n",
       "      <th>std_fit_time</th>\n",
       "      <th>mean_score_time</th>\n",
       "      <th>std_score_time</th>\n",
       "      <th>param_C</th>\n",
       "      <th>param_gamma</th>\n",
       "      <th>params</th>\n",
       "      <th>split0_test_score</th>\n",
       "      <th>split1_test_score</th>\n",
       "      <th>split2_test_score</th>\n",
       "      <th>split3_test_score</th>\n",
       "      <th>split4_test_score</th>\n",
       "      <th>mean_test_score</th>\n",
       "      <th>std_test_score</th>\n",
       "      <th>rank_test_score</th>\n",
       "    </tr>\n",
       "  </thead>\n",
       "  <tbody>\n",
       "    <tr>\n",
       "      <th>21</th>\n",
       "      <td>34.456186</td>\n",
       "      <td>9.713565</td>\n",
       "      <td>10.637225</td>\n",
       "      <td>3.267618</td>\n",
       "      <td>110</td>\n",
       "      <td>scale</td>\n",
       "      <td>{'C': 110, 'gamma': 'scale'}</td>\n",
       "      <td>0.885387</td>\n",
       "      <td>0.862464</td>\n",
       "      <td>0.893983</td>\n",
       "      <td>0.885387</td>\n",
       "      <td>0.862267</td>\n",
       "      <td>0.877897</td>\n",
       "      <td>0.013065</td>\n",
       "      <td>1</td>\n",
       "    </tr>\n",
       "    <tr>\n",
       "      <th>15</th>\n",
       "      <td>32.586062</td>\n",
       "      <td>8.527201</td>\n",
       "      <td>9.020760</td>\n",
       "      <td>2.929502</td>\n",
       "      <td>80</td>\n",
       "      <td>scale</td>\n",
       "      <td>{'C': 80, 'gamma': 'scale'}</td>\n",
       "      <td>0.885387</td>\n",
       "      <td>0.862464</td>\n",
       "      <td>0.893983</td>\n",
       "      <td>0.885387</td>\n",
       "      <td>0.862267</td>\n",
       "      <td>0.877897</td>\n",
       "      <td>0.013065</td>\n",
       "      <td>1</td>\n",
       "    </tr>\n",
       "  </tbody>\n",
       "</table>\n",
       "</div>"
      ],
      "text/plain": [
       "    mean_fit_time  std_fit_time  mean_score_time  std_score_time param_C  \\\n",
       "21      34.456186      9.713565        10.637225        3.267618     110   \n",
       "15      32.586062      8.527201         9.020760        2.929502      80   \n",
       "\n",
       "   param_gamma                        params  split0_test_score  \\\n",
       "21       scale  {'C': 110, 'gamma': 'scale'}           0.885387   \n",
       "15       scale   {'C': 80, 'gamma': 'scale'}           0.885387   \n",
       "\n",
       "    split1_test_score  split2_test_score  split3_test_score  \\\n",
       "21           0.862464           0.893983           0.885387   \n",
       "15           0.862464           0.893983           0.885387   \n",
       "\n",
       "    split4_test_score  mean_test_score  std_test_score  rank_test_score  \n",
       "21           0.862267         0.877897        0.013065                1  \n",
       "15           0.862267         0.877897        0.013065                1  "
      ]
     },
     "execution_count": 11,
     "metadata": {},
     "output_type": "execute_result"
    }
   ],
   "source": [
    "result = pd.DataFrame(grid.cv_results_)#[['params','mean_test_score','rank_test_score']]\n",
    "result.sort_values(by=['mean_test_score'],ascending=False).head(2)"
   ]
  },
  {
   "cell_type": "code",
   "execution_count": 12,
   "id": "4bbefdbb",
   "metadata": {},
   "outputs": [
    {
     "name": "stdout",
     "output_type": "stream",
     "text": [
      "{'C': 10, 'gamma': 'scale'}\n",
      "1.0\n",
      "0.8214285714285714\n"
     ]
    }
   ],
   "source": [
    "print(grid.best_params_)\n",
    "print(grid.score(X_train,y_train))\n",
    "print(grid.score(X_test,y_test))"
   ]
  },
  {
   "cell_type": "code",
   "execution_count": 13,
   "id": "45238b30",
   "metadata": {
    "scrolled": true
   },
   "outputs": [
    {
     "name": "stdout",
     "output_type": "stream",
     "text": [
      "              precision    recall  f1-score   support\n",
      "\n",
      "           0       0.79      0.75      0.77        40\n",
      "           1       0.74      0.80      0.77        40\n",
      "           2       0.97      0.94      0.95        32\n",
      "\n",
      "    accuracy                           0.82       112\n",
      "   macro avg       0.83      0.83      0.83       112\n",
      "weighted avg       0.82      0.82      0.82       112\n",
      "\n",
      "              precision    recall  f1-score   support\n",
      "\n",
      "           0       1.00      1.00      1.00      1163\n",
      "           1       1.00      1.00      1.00      1163\n",
      "           2       1.00      1.00      1.00      1163\n",
      "\n",
      "    accuracy                           1.00      3489\n",
      "   macro avg       1.00      1.00      1.00      3489\n",
      "weighted avg       1.00      1.00      1.00      3489\n",
      "\n"
     ]
    }
   ],
   "source": [
    "print(classification_report(y_test, grid.predict(X_test)))\n",
    "print(classification_report(y_train, grid.predict(X_train)))"
   ]
  },
  {
   "cell_type": "code",
   "execution_count": 82,
   "id": "7764d2b8",
   "metadata": {
    "scrolled": true
   },
   "outputs": [
    {
     "name": "stdout",
     "output_type": "stream",
     "text": [
      "              precision    recall  f1-score   support\n",
      "\n",
      "           0       0.79      0.75      0.77        40\n",
      "           1       0.74      0.80      0.77        40\n",
      "           2       0.97      0.94      0.95        32\n",
      "\n",
      "    accuracy                           0.82       112\n",
      "   macro avg       0.83      0.83      0.83       112\n",
      "weighted avg       0.82      0.82      0.82       112\n",
      "\n",
      "              precision    recall  f1-score   support\n",
      "\n",
      "           0       1.00      1.00      1.00      1163\n",
      "           1       1.00      1.00      1.00      1163\n",
      "           2       1.00      1.00      1.00      1163\n",
      "\n",
      "    accuracy                           1.00      3489\n",
      "   macro avg       1.00      1.00      1.00      3489\n",
      "weighted avg       1.00      1.00      1.00      3489\n",
      "\n"
     ]
    }
   ],
   "source": [
    "model_svc = SVC(C=10, gamma='scale', probability=True)\n",
    "model_svc.fit(X_train, y_train)\n",
    "# print prediction results \n",
    "print(classification_report(y_test, model_svc.predict(X_test)))\n",
    "print(classification_report(y_train, model_svc.predict(X_train)))"
   ]
  },
  {
   "cell_type": "code",
   "execution_count": 96,
   "id": "3cafeae8",
   "metadata": {},
   "outputs": [
    {
     "data": {
      "image/png": "[encoded data removed]",
      "text/plain": [
       "<Figure size 432x288 with 1 Axes>"
      ]
     },
     "metadata": {
      "needs_background": "light"
     },
     "output_type": "display_data"
    }
   ],
   "source": [
    "# Binarize the output\n",
    "y_train1=label_binarize(y_train, classes=[0,1,2])\n",
    "y_test1=label_binarize(y_test, classes=[0,1,2])\n",
    "\n",
    "y_score=model_svc.decision_function(X_test)\n",
    "n_classes = 3\n",
    "lw=2\n",
    "\n",
    "# Compute ROC curve and ROC area for each class\n",
    "fpr = dict()\n",
    "tpr = dict()\n",
    "roc_auc = dict()\n",
    "for i in range(n_classes):\n",
    "    fpr[i], tpr[i], _ = roc_curve(y_test1[:, i], y_score[:, i])\n",
    "    roc_auc[i] = auc(fpr[i], tpr[i])\n",
    "# First aggregate all false positive rates\n",
    "all_fpr = np.unique(np.concatenate([fpr[i] for i in range(n_classes)]))\n",
    "\n",
    "# Then interpolate all ROC curves at this points\n",
    "mean_tpr = np.zeros_like(all_fpr)\n",
    "for i in range(n_classes):\n",
    "    mean_tpr += np.interp(all_fpr, fpr[i], tpr[i])\n",
    "\n",
    "# Finally average it and compute AUC\n",
    "mean_tpr /= n_classes\n",
    "\n",
    "fpr[\"macro\"] = all_fpr\n",
    "tpr[\"macro\"] = mean_tpr\n",
    "roc_auc[\"macro\"] = auc(fpr[\"macro\"], tpr[\"macro\"])\n",
    "\n",
    "# Plot all ROC curves\n",
    "\n",
    "plt.plot(\n",
    "    fpr[\"macro\"],\n",
    "    tpr[\"macro\"],\n",
    "    label=\"macro-average ROC curve (area = {0:0.2f})\".format(roc_auc[\"macro\"]),\n",
    "    color=\"navy\",\n",
    "    linestyle=\":\",\n",
    "    linewidth=4,\n",
    ")\n",
    "\n",
    "colors = cycle([\"aqua\", \"darkorange\", \"cornflowerblue\"])\n",
    "emo_class=['happy','sad','angry']\n",
    "for i, color in zip(range(n_classes), colors):\n",
    "    plt.plot(\n",
    "        fpr[i],\n",
    "        tpr[i],\n",
    "        color=color,\n",
    "        lw=lw,\n",
    "        label=\"ROC curve of class {0} (area = {1:0.2f})\".format(emo_class[i], roc_auc[i]),\n",
    "    )\n",
    "\n",
    "\n",
    "plt.plot([0, 1], [0, 1], \"k--\", lw=lw)\n",
    "plt.xlim([0.0, 1.0])\n",
    "plt.ylim([0.0, 1.05])\n",
    "plt.xlabel(\"False Positive Rate\")\n",
    "plt.ylabel(\"True Positive Rate\")\n",
    "plt.title(\"ROC Curve for SVM\")\n",
    "plt.legend(loc=\"lower right\")\n",
    "plt.show()"
   ]
  },
  {
   "cell_type": "markdown",
   "id": "6fd7386a",
   "metadata": {},
   "source": [
    "# RF"
   ]
  },
  {
   "cell_type": "code",
   "execution_count": 4,
   "id": "96e1390a",
   "metadata": {},
   "outputs": [
    {
     "name": "stdout",
     "output_type": "stream",
     "text": [
      "              precision    recall  f1-score   support\n",
      "\n",
      "           0       0.59      0.47      0.53        40\n",
      "           1       0.61      0.68      0.64        40\n",
      "           2       0.72      0.81      0.76        32\n",
      "\n",
      "    accuracy                           0.64       112\n",
      "   macro avg       0.64      0.65      0.65       112\n",
      "weighted avg       0.64      0.64      0.64       112\n",
      "\n",
      "              precision    recall  f1-score   support\n",
      "\n",
      "           0       1.00      1.00      1.00      1163\n",
      "           1       1.00      1.00      1.00      1163\n",
      "           2       1.00      1.00      1.00      1163\n",
      "\n",
      "    accuracy                           1.00      3489\n",
      "   macro avg       1.00      1.00      1.00      3489\n",
      "weighted avg       1.00      1.00      1.00      3489\n",
      "\n"
     ]
    }
   ],
   "source": [
    "rf_model=RandomForestClassifier()\n",
    "rf_model.fit(X_train, y_train)\n",
    "# print prediction results \n",
    "print(classification_report(y_test, rf_model.predict(X_test)))\n",
    "print(classification_report(y_train, rf_model.predict(X_train)))"
   ]
  },
  {
   "cell_type": "markdown",
   "id": "be024a70",
   "metadata": {},
   "source": [
    "### confusion matrix"
   ]
  },
  {
   "cell_type": "code",
   "execution_count": 5,
   "id": "60554f0a",
   "metadata": {},
   "outputs": [
    {
     "name": "stdout",
     "output_type": "stream",
     "text": [
      "[[1163    0    0]\n",
      " [   0 1163    0]\n",
      " [   0    0 1163]]\n",
      "1.0\n"
     ]
    }
   ],
   "source": [
    "print(confusion_matrix(y_train,rf_model.predict(X_train)))\n",
    "print(accuracy_score(y_train,rf_model.predict(X_train)))"
   ]
  },
  {
   "cell_type": "code",
   "execution_count": 6,
   "id": "557eb5ae",
   "metadata": {},
   "outputs": [
    {
     "name": "stdout",
     "output_type": "stream",
     "text": [
      "[[19 14  7]\n",
      " [10 27  3]\n",
      " [ 3  3 26]]\n",
      "0.6428571428571429\n"
     ]
    }
   ],
   "source": [
    "print(confusion_matrix(y_test,rf_model.predict(X_test)))\n",
    "print(accuracy_score(y_test,rf_model.predict(X_test)))"
   ]
  },
  {
   "cell_type": "markdown",
   "id": "494bff6f",
   "metadata": {},
   "source": [
    "## Grid Search"
   ]
  },
  {
   "cell_type": "code",
   "execution_count": 7,
   "id": "af15e058",
   "metadata": {},
   "outputs": [
    {
     "name": "stdout",
     "output_type": "stream",
     "text": [
      "Fitting 5 folds for each of 3960 candidates, totalling 19800 fits\n"
     ]
    },
    {
     "name": "stderr",
     "output_type": "stream",
     "text": [
      "[Parallel(n_jobs=-1)]: Using backend LokyBackend with 8 concurrent workers.\n",
      "[Parallel(n_jobs=-1)]: Done  16 tasks      | elapsed:   24.9s\n",
      "[Parallel(n_jobs=-1)]: Done 112 tasks      | elapsed:  3.7min\n",
      "[Parallel(n_jobs=-1)]: Done 272 tasks      | elapsed: 10.0min\n",
      "[Parallel(n_jobs=-1)]: Done 496 tasks      | elapsed: 18.9min\n",
      "[Parallel(n_jobs=-1)]: Done 784 tasks      | elapsed: 29.9min\n",
      "[Parallel(n_jobs=-1)]: Done 1136 tasks      | elapsed: 43.2min\n",
      "[Parallel(n_jobs=-1)]: Done 1552 tasks      | elapsed: 58.6min\n",
      "[Parallel(n_jobs=-1)]: Done 2032 tasks      | elapsed: 76.2min\n",
      "[Parallel(n_jobs=-1)]: Done 2576 tasks      | elapsed: 95.2min\n",
      "[Parallel(n_jobs=-1)]: Done 3184 tasks      | elapsed: 116.0min\n",
      "[Parallel(n_jobs=-1)]: Done 3856 tasks      | elapsed: 138.4min\n",
      "[Parallel(n_jobs=-1)]: Done 4592 tasks      | elapsed: 161.8min\n",
      "[Parallel(n_jobs=-1)]: Done 5392 tasks      | elapsed: 190.9min\n",
      "[Parallel(n_jobs=-1)]: Done 6256 tasks      | elapsed: 223.8min\n",
      "[Parallel(n_jobs=-1)]: Done 7184 tasks      | elapsed: 257.2min\n",
      "[Parallel(n_jobs=-1)]: Done 8176 tasks      | elapsed: 291.2min\n",
      "[Parallel(n_jobs=-1)]: Done 9232 tasks      | elapsed: 326.0min\n",
      "[Parallel(n_jobs=-1)]: Done 10352 tasks      | elapsed: 376.9min\n",
      "[Parallel(n_jobs=-1)]: Done 11536 tasks      | elapsed: 452.2min\n",
      "[Parallel(n_jobs=-1)]: Done 12784 tasks      | elapsed: 527.0min\n",
      "[Parallel(n_jobs=-1)]: Done 14096 tasks      | elapsed: 601.4min\n",
      "[Parallel(n_jobs=-1)]: Done 15472 tasks      | elapsed: 683.4min\n",
      "[Parallel(n_jobs=-1)]: Done 16912 tasks      | elapsed: 773.1min\n",
      "[Parallel(n_jobs=-1)]: Done 18416 tasks      | elapsed: 861.3min\n",
      "[Parallel(n_jobs=-1)]: Done 19800 out of 19800 | elapsed: 938.0min finished\n"
     ]
    },
    {
     "data": {
      "text/plain": [
       "GridSearchCV(cv=5, estimator=RandomForestClassifier(), n_jobs=-1,\n",
       "             param_grid={'bootstrap': [True, False],\n",
       "                         'max_features': ['auto', 'sqrt'],\n",
       "                         'min_samples_leaf': array([ 1,  2,  3,  4,  5,  6,  7,  8,  9, 10]),\n",
       "                         'min_samples_split': array([ 2,  3,  4,  5,  6,  7,  8,  9, 10]),\n",
       "                         'n_estimators': array([100, 120, 140, 160, 180, 200, 220, 240, 260, 280, 300])},\n",
       "             verbose=3)"
      ]
     },
     "execution_count": 7,
     "metadata": {},
     "output_type": "execute_result"
    }
   ],
   "source": [
    "# defining parameter range\n",
    "\n",
    "#number of trees\n",
    "n_estimators=np.arange(100,302,20)\n",
    "#number of features\n",
    "max_features=['auto','sqrt']\n",
    "#max levels\n",
    "#max_depth=None\n",
    "#min number of samples to split a node\n",
    "min_samples_split=np.arange(2,11,1)\n",
    "#min number of samples each leaf node\n",
    "min_samples_leaf=np.arange(1,11,1)\n",
    "#method selecting sample for training each tree\n",
    "bootstrap=[True,False]\n",
    "\n",
    "param_grid = {'n_estimators': n_estimators,\n",
    "              'max_features':max_features,\n",
    "              'min_samples_split':min_samples_split,\n",
    "              'min_samples_leaf':min_samples_leaf,\n",
    "              'bootstrap':bootstrap\n",
    "             }\n",
    "\n",
    "rf_Grid = GridSearchCV(rf_model, param_grid, cv=5, refit = True, verbose = 3, n_jobs=-1)\n",
    "\n",
    "# fitting the model for grid search\n",
    "rf_Grid.fit(X_train, y_train)\n"
   ]
  },
  {
   "cell_type": "code",
   "execution_count": 8,
   "id": "472aed16",
   "metadata": {},
   "outputs": [
    {
     "data": {
      "text/html": [
       "<div>\n",
       "<style scoped>\n",
       "    .dataframe tbody tr th:only-of-type {\n",
       "        vertical-align: middle;\n",
       "    }\n",
       "\n",
       "    .dataframe tbody tr th {\n",
       "        vertical-align: top;\n",
       "    }\n",
       "\n",
       "    .dataframe thead th {\n",
       "        text-align: right;\n",
       "    }\n",
       "</style>\n",
       "<table border=\"1\" class=\"dataframe\">\n",
       "  <thead>\n",
       "    <tr style=\"text-align: right;\">\n",
       "      <th></th>\n",
       "      <th>mean_fit_time</th>\n",
       "      <th>std_fit_time</th>\n",
       "      <th>mean_score_time</th>\n",
       "      <th>std_score_time</th>\n",
       "      <th>param_bootstrap</th>\n",
       "      <th>param_max_features</th>\n",
       "      <th>param_min_samples_leaf</th>\n",
       "      <th>param_min_samples_split</th>\n",
       "      <th>param_n_estimators</th>\n",
       "      <th>params</th>\n",
       "      <th>split0_test_score</th>\n",
       "      <th>split1_test_score</th>\n",
       "      <th>split2_test_score</th>\n",
       "      <th>split3_test_score</th>\n",
       "      <th>split4_test_score</th>\n",
       "      <th>mean_test_score</th>\n",
       "      <th>std_test_score</th>\n",
       "      <th>rank_test_score</th>\n",
       "    </tr>\n",
       "  </thead>\n",
       "  <tbody>\n",
       "    <tr>\n",
       "      <th>2165</th>\n",
       "      <td>43.041182</td>\n",
       "      <td>0.485595</td>\n",
       "      <td>0.118004</td>\n",
       "      <td>0.008164</td>\n",
       "      <td>False</td>\n",
       "      <td>auto</td>\n",
       "      <td>2</td>\n",
       "      <td>9</td>\n",
       "      <td>280</td>\n",
       "      <td>{'bootstrap': False, 'max_features': 'auto', '...</td>\n",
       "      <td>0.772206</td>\n",
       "      <td>0.783668</td>\n",
       "      <td>0.772206</td>\n",
       "      <td>0.757880</td>\n",
       "      <td>0.766141</td>\n",
       "      <td>0.770420</td>\n",
       "      <td>0.008455</td>\n",
       "      <td>1</td>\n",
       "    </tr>\n",
       "    <tr>\n",
       "      <th>3607</th>\n",
       "      <td>41.232692</td>\n",
       "      <td>0.223832</td>\n",
       "      <td>0.117543</td>\n",
       "      <td>0.003933</td>\n",
       "      <td>False</td>\n",
       "      <td>sqrt</td>\n",
       "      <td>7</td>\n",
       "      <td>5</td>\n",
       "      <td>300</td>\n",
       "      <td>{'bootstrap': False, 'max_features': 'sqrt', '...</td>\n",
       "      <td>0.779370</td>\n",
       "      <td>0.776504</td>\n",
       "      <td>0.769341</td>\n",
       "      <td>0.744986</td>\n",
       "      <td>0.780488</td>\n",
       "      <td>0.770138</td>\n",
       "      <td>0.013162</td>\n",
       "      <td>2</td>\n",
       "    </tr>\n",
       "  </tbody>\n",
       "</table>\n",
       "</div>"
      ],
      "text/plain": [
       "      mean_fit_time  std_fit_time  mean_score_time  std_score_time  \\\n",
       "2165      43.041182      0.485595         0.118004        0.008164   \n",
       "3607      41.232692      0.223832         0.117543        0.003933   \n",
       "\n",
       "     param_bootstrap param_max_features param_min_samples_leaf  \\\n",
       "2165           False               auto                      2   \n",
       "3607           False               sqrt                      7   \n",
       "\n",
       "     param_min_samples_split param_n_estimators  \\\n",
       "2165                       9                280   \n",
       "3607                       5                300   \n",
       "\n",
       "                                                 params  split0_test_score  \\\n",
       "2165  {'bootstrap': False, 'max_features': 'auto', '...           0.772206   \n",
       "3607  {'bootstrap': False, 'max_features': 'sqrt', '...           0.779370   \n",
       "\n",
       "      split1_test_score  split2_test_score  split3_test_score  \\\n",
       "2165           0.783668           0.772206           0.757880   \n",
       "3607           0.776504           0.769341           0.744986   \n",
       "\n",
       "      split4_test_score  mean_test_score  std_test_score  rank_test_score  \n",
       "2165           0.766141         0.770420        0.008455                1  \n",
       "3607           0.780488         0.770138        0.013162                2  "
      ]
     },
     "execution_count": 8,
     "metadata": {},
     "output_type": "execute_result"
    }
   ],
   "source": [
    "result = pd.DataFrame(rf_Grid.cv_results_)#[['params','mean_test_score','rank_test_score']]\n",
    "result.sort_values(by=['mean_test_score'],ascending=False).head(2)"
   ]
  },
  {
   "cell_type": "code",
   "execution_count": 9,
   "id": "a166dbc4",
   "metadata": {},
   "outputs": [
    {
     "name": "stdout",
     "output_type": "stream",
     "text": [
      "{'bootstrap': False, 'max_features': 'auto', 'min_samples_leaf': 2, 'min_samples_split': 9, 'n_estimators': 280}\n",
      "1.0\n",
      "0.7589285714285714\n"
     ]
    }
   ],
   "source": [
    "print(rf_Grid.best_params_)\n",
    "print(rf_Grid.score(X_train,y_train))\n",
    "print(rf_Grid.score(X_test,y_test))"
   ]
  },
  {
   "cell_type": "code",
   "execution_count": 89,
   "id": "30318763",
   "metadata": {},
   "outputs": [
    {
     "name": "stdout",
     "output_type": "stream",
     "text": [
      "              precision    recall  f1-score   support\n",
      "\n",
      "           0       0.68      0.62      0.65        40\n",
      "           1       0.67      0.75      0.71        40\n",
      "           2       0.97      0.91      0.94        32\n",
      "\n",
      "    accuracy                           0.75       112\n",
      "   macro avg       0.77      0.76      0.76       112\n",
      "weighted avg       0.76      0.75      0.75       112\n",
      "\n",
      "              precision    recall  f1-score   support\n",
      "\n",
      "           0       1.00      1.00      1.00      1163\n",
      "           1       1.00      1.00      1.00      1163\n",
      "           2       1.00      1.00      1.00      1163\n",
      "\n",
      "    accuracy                           1.00      3489\n",
      "   macro avg       1.00      1.00      1.00      3489\n",
      "weighted avg       1.00      1.00      1.00      3489\n",
      "\n"
     ]
    }
   ],
   "source": [
    "rf_model1=RandomForestClassifier(bootstrap=False, max_features='sqrt', min_samples_leaf=5, min_samples_split=6, n_estimators=241)\n",
    "rf_model1.fit(X_train, y_train)\n",
    "# print prediction results \n",
    "print(classification_report(y_test, rf_model1.predict(X_test)))\n",
    "print(classification_report(y_train, rf_model1.predict(X_train)))"
   ]
  },
  {
   "cell_type": "code",
   "execution_count": 91,
   "id": "21c6c54c",
   "metadata": {},
   "outputs": [
    {
     "name": "stderr",
     "output_type": "stream",
     "text": [
      "D:\\IDEs\\Anaconda\\lib\\site-packages\\sklearn\\ensemble\\_forest.py:427: FutureWarning: `max_features='auto'` has been deprecated in 1.1 and will be removed in 1.3. To keep the past behaviour, explicitly set `max_features='sqrt'` or remove this parameter as it is also the default value for RandomForestClassifiers and ExtraTreesClassifiers.\n",
      "  warn(\n"
     ]
    },
    {
     "name": "stdout",
     "output_type": "stream",
     "text": [
      "              precision    recall  f1-score   support\n",
      "\n",
      "           0       0.68      0.65      0.67        40\n",
      "           1       0.68      0.75      0.71        40\n",
      "           2       0.93      0.88      0.90        32\n",
      "\n",
      "    accuracy                           0.75       112\n",
      "   macro avg       0.77      0.76      0.76       112\n",
      "weighted avg       0.75      0.75      0.75       112\n",
      "\n",
      "              precision    recall  f1-score   support\n",
      "\n",
      "           0       1.00      1.00      1.00      1163\n",
      "           1       1.00      1.00      1.00      1163\n",
      "           2       1.00      1.00      1.00      1163\n",
      "\n",
      "    accuracy                           1.00      3489\n",
      "   macro avg       1.00      1.00      1.00      3489\n",
      "weighted avg       1.00      1.00      1.00      3489\n",
      "\n"
     ]
    }
   ],
   "source": [
    "rf_model1=RandomForestClassifier(bootstrap=False, max_features='auto', min_samples_leaf=2, min_samples_split=9, n_estimators=280)\n",
    "rf_model1.fit(X_train, y_train)\n",
    "# print prediction results \n",
    "print(classification_report(y_test, rf_model1.predict(X_test)))\n",
    "print(classification_report(y_train, rf_model1.predict(X_train)))"
   ]
  },
  {
   "cell_type": "code",
   "execution_count": 98,
   "id": "84f61cf8",
   "metadata": {},
   "outputs": [
    {
     "data": {
      "image/png": "[encoded data removed]",
      "text/plain": [
       "<Figure size 432x288 with 1 Axes>"
      ]
     },
     "metadata": {
      "needs_background": "light"
     },
     "output_type": "display_data"
    }
   ],
   "source": [
    "# Binarize the output\n",
    "y_train1=label_binarize(y_train, classes=[0,1,2])\n",
    "y_test1=label_binarize(y_test, classes=[0,1,2])\n",
    "\n",
    "y_score=rf_model1.predict_proba(X_test)\n",
    "n_classes = 3\n",
    "lw=2\n",
    "\n",
    "# Compute ROC curve and ROC area for each class\n",
    "fpr = dict()\n",
    "tpr = dict()\n",
    "roc_auc = dict()\n",
    "for i in range(n_classes):\n",
    "    fpr[i], tpr[i], _ = roc_curve(y_test1[:, i], y_score[:, i])\n",
    "    roc_auc[i] = auc(fpr[i], tpr[i])\n",
    "# First aggregate all false positive rates\n",
    "all_fpr = np.unique(np.concatenate([fpr[i] for i in range(n_classes)]))\n",
    "\n",
    "# Then interpolate all ROC curves at this points\n",
    "mean_tpr = np.zeros_like(all_fpr)\n",
    "for i in range(n_classes):\n",
    "    mean_tpr += np.interp(all_fpr, fpr[i], tpr[i])\n",
    "\n",
    "# Finally average it and compute AUC\n",
    "mean_tpr /= n_classes\n",
    "\n",
    "fpr[\"macro\"] = all_fpr\n",
    "tpr[\"macro\"] = mean_tpr\n",
    "roc_auc[\"macro\"] = auc(fpr[\"macro\"], tpr[\"macro\"])\n",
    "\n",
    "# Plot all ROC curves\n",
    "\n",
    "plt.plot(\n",
    "    fpr[\"macro\"],\n",
    "    tpr[\"macro\"],\n",
    "    label=\"macro-average ROC curve (area = {0:0.2f})\".format(roc_auc[\"macro\"]),\n",
    "    color=\"navy\",\n",
    "    linestyle=\":\",\n",
    "    linewidth=4,\n",
    ")\n",
    "\n",
    "colors = cycle([\"aqua\", \"darkorange\", \"cornflowerblue\"])\n",
    "for i, color in zip(range(n_classes), colors):\n",
    "    plt.plot(\n",
    "        fpr[i],\n",
    "        tpr[i],\n",
    "        color=color,\n",
    "        lw=lw,\n",
    "        label=\"ROC curve of class {0} (area = {1:0.2f})\".format(emo_class[i], roc_auc[i]),\n",
    "    )\n",
    "\n",
    "\n",
    "plt.plot([0, 1], [0, 1], \"k--\", lw=lw)\n",
    "plt.xlim([0.0, 1.0])\n",
    "plt.ylim([0.0, 1.05])\n",
    "plt.xlabel(\"False Positive Rate\")\n",
    "plt.ylabel(\"True Positive Rate\")\n",
    "plt.title(\"ROC Curve for RF\")\n",
    "plt.legend(loc=\"lower right\")\n",
    "plt.show()"
   ]
  },
  {
   "cell_type": "code",
   "execution_count": null,
   "id": "bea2ad8a",
   "metadata": {},
   "outputs": [],
   "source": []
  }
 ],
 "metadata": {
  "kernelspec": {
   "display_name": "Python 3 (ipykernel)",
   "language": "python",
   "name": "python3"
  },
  "language_info": {
   "codemirror_mode": {
    "name": "ipython",
    "version": 3
   },
   "file_extension": ".py",
   "mimetype": "text/x-python",
   "name": "python",
   "nbconvert_exporter": "python",
   "pygments_lexer": "ipython3",
   "version": "3.9.7"
  }
 },
 "nbformat": 4,
 "nbformat_minor": 5
}
