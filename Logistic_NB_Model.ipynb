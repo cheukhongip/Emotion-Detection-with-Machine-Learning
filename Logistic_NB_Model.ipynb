{
 "cells": [
  {
   "cell_type": "markdown",
   "metadata": {},
   "source": [
    "### MINMAX + PCA"
   ]
  },
  {
   "cell_type": "code",
   "execution_count": 1,
   "metadata": {},
   "outputs": [],
   "source": [
    "import pandas as pd \n",
    "from sklearn.model_selection import GridSearchCV\n",
    "from sklearn.metrics import confusion_matrix\n",
    "from sklearn.metrics import precision_score\n",
    "from sklearn.metrics import recall_score, f1_score, accuracy_score, make_scorer\n",
    "import matplotlib.pyplot as plt\n",
    "from sklearn.model_selection import GridSearchCV\n",
    "from sklearn.linear_model import LogisticRegression\n",
    "import numpy as np\n",
    "from sklearn.metrics import accuracy_score\n",
    "from sklearn.naive_bayes import GaussianNB\n",
    "from sklearn.model_selection import StratifiedKFold\n",
    "from sklearn.metrics import classification_report, confusion_matrix\n",
    "\n",
    "df = pd.read_csv(\"x_train_minmax_pca_97.csv\") \n",
    "y_train = df['class']\n",
    "X_train = df.drop(['class'], axis = 1)\n",
    "df_test = pd.read_csv(\"x_test_minmax_pca_97.csv\") \n",
    "y_test = df_test['class']\n",
    "X_test = df_test.drop(['class'], axis = 1)"
   ]
  },
  {
   "cell_type": "code",
   "execution_count": 3,
   "metadata": {},
   "outputs": [
    {
     "data": {
      "text/html": [
       "<div>\n",
       "<style scoped>\n",
       "    .dataframe tbody tr th:only-of-type {\n",
       "        vertical-align: middle;\n",
       "    }\n",
       "\n",
       "    .dataframe tbody tr th {\n",
       "        vertical-align: top;\n",
       "    }\n",
       "\n",
       "    .dataframe thead th {\n",
       "        text-align: right;\n",
       "    }\n",
       "</style>\n",
       "<table border=\"1\" class=\"dataframe\">\n",
       "  <thead>\n",
       "    <tr style=\"text-align: right;\">\n",
       "      <th></th>\n",
       "      <th>0</th>\n",
       "      <th>1</th>\n",
       "      <th>2</th>\n",
       "      <th>3</th>\n",
       "      <th>4</th>\n",
       "      <th>5</th>\n",
       "      <th>6</th>\n",
       "      <th>...</th>\n",
       "      <th>790</th>\n",
       "      <th>791</th>\n",
       "      <th>792</th>\n",
       "      <th>793</th>\n",
       "      <th>794</th>\n",
       "      <th>795</th>\n",
       "      <th>class</th>\n",
       "    </tr>\n",
       "  </thead>\n",
       "  <tbody>\n",
       "    <tr>\n",
       "      <th>0</th>\n",
       "      <td>-14.922464</td>\n",
       "      <td>5.033443</td>\n",
       "      <td>-4.291428</td>\n",
       "      <td>-5.377909</td>\n",
       "      <td>-2.673974</td>\n",
       "      <td>-0.442076</td>\n",
       "      <td>-3.178778</td>\n",
       "      <td>...</td>\n",
       "      <td>0.080153</td>\n",
       "      <td>0.143525</td>\n",
       "      <td>0.184311</td>\n",
       "      <td>0.142441</td>\n",
       "      <td>-0.486882</td>\n",
       "      <td>0.500702</td>\n",
       "      <td>0</td>\n",
       "    </tr>\n",
       "    <tr>\n",
       "      <th>1</th>\n",
       "      <td>1.227210</td>\n",
       "      <td>6.855914</td>\n",
       "      <td>3.284829</td>\n",
       "      <td>2.134742</td>\n",
       "      <td>-4.173556</td>\n",
       "      <td>-0.131871</td>\n",
       "      <td>-0.176243</td>\n",
       "      <td>...</td>\n",
       "      <td>0.092863</td>\n",
       "      <td>-0.090462</td>\n",
       "      <td>-0.173765</td>\n",
       "      <td>0.010208</td>\n",
       "      <td>0.048242</td>\n",
       "      <td>-0.009578</td>\n",
       "      <td>0</td>\n",
       "    </tr>\n",
       "    <tr>\n",
       "      <th>2</th>\n",
       "      <td>-10.466131</td>\n",
       "      <td>3.801826</td>\n",
       "      <td>-0.076059</td>\n",
       "      <td>-0.142212</td>\n",
       "      <td>-6.795634</td>\n",
       "      <td>0.693070</td>\n",
       "      <td>0.587115</td>\n",
       "      <td>...</td>\n",
       "      <td>0.153429</td>\n",
       "      <td>-0.039235</td>\n",
       "      <td>-0.076902</td>\n",
       "      <td>-0.103526</td>\n",
       "      <td>-0.093604</td>\n",
       "      <td>0.104499</td>\n",
       "      <td>0</td>\n",
       "    </tr>\n",
       "    <tr>\n",
       "      <th>3</th>\n",
       "      <td>-0.291550</td>\n",
       "      <td>0.134163</td>\n",
       "      <td>2.101741</td>\n",
       "      <td>-0.276473</td>\n",
       "      <td>-4.555051</td>\n",
       "      <td>-2.997156</td>\n",
       "      <td>0.187179</td>\n",
       "      <td>...</td>\n",
       "      <td>-0.098393</td>\n",
       "      <td>-0.046519</td>\n",
       "      <td>0.212531</td>\n",
       "      <td>0.522568</td>\n",
       "      <td>0.106917</td>\n",
       "      <td>0.328793</td>\n",
       "      <td>0</td>\n",
       "    </tr>\n",
       "    <tr>\n",
       "      <th>4</th>\n",
       "      <td>-7.083975</td>\n",
       "      <td>-3.525638</td>\n",
       "      <td>4.054232</td>\n",
       "      <td>0.288740</td>\n",
       "      <td>4.363773</td>\n",
       "      <td>-6.333950</td>\n",
       "      <td>0.444656</td>\n",
       "      <td>...</td>\n",
       "      <td>-0.056845</td>\n",
       "      <td>0.165073</td>\n",
       "      <td>-0.036822</td>\n",
       "      <td>-0.152718</td>\n",
       "      <td>0.023589</td>\n",
       "      <td>-0.071052</td>\n",
       "      <td>0</td>\n",
       "    </tr>\n",
       "    <tr>\n",
       "      <th>...</th>\n",
       "      <td>...</td>\n",
       "      <td>...</td>\n",
       "      <td>...</td>\n",
       "      <td>...</td>\n",
       "      <td>...</td>\n",
       "      <td>...</td>\n",
       "      <td>...</td>\n",
       "      <td>...</td>\n",
       "      <td>...</td>\n",
       "      <td>...</td>\n",
       "      <td>...</td>\n",
       "      <td>...</td>\n",
       "      <td>...</td>\n",
       "      <td>...</td>\n",
       "      <td>...</td>\n",
       "    </tr>\n",
       "    <tr>\n",
       "      <th>3484</th>\n",
       "      <td>16.243427</td>\n",
       "      <td>1.164604</td>\n",
       "      <td>6.203519</td>\n",
       "      <td>1.043491</td>\n",
       "      <td>-4.654441</td>\n",
       "      <td>1.694157</td>\n",
       "      <td>-1.428514</td>\n",
       "      <td>...</td>\n",
       "      <td>-0.017741</td>\n",
       "      <td>-0.079990</td>\n",
       "      <td>0.119614</td>\n",
       "      <td>0.035200</td>\n",
       "      <td>-0.058562</td>\n",
       "      <td>0.016073</td>\n",
       "      <td>2</td>\n",
       "    </tr>\n",
       "    <tr>\n",
       "      <th>3485</th>\n",
       "      <td>-11.231110</td>\n",
       "      <td>3.368416</td>\n",
       "      <td>1.495940</td>\n",
       "      <td>9.340180</td>\n",
       "      <td>6.275326</td>\n",
       "      <td>1.532026</td>\n",
       "      <td>-3.587100</td>\n",
       "      <td>...</td>\n",
       "      <td>-0.038051</td>\n",
       "      <td>-0.022786</td>\n",
       "      <td>-0.068932</td>\n",
       "      <td>-0.083994</td>\n",
       "      <td>-0.124310</td>\n",
       "      <td>0.116441</td>\n",
       "      <td>2</td>\n",
       "    </tr>\n",
       "    <tr>\n",
       "      <th>3486</th>\n",
       "      <td>-3.506366</td>\n",
       "      <td>3.136393</td>\n",
       "      <td>1.696787</td>\n",
       "      <td>8.290785</td>\n",
       "      <td>6.275972</td>\n",
       "      <td>-2.576262</td>\n",
       "      <td>-1.952776</td>\n",
       "      <td>...</td>\n",
       "      <td>0.159753</td>\n",
       "      <td>-0.037254</td>\n",
       "      <td>0.034715</td>\n",
       "      <td>0.030747</td>\n",
       "      <td>-0.055056</td>\n",
       "      <td>-0.232813</td>\n",
       "      <td>2</td>\n",
       "    </tr>\n",
       "    <tr>\n",
       "      <th>3487</th>\n",
       "      <td>9.544817</td>\n",
       "      <td>-0.677706</td>\n",
       "      <td>3.601819</td>\n",
       "      <td>1.810476</td>\n",
       "      <td>2.907359</td>\n",
       "      <td>-1.686533</td>\n",
       "      <td>-2.439230</td>\n",
       "      <td>...</td>\n",
       "      <td>-0.123835</td>\n",
       "      <td>0.103740</td>\n",
       "      <td>-0.189402</td>\n",
       "      <td>-0.178245</td>\n",
       "      <td>0.371590</td>\n",
       "      <td>-0.312255</td>\n",
       "      <td>2</td>\n",
       "    </tr>\n",
       "    <tr>\n",
       "      <th>3488</th>\n",
       "      <td>0.910446</td>\n",
       "      <td>2.053325</td>\n",
       "      <td>-10.187512</td>\n",
       "      <td>-0.638319</td>\n",
       "      <td>-1.829592</td>\n",
       "      <td>-2.937545</td>\n",
       "      <td>-3.997237</td>\n",
       "      <td>...</td>\n",
       "      <td>0.076957</td>\n",
       "      <td>-0.044277</td>\n",
       "      <td>-0.112178</td>\n",
       "      <td>-0.036241</td>\n",
       "      <td>0.023788</td>\n",
       "      <td>0.006683</td>\n",
       "      <td>2</td>\n",
       "    </tr>\n",
       "  </tbody>\n",
       "</table>\n",
       "<p>3489 rows × 797 columns</p>\n",
       "</div>"
      ],
      "text/plain": [
       "              0         1          2         3         4         5         6  \\\n",
       "0    -14.922464  5.033443  -4.291428 -5.377909 -2.673974 -0.442076 -3.178778   \n",
       "1      1.227210  6.855914   3.284829  2.134742 -4.173556 -0.131871 -0.176243   \n",
       "2    -10.466131  3.801826  -0.076059 -0.142212 -6.795634  0.693070  0.587115   \n",
       "3     -0.291550  0.134163   2.101741 -0.276473 -4.555051 -2.997156  0.187179   \n",
       "4     -7.083975 -3.525638   4.054232  0.288740  4.363773 -6.333950  0.444656   \n",
       "...         ...       ...        ...       ...       ...       ...       ...   \n",
       "3484  16.243427  1.164604   6.203519  1.043491 -4.654441  1.694157 -1.428514   \n",
       "3485 -11.231110  3.368416   1.495940  9.340180  6.275326  1.532026 -3.587100   \n",
       "3486  -3.506366  3.136393   1.696787  8.290785  6.275972 -2.576262 -1.952776   \n",
       "3487   9.544817 -0.677706   3.601819  1.810476  2.907359 -1.686533 -2.439230   \n",
       "3488   0.910446  2.053325 -10.187512 -0.638319 -1.829592 -2.937545 -3.997237   \n",
       "\n",
       "      ...       790       791       792       793       794       795  class  \n",
       "0     ...  0.080153  0.143525  0.184311  0.142441 -0.486882  0.500702      0  \n",
       "1     ...  0.092863 -0.090462 -0.173765  0.010208  0.048242 -0.009578      0  \n",
       "2     ...  0.153429 -0.039235 -0.076902 -0.103526 -0.093604  0.104499      0  \n",
       "3     ... -0.098393 -0.046519  0.212531  0.522568  0.106917  0.328793      0  \n",
       "4     ... -0.056845  0.165073 -0.036822 -0.152718  0.023589 -0.071052      0  \n",
       "...   ...       ...       ...       ...       ...       ...       ...    ...  \n",
       "3484  ... -0.017741 -0.079990  0.119614  0.035200 -0.058562  0.016073      2  \n",
       "3485  ... -0.038051 -0.022786 -0.068932 -0.083994 -0.124310  0.116441      2  \n",
       "3486  ...  0.159753 -0.037254  0.034715  0.030747 -0.055056 -0.232813      2  \n",
       "3487  ... -0.123835  0.103740 -0.189402 -0.178245  0.371590 -0.312255      2  \n",
       "3488  ...  0.076957 -0.044277 -0.112178 -0.036241  0.023788  0.006683      2  \n",
       "\n",
       "[3489 rows x 797 columns]"
      ]
     },
     "execution_count": 3,
     "metadata": {},
     "output_type": "execute_result"
    }
   ],
   "source": [
    "pd.set_option(\"max_columns\", 15)\n",
    "df"
   ]
  },
  {
   "cell_type": "markdown",
   "metadata": {},
   "source": [
    "### Logistic Regression"
   ]
  },
  {
   "cell_type": "code",
   "execution_count": 2,
   "metadata": {},
   "outputs": [
    {
     "name": "stdout",
     "output_type": "stream",
     "text": [
      "Fitting 5 folds for each of 15 candidates, totalling 75 fits\n"
     ]
    },
    {
     "data": {
      "text/plain": [
       "GridSearchCV(cv=5, estimator=LogisticRegression(),\n",
       "             param_grid={'C': [0.001, 0.01, 0.1, 1, 1.5, 2, 6, 8, 10, 20, 50,\n",
       "                               100, 400, 800, 1000],\n",
       "                         'class_weight': ['balanced'], 'max_iter': [10000],\n",
       "                         'multi_class': ['multinomial'], 'penalty': ['l2'],\n",
       "                         'solver': ['lbfgs']},\n",
       "             scoring='f1_macro', verbose=1)"
      ]
     },
     "execution_count": 2,
     "metadata": {},
     "output_type": "execute_result"
    }
   ],
   "source": [
    "# class_weight=’balanced’, The “balanced” mode uses the values of y to automatically adjust weights inversely \n",
    "# proportional to class frequencies in the input data as n_samples / (n_classes * np.bincount(y)).\n",
    "# multi_class='multinomial'\n",
    "# For multiclass problems, only ‘newton-cg’, ‘sag’, ‘saga’ and ‘lbfgs’ handle multinomial loss\n",
    "# C: Inverse of regularization strength; must be a positive float. \n",
    "# larger c, smaller penality\n",
    "\n",
    "grid_values = {'C': [0.001, 0.01, 0.1, 1, 1.5, 2, 6, 8, 10, 20, 50, 100, 400, 800, 1000],\n",
    "               'solver': ['lbfgs'],\n",
    "              'multi_class': ['multinomial'],\n",
    "              'penalty': ['l2'],\n",
    "               'max_iter': [10000],\n",
    "              'class_weight': ['balanced']}\n",
    "log = LogisticRegression()\n",
    "log_minmax = GridSearchCV(log, param_grid = grid_values, scoring = 'f1_macro', cv=5, verbose=1)\n",
    "log_minmax.fit(X_train, y_train)"
   ]
  },
  {
   "cell_type": "code",
   "execution_count": 3,
   "metadata": {},
   "outputs": [
    {
     "data": {
      "text/html": [
       "<div>\n",
       "<style scoped>\n",
       "    .dataframe tbody tr th:only-of-type {\n",
       "        vertical-align: middle;\n",
       "    }\n",
       "\n",
       "    .dataframe tbody tr th {\n",
       "        vertical-align: top;\n",
       "    }\n",
       "\n",
       "    .dataframe thead th {\n",
       "        text-align: right;\n",
       "    }\n",
       "</style>\n",
       "<table border=\"1\" class=\"dataframe\">\n",
       "  <thead>\n",
       "    <tr style=\"text-align: right;\">\n",
       "      <th></th>\n",
       "      <th>mean_fit_time</th>\n",
       "      <th>std_fit_time</th>\n",
       "      <th>mean_score_time</th>\n",
       "      <th>std_score_time</th>\n",
       "      <th>param_C</th>\n",
       "      <th>param_class_weight</th>\n",
       "      <th>param_max_iter</th>\n",
       "      <th>param_multi_class</th>\n",
       "      <th>param_penalty</th>\n",
       "      <th>param_solver</th>\n",
       "      <th>params</th>\n",
       "      <th>split0_test_score</th>\n",
       "      <th>split1_test_score</th>\n",
       "      <th>split2_test_score</th>\n",
       "      <th>split3_test_score</th>\n",
       "      <th>split4_test_score</th>\n",
       "      <th>mean_test_score</th>\n",
       "      <th>std_test_score</th>\n",
       "      <th>rank_test_score</th>\n",
       "    </tr>\n",
       "  </thead>\n",
       "  <tbody>\n",
       "    <tr>\n",
       "      <th>2</th>\n",
       "      <td>0.874532</td>\n",
       "      <td>0.094727</td>\n",
       "      <td>0.007510</td>\n",
       "      <td>0.000318</td>\n",
       "      <td>0.1</td>\n",
       "      <td>balanced</td>\n",
       "      <td>10000</td>\n",
       "      <td>multinomial</td>\n",
       "      <td>l2</td>\n",
       "      <td>lbfgs</td>\n",
       "      <td>{'C': 0.1, 'class_weight': 'balanced', 'max_it...</td>\n",
       "      <td>0.743873</td>\n",
       "      <td>0.745102</td>\n",
       "      <td>0.743375</td>\n",
       "      <td>0.749048</td>\n",
       "      <td>0.745037</td>\n",
       "      <td>0.745287</td>\n",
       "      <td>0.001995</td>\n",
       "      <td>1</td>\n",
       "    </tr>\n",
       "    <tr>\n",
       "      <th>1</th>\n",
       "      <td>0.299189</td>\n",
       "      <td>0.007479</td>\n",
       "      <td>0.005989</td>\n",
       "      <td>0.000149</td>\n",
       "      <td>0.01</td>\n",
       "      <td>balanced</td>\n",
       "      <td>10000</td>\n",
       "      <td>multinomial</td>\n",
       "      <td>l2</td>\n",
       "      <td>lbfgs</td>\n",
       "      <td>{'C': 0.01, 'class_weight': 'balanced', 'max_i...</td>\n",
       "      <td>0.751034</td>\n",
       "      <td>0.737750</td>\n",
       "      <td>0.735479</td>\n",
       "      <td>0.753553</td>\n",
       "      <td>0.744834</td>\n",
       "      <td>0.744530</td>\n",
       "      <td>0.007095</td>\n",
       "      <td>2</td>\n",
       "    </tr>\n",
       "    <tr>\n",
       "      <th>0</th>\n",
       "      <td>0.176211</td>\n",
       "      <td>0.011545</td>\n",
       "      <td>0.006159</td>\n",
       "      <td>0.000412</td>\n",
       "      <td>0.001</td>\n",
       "      <td>balanced</td>\n",
       "      <td>10000</td>\n",
       "      <td>multinomial</td>\n",
       "      <td>l2</td>\n",
       "      <td>lbfgs</td>\n",
       "      <td>{'C': 0.001, 'class_weight': 'balanced', 'max_...</td>\n",
       "      <td>0.718279</td>\n",
       "      <td>0.728942</td>\n",
       "      <td>0.715922</td>\n",
       "      <td>0.723884</td>\n",
       "      <td>0.715806</td>\n",
       "      <td>0.720567</td>\n",
       "      <td>0.005111</td>\n",
       "      <td>3</td>\n",
       "    </tr>\n",
       "    <tr>\n",
       "      <th>3</th>\n",
       "      <td>2.011592</td>\n",
       "      <td>0.080027</td>\n",
       "      <td>0.006770</td>\n",
       "      <td>0.000840</td>\n",
       "      <td>1</td>\n",
       "      <td>balanced</td>\n",
       "      <td>10000</td>\n",
       "      <td>multinomial</td>\n",
       "      <td>l2</td>\n",
       "      <td>lbfgs</td>\n",
       "      <td>{'C': 1, 'class_weight': 'balanced', 'max_iter...</td>\n",
       "      <td>0.716226</td>\n",
       "      <td>0.700186</td>\n",
       "      <td>0.704788</td>\n",
       "      <td>0.735524</td>\n",
       "      <td>0.733005</td>\n",
       "      <td>0.717946</td>\n",
       "      <td>0.014334</td>\n",
       "      <td>4</td>\n",
       "    </tr>\n",
       "    <tr>\n",
       "      <th>4</th>\n",
       "      <td>2.344882</td>\n",
       "      <td>0.122332</td>\n",
       "      <td>0.007403</td>\n",
       "      <td>0.001163</td>\n",
       "      <td>1.5</td>\n",
       "      <td>balanced</td>\n",
       "      <td>10000</td>\n",
       "      <td>multinomial</td>\n",
       "      <td>l2</td>\n",
       "      <td>lbfgs</td>\n",
       "      <td>{'C': 1.5, 'class_weight': 'balanced', 'max_it...</td>\n",
       "      <td>0.710495</td>\n",
       "      <td>0.696919</td>\n",
       "      <td>0.702569</td>\n",
       "      <td>0.731419</td>\n",
       "      <td>0.727509</td>\n",
       "      <td>0.713782</td>\n",
       "      <td>0.013568</td>\n",
       "      <td>5</td>\n",
       "    </tr>\n",
       "  </tbody>\n",
       "</table>\n",
       "</div>"
      ],
      "text/plain": [
       "   mean_fit_time  std_fit_time  mean_score_time  std_score_time param_C  \\\n",
       "2       0.874532      0.094727         0.007510        0.000318     0.1   \n",
       "1       0.299189      0.007479         0.005989        0.000149    0.01   \n",
       "0       0.176211      0.011545         0.006159        0.000412   0.001   \n",
       "3       2.011592      0.080027         0.006770        0.000840       1   \n",
       "4       2.344882      0.122332         0.007403        0.001163     1.5   \n",
       "\n",
       "  param_class_weight param_max_iter param_multi_class param_penalty  \\\n",
       "2           balanced          10000       multinomial            l2   \n",
       "1           balanced          10000       multinomial            l2   \n",
       "0           balanced          10000       multinomial            l2   \n",
       "3           balanced          10000       multinomial            l2   \n",
       "4           balanced          10000       multinomial            l2   \n",
       "\n",
       "  param_solver                                             params  \\\n",
       "2        lbfgs  {'C': 0.1, 'class_weight': 'balanced', 'max_it...   \n",
       "1        lbfgs  {'C': 0.01, 'class_weight': 'balanced', 'max_i...   \n",
       "0        lbfgs  {'C': 0.001, 'class_weight': 'balanced', 'max_...   \n",
       "3        lbfgs  {'C': 1, 'class_weight': 'balanced', 'max_iter...   \n",
       "4        lbfgs  {'C': 1.5, 'class_weight': 'balanced', 'max_it...   \n",
       "\n",
       "   split0_test_score  split1_test_score  split2_test_score  split3_test_score  \\\n",
       "2           0.743873           0.745102           0.743375           0.749048   \n",
       "1           0.751034           0.737750           0.735479           0.753553   \n",
       "0           0.718279           0.728942           0.715922           0.723884   \n",
       "3           0.716226           0.700186           0.704788           0.735524   \n",
       "4           0.710495           0.696919           0.702569           0.731419   \n",
       "\n",
       "   split4_test_score  mean_test_score  std_test_score  rank_test_score  \n",
       "2           0.745037         0.745287        0.001995                1  \n",
       "1           0.744834         0.744530        0.007095                2  \n",
       "0           0.715806         0.720567        0.005111                3  \n",
       "3           0.733005         0.717946        0.014334                4  \n",
       "4           0.727509         0.713782        0.013568                5  "
      ]
     },
     "execution_count": 3,
     "metadata": {},
     "output_type": "execute_result"
    }
   ],
   "source": [
    "result_log_minmax = pd.DataFrame(log_minmax.cv_results_)\n",
    "result_log_minmax.sort_values(by=['mean_test_score'],ascending=False).head(5)\n"
   ]
  },
  {
   "cell_type": "code",
   "execution_count": 65,
   "metadata": {},
   "outputs": [
    {
     "name": "stdout",
     "output_type": "stream",
     "text": [
      "Fitting 5 folds for each of 2 candidates, totalling 10 fits\n"
     ]
    },
    {
     "name": "stderr",
     "output_type": "stream",
     "text": [
      "/Users/selina/opt/anaconda3/lib/python3.8/site-packages/sklearn/linear_model/_logistic.py:1322: UserWarning: Setting penalty='none' will ignore the C and l1_ratio parameters\n",
      "  warnings.warn(\n",
      "/Users/selina/opt/anaconda3/lib/python3.8/site-packages/sklearn/linear_model/_logistic.py:1322: UserWarning: Setting penalty='none' will ignore the C and l1_ratio parameters\n",
      "  warnings.warn(\n",
      "/Users/selina/opt/anaconda3/lib/python3.8/site-packages/sklearn/linear_model/_logistic.py:1322: UserWarning: Setting penalty='none' will ignore the C and l1_ratio parameters\n",
      "  warnings.warn(\n",
      "/Users/selina/opt/anaconda3/lib/python3.8/site-packages/sklearn/linear_model/_logistic.py:1322: UserWarning: Setting penalty='none' will ignore the C and l1_ratio parameters\n",
      "  warnings.warn(\n",
      "/Users/selina/opt/anaconda3/lib/python3.8/site-packages/sklearn/linear_model/_logistic.py:1322: UserWarning: Setting penalty='none' will ignore the C and l1_ratio parameters\n",
      "  warnings.warn(\n"
     ]
    },
    {
     "data": {
      "text/plain": [
       "GridSearchCV(cv=5, estimator=LogisticRegression(),\n",
       "             param_grid={'C': [0.1], 'class_weight': ['balanced'],\n",
       "                         'max_iter': [10000], 'multi_class': ['multinomial'],\n",
       "                         'penalty': ['l2', 'none'], 'solver': ['lbfgs']},\n",
       "             scoring='f1_macro', verbose=1)"
      ]
     },
     "execution_count": 65,
     "metadata": {},
     "output_type": "execute_result"
    }
   ],
   "source": [
    "# Compare the best regularized model and non-regularized model\n",
    "grid_values = {'C': [0.1],\n",
    "               'solver': ['lbfgs'],\n",
    "              'multi_class': ['multinomial'],\n",
    "              'penalty': ['l2', 'none'],\n",
    "               'max_iter': [10000],\n",
    "              'class_weight': ['balanced']}\n",
    "log = LogisticRegression()\n",
    "log_minmax = GridSearchCV(log, param_grid = grid_values, scoring = 'f1_macro', cv=5, verbose=1)\n",
    "log_minmax.fit(X_train, y_train)\n"
   ]
  },
  {
   "cell_type": "code",
   "execution_count": 66,
   "metadata": {},
   "outputs": [
    {
     "data": {
      "text/html": [
       "<div>\n",
       "<style scoped>\n",
       "    .dataframe tbody tr th:only-of-type {\n",
       "        vertical-align: middle;\n",
       "    }\n",
       "\n",
       "    .dataframe tbody tr th {\n",
       "        vertical-align: top;\n",
       "    }\n",
       "\n",
       "    .dataframe thead th {\n",
       "        text-align: right;\n",
       "    }\n",
       "</style>\n",
       "<table border=\"1\" class=\"dataframe\">\n",
       "  <thead>\n",
       "    <tr style=\"text-align: right;\">\n",
       "      <th></th>\n",
       "      <th>mean_fit_time</th>\n",
       "      <th>std_fit_time</th>\n",
       "      <th>mean_score_time</th>\n",
       "      <th>std_score_time</th>\n",
       "      <th>param_C</th>\n",
       "      <th>...</th>\n",
       "      <th>split3_test_score</th>\n",
       "      <th>split4_test_score</th>\n",
       "      <th>mean_test_score</th>\n",
       "      <th>std_test_score</th>\n",
       "      <th>rank_test_score</th>\n",
       "    </tr>\n",
       "  </thead>\n",
       "  <tbody>\n",
       "    <tr>\n",
       "      <th>0</th>\n",
       "      <td>0.823369</td>\n",
       "      <td>0.187925</td>\n",
       "      <td>0.007998</td>\n",
       "      <td>0.004005</td>\n",
       "      <td>0.1</td>\n",
       "      <td>...</td>\n",
       "      <td>0.749048</td>\n",
       "      <td>0.745037</td>\n",
       "      <td>0.745287</td>\n",
       "      <td>0.001995</td>\n",
       "      <td>1</td>\n",
       "    </tr>\n",
       "    <tr>\n",
       "      <th>1</th>\n",
       "      <td>1.166211</td>\n",
       "      <td>0.119159</td>\n",
       "      <td>0.006663</td>\n",
       "      <td>0.000659</td>\n",
       "      <td>0.1</td>\n",
       "      <td>...</td>\n",
       "      <td>0.704523</td>\n",
       "      <td>0.681249</td>\n",
       "      <td>0.685423</td>\n",
       "      <td>0.015458</td>\n",
       "      <td>2</td>\n",
       "    </tr>\n",
       "  </tbody>\n",
       "</table>\n",
       "<p>2 rows × 19 columns</p>\n",
       "</div>"
      ],
      "text/plain": [
       "   mean_fit_time  std_fit_time  mean_score_time  std_score_time param_C  ...  \\\n",
       "0       0.823369      0.187925         0.007998        0.004005     0.1  ...   \n",
       "1       1.166211      0.119159         0.006663        0.000659     0.1  ...   \n",
       "\n",
       "  split3_test_score split4_test_score mean_test_score std_test_score  \\\n",
       "0          0.749048          0.745037        0.745287       0.001995   \n",
       "1          0.704523          0.681249        0.685423       0.015458   \n",
       "\n",
       "  rank_test_score  \n",
       "0               1  \n",
       "1               2  \n",
       "\n",
       "[2 rows x 19 columns]"
      ]
     },
     "execution_count": 66,
     "metadata": {},
     "output_type": "execute_result"
    }
   ],
   "source": [
    "result_log_minmax = pd.DataFrame(log_minmax.cv_results_)\n",
    "result_log_minmax.sort_values(by=['mean_test_score'],ascending=False)"
   ]
  },
  {
   "cell_type": "code",
   "execution_count": 67,
   "metadata": {},
   "outputs": [
    {
     "name": "stdout",
     "output_type": "stream",
     "text": [
      "Confusion Matrix For MinMax + Logistic Regression: \n",
      " [[26 14  0]\n",
      " [10 30  0]\n",
      " [ 0  0 32]]\n",
      "              precision    recall  f1-score   support\n",
      "\n",
      "       happy       0.72      0.65      0.68        40\n",
      "         sad       0.68      0.75      0.71        40\n",
      "       angry       1.00      1.00      1.00        32\n",
      "\n",
      "    accuracy                           0.79       112\n",
      "   macro avg       0.80      0.80      0.80       112\n",
      "weighted avg       0.79      0.79      0.79       112\n",
      "\n"
     ]
    }
   ],
   "source": [
    "log_minmax_pred = log_minmax.best_estimator_.predict(X_test)\n",
    "cm = confusion_matrix(y_test, log_minmax_pred)\n",
    "\n",
    "print (\"Confusion Matrix For MinMax + Logistic Regression: \\n\", cm)\n",
    "print(classification_report(y_test, log_minmax_pred, target_names=['happy', 'sad', 'angry']))"
   ]
  },
  {
   "cell_type": "code",
   "execution_count": 68,
   "metadata": {},
   "outputs": [
    {
     "data": {
      "text/plain": [
       "0.7857142857142857"
      ]
     },
     "execution_count": 68,
     "metadata": {},
     "output_type": "execute_result"
    }
   ],
   "source": [
    "from sklearn.metrics import accuracy_score\n",
    "accuracy_score(y_test, log_minmax_pred)"
   ]
  },
  {
   "cell_type": "markdown",
   "metadata": {},
   "source": [
    "### ROC Curve"
   ]
  },
  {
   "cell_type": "code",
   "execution_count": 78,
   "metadata": {},
   "outputs": [],
   "source": [
    "from sklearn.metrics import roc_curve, auc\n",
    "from sklearn.preprocessing import label_binarize\n",
    "from itertools import cycle"
   ]
  },
  {
   "cell_type": "code",
   "execution_count": 120,
   "metadata": {},
   "outputs": [
    {
     "data": {
      "image/png": "[encoded data removed]",
      "text/plain": [
       "<Figure size 576x576 with 1 Axes>"
      ]
     },
     "metadata": {
      "needs_background": "light"
     },
     "output_type": "display_data"
    }
   ],
   "source": [
    "# Binarize the output\n",
    "y_train1 = label_binarize(y_train, classes=[0, 1, 2])\n",
    "y_test = label_binarize(y_test, classes=[0, 1, 2])\n",
    "n_classes = 3\n",
    "y_score = log_minmax.best_estimator_.decision_function(X_test)\n",
    "# Compute ROC curve and ROC area for each class\n",
    "lw = 2\n",
    "n_class = 3\n",
    "fpr = dict()\n",
    "tpr = dict()\n",
    "roc_auc = dict()\n",
    "for i in range(n_class):\n",
    "    fpr[i], tpr[i], _ = roc_curve(y_test[:, i], y_score[:, i])\n",
    "    roc_auc[i] = auc(fpr[i], tpr[i])\n",
    "\n",
    "# Compute micro-average ROC curve and ROC area\n",
    "fpr[\"micro\"], tpr[\"micro\"], _ = roc_curve(y_test.ravel(), y_score.ravel())\n",
    "roc_auc[\"micro\"] = auc(fpr[\"micro\"], tpr[\"micro\"])\n",
    "# First aggregate all false positive rates\n",
    "all_fpr = np.unique(np.concatenate([fpr[i] for i in range(n_classes)]))\n",
    "\n",
    "# Then interpolate all ROC curves at this points\n",
    "mean_tpr = np.zeros_like(all_fpr)\n",
    "for i in range(n_classes):\n",
    "    mean_tpr += np.interp(all_fpr, fpr[i], tpr[i])\n",
    "\n",
    "# Finally average it and compute AUC\n",
    "mean_tpr /= n_classes\n",
    "\n",
    "fpr[\"macro\"] = all_fpr\n",
    "tpr[\"macro\"] = mean_tpr\n",
    "roc_auc[\"macro\"] = auc(fpr[\"macro\"], tpr[\"macro\"])\n",
    "\n",
    "# Plot all ROC curves\n",
    "plt.figure(figsize=(8, 8))\n",
    "\n",
    "plt.plot(\n",
    "    fpr[\"macro\"],\n",
    "    tpr[\"macro\"],\n",
    "    label=\"macro-average ROC curve (area = {0:0.2f})\".format(roc_auc[\"macro\"]),\n",
    "    color=\"navy\",\n",
    "    linestyle=\":\",\n",
    "    linewidth=4,\n",
    ")\n",
    "\n",
    "colors = cycle([\"aqua\", \"darkorange\", \"cornflowerblue\"])\n",
    "classes = ['Happy', 'Sad', 'Angry']\n",
    "for i, color in zip(range(n_classes), colors):\n",
    "    plt.plot(\n",
    "        fpr[i],\n",
    "        tpr[i],\n",
    "        color=color,\n",
    "        lw=lw,\n",
    "        label=\"ROC curve of class {0} (area = {1:0.2f})\".format(classes[i], roc_auc[i]),\n",
    "    )\n",
    "\n",
    "plt.plot([0, 1], [0, 1], \"k--\", lw=lw)\n",
    "plt.xlim([0.0, 1.0])\n",
    "plt.ylim([0.0, 1.05])\n",
    "plt.xlabel(\"False Positive Rate\")\n",
    "plt.ylabel(\"True Positive Rate\")\n",
    "plt.title(\"Logistic Regression For MinMax + PCA Dataset\")\n",
    "plt.legend(loc=\"lower right\")\n",
    "plt.show()"
   ]
  },
  {
   "cell_type": "markdown",
   "metadata": {},
   "source": [
    "### Gaussian NB"
   ]
  },
  {
   "cell_type": "code",
   "execution_count": 8,
   "metadata": {},
   "outputs": [
    {
     "name": "stdout",
     "output_type": "stream",
     "text": [
      "Fitting 5 folds for each of 1000 candidates, totalling 5000 fits\n"
     ]
    },
    {
     "data": {
      "text/html": [
       "<div>\n",
       "<style scoped>\n",
       "    .dataframe tbody tr th:only-of-type {\n",
       "        vertical-align: middle;\n",
       "    }\n",
       "\n",
       "    .dataframe tbody tr th {\n",
       "        vertical-align: top;\n",
       "    }\n",
       "\n",
       "    .dataframe thead th {\n",
       "        text-align: right;\n",
       "    }\n",
       "</style>\n",
       "<table border=\"1\" class=\"dataframe\">\n",
       "  <thead>\n",
       "    <tr style=\"text-align: right;\">\n",
       "      <th></th>\n",
       "      <th>params</th>\n",
       "      <th>mean_test_score</th>\n",
       "    </tr>\n",
       "  </thead>\n",
       "  <tbody>\n",
       "    <tr>\n",
       "      <th>0</th>\n",
       "      <td>{'var_smoothing': 1.0}</td>\n",
       "      <td>0.514726</td>\n",
       "    </tr>\n",
       "    <tr>\n",
       "      <th>1</th>\n",
       "      <td>{'var_smoothing': 0.9794696670695393}</td>\n",
       "      <td>0.515019</td>\n",
       "    </tr>\n",
       "    <tr>\n",
       "      <th>2</th>\n",
       "      <td>{'var_smoothing': 0.9593608287093143}</td>\n",
       "      <td>0.514286</td>\n",
       "    </tr>\n",
       "    <tr>\n",
       "      <th>3</th>\n",
       "      <td>{'var_smoothing': 0.9396648314954694}</td>\n",
       "      <td>0.514325</td>\n",
       "    </tr>\n",
       "    <tr>\n",
       "      <th>4</th>\n",
       "      <td>{'var_smoothing': 0.9203731996618223}</td>\n",
       "      <td>0.514760</td>\n",
       "    </tr>\n",
       "  </tbody>\n",
       "</table>\n",
       "</div>"
      ],
      "text/plain": [
       "                                  params  mean_test_score\n",
       "0                 {'var_smoothing': 1.0}         0.514726\n",
       "1  {'var_smoothing': 0.9794696670695393}         0.515019\n",
       "2  {'var_smoothing': 0.9593608287093143}         0.514286\n",
       "3  {'var_smoothing': 0.9396648314954694}         0.514325\n",
       "4  {'var_smoothing': 0.9203731996618223}         0.514760"
      ]
     },
     "execution_count": 8,
     "metadata": {},
     "output_type": "execute_result"
    }
   ],
   "source": [
    "# var_smoothing is a stability calculation to widen (or smooth) the curve and therefore account\n",
    "# for more samples that are further away from the distribution mean. In this case, np.logspace returns numbers \n",
    "# spaced evenly on a log scale, starts from 0, ends at -9, and generates 100 samples.\n",
    "param_grid_nb = {\n",
    "    'var_smoothing': np.logspace(0,-9, num =1000)\n",
    "}\n",
    "\n",
    "nb_minmax = GridSearchCV(estimator=GaussianNB(), param_grid=param_grid_nb, verbose=1, cv=5, scoring = 'f1_macro')\n",
    "nb_minmax.fit(X_train, y_train)\n",
    "\n",
    "result_nb_minmax = pd.DataFrame(nb_minmax.cv_results_)\n",
    "result_nb_minmax.sort_values(by=['mean_test_score'],ascending=False)\n",
    "result_nb_minmax[['params', 'mean_test_score']].head(5)"
   ]
  },
  {
   "cell_type": "code",
   "execution_count": 9,
   "metadata": {},
   "outputs": [
    {
     "name": "stdout",
     "output_type": "stream",
     "text": [
      "Confusion Matrix For MinMax + Gaussian NB: \n",
      " [[22 17  1]\n",
      " [13 26  1]\n",
      " [ 7  7 18]]\n",
      "              precision    recall  f1-score   support\n",
      "\n",
      "       happy       0.52      0.55      0.54        40\n",
      "         sad       0.52      0.65      0.58        40\n",
      "       angry       0.90      0.56      0.69        32\n",
      "\n",
      "    accuracy                           0.59       112\n",
      "   macro avg       0.65      0.59      0.60       112\n",
      "weighted avg       0.63      0.59      0.60       112\n",
      "\n"
     ]
    }
   ],
   "source": [
    "nb_minmax_pred = nb_minmax.best_estimator_.predict(X_test)\n",
    "cm = confusion_matrix(y_test, nb_minmax_pred)\n",
    "\n",
    "print (\"Confusion Matrix For MinMax + Gaussian NB: \\n\", cm)\n",
    "print(classification_report(y_test, nb_minmax_pred, target_names=['happy', 'sad', 'angry']))"
   ]
  },
  {
   "cell_type": "code",
   "execution_count": 10,
   "metadata": {},
   "outputs": [
    {
     "data": {
      "text/plain": [
       "0.5892857142857143"
      ]
     },
     "execution_count": 10,
     "metadata": {},
     "output_type": "execute_result"
    }
   ],
   "source": [
    "accuracy_score(y_test, nb_minmax_pred)\n"
   ]
  },
  {
   "cell_type": "code",
   "execution_count": 121,
   "metadata": {},
   "outputs": [
    {
     "data": {
      "image/png": "[encoded data removed]",
      "text/plain": [
       "<Figure size 576x576 with 1 Axes>"
      ]
     },
     "metadata": {
      "needs_background": "light"
     },
     "output_type": "display_data"
    }
   ],
   "source": [
    "# Binarize the output\n",
    "n_classes = 3\n",
    "y_score = nb_minmax.best_estimator_.predict_proba(X_test)\n",
    "# Compute ROC curve and ROC area for each class\n",
    "lw = 2\n",
    "n_class = 3\n",
    "fpr = dict()\n",
    "tpr = dict()\n",
    "roc_auc = dict()\n",
    "for i in range(n_class):\n",
    "    fpr[i], tpr[i], _ = roc_curve(y_test[:, i], y_score[:, i])\n",
    "    roc_auc[i] = auc(fpr[i], tpr[i])\n",
    "\n",
    "# Compute micro-average ROC curve and ROC area\n",
    "fpr[\"micro\"], tpr[\"micro\"], _ = roc_curve(y_test.ravel(), y_score.ravel())\n",
    "roc_auc[\"micro\"] = auc(fpr[\"micro\"], tpr[\"micro\"])\n",
    "# First aggregate all false positive rates\n",
    "all_fpr = np.unique(np.concatenate([fpr[i] for i in range(n_classes)]))\n",
    "\n",
    "# Then interpolate all ROC curves at this points\n",
    "mean_tpr = np.zeros_like(all_fpr)\n",
    "for i in range(n_classes):\n",
    "    mean_tpr += np.interp(all_fpr, fpr[i], tpr[i])\n",
    "\n",
    "# Finally average it and compute AUC\n",
    "mean_tpr /= n_classes\n",
    "\n",
    "fpr[\"macro\"] = all_fpr\n",
    "tpr[\"macro\"] = mean_tpr\n",
    "roc_auc[\"macro\"] = auc(fpr[\"macro\"], tpr[\"macro\"])\n",
    "\n",
    "# Plot all ROC curves\n",
    "plt.figure(figsize=(8, 8))\n",
    "\n",
    "plt.plot(\n",
    "    fpr[\"macro\"],\n",
    "    tpr[\"macro\"],\n",
    "    label=\"macro-average ROC curve (area = {0:0.2f})\".format(roc_auc[\"macro\"]),\n",
    "    color=\"navy\",\n",
    "    linestyle=\":\",\n",
    "    linewidth=4,\n",
    ")\n",
    "\n",
    "colors = cycle([\"aqua\", \"darkorange\", \"cornflowerblue\"])\n",
    "classes = ['Happy', 'Sad', 'Angry']\n",
    "for i, color in zip(range(n_classes), colors):\n",
    "    plt.plot(\n",
    "        fpr[i],\n",
    "        tpr[i],\n",
    "        color=color,\n",
    "        lw=lw,\n",
    "        label=\"ROC curve of class {0} (area = {1:0.2f})\".format(classes[i], roc_auc[i]),\n",
    "    )\n",
    "\n",
    "plt.plot([0, 1], [0, 1], \"k--\", lw=lw)\n",
    "plt.xlim([0.0, 1.0])\n",
    "plt.ylim([0.0, 1.05])\n",
    "plt.xlabel(\"False Positive Rate\")\n",
    "plt.ylabel(\"True Positive Rate\")\n",
    "plt.title(\"Gaussian Naive Bayes For MinMax + PCA Dataset\")\n",
    "plt.legend(loc=\"lower right\")\n",
    "plt.show()"
   ]
  },
  {
   "cell_type": "markdown",
   "metadata": {},
   "source": [
    "### Decision Tree"
   ]
  },
  {
   "cell_type": "code",
   "execution_count": 57,
   "metadata": {},
   "outputs": [
    {
     "name": "stdout",
     "output_type": "stream",
     "text": [
      "Fitting 5 folds for each of 201 candidates, totalling 1005 fits\n"
     ]
    },
    {
     "data": {
      "text/plain": [
       "GridSearchCV(cv=5, estimator=DecisionTreeClassifier(),\n",
       "             param_grid={'ccp_alpha': array([0.    , 0.0005, 0.001 , 0.0015, 0.002 , 0.0025, 0.003 , 0.0035,\n",
       "       0.004 , 0.0045, 0.005 , 0.0055, 0.006 , 0.0065, 0.007 , 0.0075,\n",
       "       0.008 , 0.0085, 0.009 , 0.0095, 0.01  , 0.0105, 0.011 , 0.0115,\n",
       "       0.012 , 0.0125, 0.013 , 0.0135, 0.014 , 0.0145, 0.015 , 0.0155,\n",
       "       0.016 , 0.0165, 0.017 , 0.0175, 0.018 , 0.0185, 0.019 , 0.0195,\n",
       "       0.02  , 0.020...\n",
       "       0.076 , 0.0765, 0.077 , 0.0775, 0.078 , 0.0785, 0.079 , 0.0795,\n",
       "       0.08  , 0.0805, 0.081 , 0.0815, 0.082 , 0.0825, 0.083 , 0.0835,\n",
       "       0.084 , 0.0845, 0.085 , 0.0855, 0.086 , 0.0865, 0.087 , 0.0875,\n",
       "       0.088 , 0.0885, 0.089 , 0.0895, 0.09  , 0.0905, 0.091 , 0.0915,\n",
       "       0.092 , 0.0925, 0.093 , 0.0935, 0.094 , 0.0945, 0.095 , 0.0955,\n",
       "       0.096 , 0.0965, 0.097 , 0.0975, 0.098 , 0.0985, 0.099 , 0.0995,\n",
       "       0.1   ]),\n",
       "                         'random_state': [42]},\n",
       "             scoring='f1_macro', verbose=1)"
      ]
     },
     "execution_count": 57,
     "metadata": {},
     "output_type": "execute_result"
    }
   ],
   "source": [
    "from sklearn.tree import DecisionTreeClassifier\n",
    "import matplotlib.pyplot as plt\n",
    "from sklearn.tree import plot_tree\n",
    "grid_values = {'ccp_alpha': np.linspace(0, 0.10, 201),\n",
    "               'random_state': [42]}\n",
    "\n",
    "            \n",
    "dtc = DecisionTreeClassifier()\n",
    "dtc_minmax = GridSearchCV(dtc, param_grid = grid_values, scoring = 'f1_macro', cv=5, verbose=1) \n",
    "dtc_minmax.fit(X_train, y_train)"
   ]
  },
  {
   "cell_type": "code",
   "execution_count": 58,
   "metadata": {},
   "outputs": [
    {
     "data": {
      "text/html": [
       "<div>\n",
       "<style scoped>\n",
       "    .dataframe tbody tr th:only-of-type {\n",
       "        vertical-align: middle;\n",
       "    }\n",
       "\n",
       "    .dataframe tbody tr th {\n",
       "        vertical-align: top;\n",
       "    }\n",
       "\n",
       "    .dataframe thead th {\n",
       "        text-align: right;\n",
       "    }\n",
       "</style>\n",
       "<table border=\"1\" class=\"dataframe\">\n",
       "  <thead>\n",
       "    <tr style=\"text-align: right;\">\n",
       "      <th></th>\n",
       "      <th>params</th>\n",
       "      <th>mean_test_score</th>\n",
       "    </tr>\n",
       "  </thead>\n",
       "  <tbody>\n",
       "    <tr>\n",
       "      <th>0</th>\n",
       "      <td>{'ccp_alpha': 0.0, 'random_state': 42}</td>\n",
       "      <td>0.564099</td>\n",
       "    </tr>\n",
       "    <tr>\n",
       "      <th>1</th>\n",
       "      <td>{'ccp_alpha': 0.0005, 'random_state': 42}</td>\n",
       "      <td>0.564025</td>\n",
       "    </tr>\n",
       "    <tr>\n",
       "      <th>2</th>\n",
       "      <td>{'ccp_alpha': 0.001, 'random_state': 42}</td>\n",
       "      <td>0.572293</td>\n",
       "    </tr>\n",
       "    <tr>\n",
       "      <th>3</th>\n",
       "      <td>{'ccp_alpha': 0.0015, 'random_state': 42}</td>\n",
       "      <td>0.571598</td>\n",
       "    </tr>\n",
       "    <tr>\n",
       "      <th>4</th>\n",
       "      <td>{'ccp_alpha': 0.002, 'random_state': 42}</td>\n",
       "      <td>0.575983</td>\n",
       "    </tr>\n",
       "  </tbody>\n",
       "</table>\n",
       "</div>"
      ],
      "text/plain": [
       "                                      params  mean_test_score\n",
       "0     {'ccp_alpha': 0.0, 'random_state': 42}         0.564099\n",
       "1  {'ccp_alpha': 0.0005, 'random_state': 42}         0.564025\n",
       "2   {'ccp_alpha': 0.001, 'random_state': 42}         0.572293\n",
       "3  {'ccp_alpha': 0.0015, 'random_state': 42}         0.571598\n",
       "4   {'ccp_alpha': 0.002, 'random_state': 42}         0.575983"
      ]
     },
     "execution_count": 58,
     "metadata": {},
     "output_type": "execute_result"
    }
   ],
   "source": [
    "result_dtc_minmax = pd.DataFrame(dtc_minmax.cv_results_)\n",
    "result_dtc_minmax.sort_values(by=['mean_test_score'],ascending=False)\n",
    "result_dtc_minmax[['params', 'mean_test_score']].head(5)"
   ]
  },
  {
   "cell_type": "code",
   "execution_count": 59,
   "metadata": {},
   "outputs": [
    {
     "name": "stdout",
     "output_type": "stream",
     "text": [
      "Confusion Matrix For MinMax + Decision Tree: \n",
      " [[15 15 10]\n",
      " [13 23  4]\n",
      " [ 5  8 19]]\n",
      "              precision    recall  f1-score   support\n",
      "\n",
      "       happy       0.45      0.38      0.41        40\n",
      "         sad       0.50      0.57      0.53        40\n",
      "       angry       0.58      0.59      0.58        32\n",
      "\n",
      "    accuracy                           0.51       112\n",
      "   macro avg       0.51      0.51      0.51       112\n",
      "weighted avg       0.51      0.51      0.50       112\n",
      "\n"
     ]
    }
   ],
   "source": [
    "dtc_minmax_pred = dtc_minmax.best_estimator_.predict(X_test)\n",
    "cm = confusion_matrix(y_test, dtc_minmax_pred)\n",
    "\n",
    "print (\"Confusion Matrix For MinMax + Decision Tree: \\n\", cm)\n",
    "print(classification_report(y_test, dtc_minmax_pred, target_names=['happy', 'sad', 'angry']))\n"
   ]
  },
  {
   "cell_type": "code",
   "execution_count": 60,
   "metadata": {
    "scrolled": true
   },
   "outputs": [
    {
     "data": {
      "text/plain": [
       "0.5089285714285714"
      ]
     },
     "execution_count": 60,
     "metadata": {},
     "output_type": "execute_result"
    }
   ],
   "source": [
    "accuracy_score(y_test, dtc_minmax_pred)"
   ]
  },
  {
   "cell_type": "code",
   "execution_count": 122,
   "metadata": {},
   "outputs": [
    {
     "data": {
      "image/png": "[encoded data removed]",
      "text/plain": [
       "<Figure size 576x576 with 1 Axes>"
      ]
     },
     "metadata": {
      "needs_background": "light"
     },
     "output_type": "display_data"
    }
   ],
   "source": [
    "# Binarize the output\n",
    "n_classes = 3\n",
    "y_score = dtc_minmax.best_estimator_.predict_proba(X_test)\n",
    "# Compute ROC curve and ROC area for each class\n",
    "lw = 2\n",
    "n_class = 3\n",
    "fpr = dict()\n",
    "tpr = dict()\n",
    "roc_auc = dict()\n",
    "for i in range(n_class):\n",
    "    fpr[i], tpr[i], _ = roc_curve(y_test[:, i], y_score[:, i])\n",
    "    roc_auc[i] = auc(fpr[i], tpr[i])\n",
    "\n",
    "# Compute micro-average ROC curve and ROC area\n",
    "fpr[\"micro\"], tpr[\"micro\"], _ = roc_curve(y_test.ravel(), y_score.ravel())\n",
    "roc_auc[\"micro\"] = auc(fpr[\"micro\"], tpr[\"micro\"])\n",
    "# First aggregate all false positive rates\n",
    "all_fpr = np.unique(np.concatenate([fpr[i] for i in range(n_classes)]))\n",
    "\n",
    "# Then interpolate all ROC curves at this points\n",
    "mean_tpr = np.zeros_like(all_fpr)\n",
    "for i in range(n_classes):\n",
    "    mean_tpr += np.interp(all_fpr, fpr[i], tpr[i])\n",
    "\n",
    "# Finally average it and compute AUC\n",
    "mean_tpr /= n_classes\n",
    "\n",
    "fpr[\"macro\"] = all_fpr\n",
    "tpr[\"macro\"] = mean_tpr\n",
    "roc_auc[\"macro\"] = auc(fpr[\"macro\"], tpr[\"macro\"])\n",
    "\n",
    "# Plot all ROC curves\n",
    "plt.figure(figsize=(8, 8))\n",
    "\n",
    "plt.plot(\n",
    "    fpr[\"macro\"],\n",
    "    tpr[\"macro\"],\n",
    "    label=\"macro-average ROC curve (area = {0:0.2f})\".format(roc_auc[\"macro\"]),\n",
    "    color=\"navy\",\n",
    "    linestyle=\":\",\n",
    "    linewidth=4,\n",
    ")\n",
    "\n",
    "colors = cycle([\"aqua\", \"darkorange\", \"cornflowerblue\"])\n",
    "classes = ['Happy', 'Sad', 'Angry']\n",
    "for i, color in zip(range(n_classes), colors):\n",
    "    plt.plot(\n",
    "        fpr[i],\n",
    "        tpr[i],\n",
    "        color=color,\n",
    "        lw=lw,\n",
    "        label=\"ROC curve of class {0} (area = {1:0.2f})\".format(classes[i], roc_auc[i]),\n",
    "    )\n",
    "\n",
    "plt.plot([0, 1], [0, 1], \"k--\", lw=lw)\n",
    "plt.xlim([0.0, 1.0])\n",
    "plt.ylim([0.0, 1.05])\n",
    "plt.xlabel(\"False Positive Rate\")\n",
    "plt.ylabel(\"True Positive Rate\")\n",
    "plt.title(\"Decision Tree Classifier For MinMax + PCA Dataset\")\n",
    "plt.legend(loc=\"lower right\")\n",
    "plt.show()"
   ]
  },
  {
   "cell_type": "markdown",
   "metadata": {},
   "source": [
    "### Ensemble Model"
   ]
  },
  {
   "cell_type": "code",
   "execution_count": 127,
   "metadata": {},
   "outputs": [
    {
     "name": "stdout",
     "output_type": "stream",
     "text": [
      "Execution time: 0.0340418815612793 seconds\n"
     ]
    }
   ],
   "source": [
    "import time\n",
    "# get the start time\n",
    "st = time.time()\n",
    "\n",
    "en_minmax = pd.DataFrame()\n",
    "en_minmax['logistic Regression'] = log_minmax_pred\n",
    "en_minmax['naive bayes'] = nb_minmax_pred\n",
    "en_minmax['Decision Tree'] = dtc_minmax_pred\n",
    "\n",
    "en_minmax\n",
    "# get the end time\n",
    "et = time.time()\n",
    "\n",
    "# get the execution time\n",
    "elapsed_time = et - st\n",
    "print('Execution time:', elapsed_time, 'seconds')"
   ]
  },
  {
   "cell_type": "code",
   "execution_count": 128,
   "metadata": {},
   "outputs": [
    {
     "name": "stdout",
     "output_type": "stream",
     "text": [
      "CPU Execution time: 0.0035349999998288695 seconds\n"
     ]
    }
   ],
   "source": [
    "import time\n",
    "st = time.process_time()\n",
    "en_minmax = pd.DataFrame()\n",
    "en_minmax['logistic Regression'] = log_minmax_pred\n",
    "en_minmax['naive bayes'] = nb_minmax_pred\n",
    "en_minmax['Decision Tree'] = dtc_minmax_pred\n",
    "\n",
    "en_minmax\n",
    "# get the end time\n",
    "et = time.process_time()\n",
    "\n",
    "# get execution time\n",
    "res = et - st\n",
    "print('CPU Execution time:', res, 'seconds')"
   ]
  },
  {
   "cell_type": "code",
   "execution_count": 18,
   "metadata": {},
   "outputs": [
    {
     "data": {
      "text/html": [
       "<div>\n",
       "<style scoped>\n",
       "    .dataframe tbody tr th:only-of-type {\n",
       "        vertical-align: middle;\n",
       "    }\n",
       "\n",
       "    .dataframe tbody tr th {\n",
       "        vertical-align: top;\n",
       "    }\n",
       "\n",
       "    .dataframe thead th {\n",
       "        text-align: right;\n",
       "    }\n",
       "</style>\n",
       "<table border=\"1\" class=\"dataframe\">\n",
       "  <thead>\n",
       "    <tr style=\"text-align: right;\">\n",
       "      <th></th>\n",
       "      <th>logistic Regression</th>\n",
       "      <th>naive bayes</th>\n",
       "      <th>Decision Tree</th>\n",
       "    </tr>\n",
       "  </thead>\n",
       "  <tbody>\n",
       "    <tr>\n",
       "      <th>0</th>\n",
       "      <td>0</td>\n",
       "      <td>1</td>\n",
       "      <td>2</td>\n",
       "    </tr>\n",
       "    <tr>\n",
       "      <th>1</th>\n",
       "      <td>0</td>\n",
       "      <td>1</td>\n",
       "      <td>0</td>\n",
       "    </tr>\n",
       "    <tr>\n",
       "      <th>2</th>\n",
       "      <td>0</td>\n",
       "      <td>1</td>\n",
       "      <td>1</td>\n",
       "    </tr>\n",
       "    <tr>\n",
       "      <th>3</th>\n",
       "      <td>0</td>\n",
       "      <td>0</td>\n",
       "      <td>2</td>\n",
       "    </tr>\n",
       "    <tr>\n",
       "      <th>4</th>\n",
       "      <td>0</td>\n",
       "      <td>0</td>\n",
       "      <td>0</td>\n",
       "    </tr>\n",
       "    <tr>\n",
       "      <th>...</th>\n",
       "      <td>...</td>\n",
       "      <td>...</td>\n",
       "      <td>...</td>\n",
       "    </tr>\n",
       "    <tr>\n",
       "      <th>107</th>\n",
       "      <td>2</td>\n",
       "      <td>2</td>\n",
       "      <td>1</td>\n",
       "    </tr>\n",
       "    <tr>\n",
       "      <th>108</th>\n",
       "      <td>2</td>\n",
       "      <td>2</td>\n",
       "      <td>1</td>\n",
       "    </tr>\n",
       "    <tr>\n",
       "      <th>109</th>\n",
       "      <td>2</td>\n",
       "      <td>0</td>\n",
       "      <td>2</td>\n",
       "    </tr>\n",
       "    <tr>\n",
       "      <th>110</th>\n",
       "      <td>2</td>\n",
       "      <td>2</td>\n",
       "      <td>2</td>\n",
       "    </tr>\n",
       "    <tr>\n",
       "      <th>111</th>\n",
       "      <td>2</td>\n",
       "      <td>0</td>\n",
       "      <td>2</td>\n",
       "    </tr>\n",
       "  </tbody>\n",
       "</table>\n",
       "<p>112 rows × 3 columns</p>\n",
       "</div>"
      ],
      "text/plain": [
       "     logistic Regression  naive bayes  Decision Tree\n",
       "0                      0            1              2\n",
       "1                      0            1              0\n",
       "2                      0            1              1\n",
       "3                      0            0              2\n",
       "4                      0            0              0\n",
       "..                   ...          ...            ...\n",
       "107                    2            2              1\n",
       "108                    2            2              1\n",
       "109                    2            0              2\n",
       "110                    2            2              2\n",
       "111                    2            0              2\n",
       "\n",
       "[112 rows x 3 columns]"
      ]
     },
     "execution_count": 18,
     "metadata": {},
     "output_type": "execute_result"
    }
   ],
   "source": [
    "en_minmax = pd.DataFrame()\n",
    "en_minmax['logistic Regression'] = log_minmax_pred\n",
    "en_minmax['naive bayes'] = nb_minmax_pred\n",
    "en_minmax['Decision Tree'] = dtc_minmax_pred\n",
    "\n",
    "en_minmax"
   ]
  },
  {
   "cell_type": "code",
   "execution_count": 26,
   "metadata": {},
   "outputs": [
    {
     "name": "stdout",
     "output_type": "stream",
     "text": [
      "Confusion Matrix For MinMax + Ensemble: \n",
      " [[30 10  0]\n",
      " [12 28  0]\n",
      " [ 4  3 25]]\n",
      "              precision    recall  f1-score   support\n",
      "\n",
      "       happy       0.65      0.75      0.70        40\n",
      "         sad       0.68      0.70      0.69        40\n",
      "       angry       1.00      0.78      0.88        32\n",
      "\n",
      "    accuracy                           0.74       112\n",
      "   macro avg       0.78      0.74      0.76       112\n",
      "weighted avg       0.76      0.74      0.75       112\n",
      "\n"
     ]
    }
   ],
   "source": [
    "en_minmax_pred = en_minmax.mode(axis='columns').iloc[:, 0]\n",
    "cm = confusion_matrix(y_test, en_minmax_pred)\n",
    "\n",
    "print (\"Confusion Matrix For MinMax + Ensemble: \\n\", cm)\n",
    "print(classification_report(y_test, en_minmax_pred, target_names=['happy', 'sad', 'angry']))"
   ]
  },
  {
   "cell_type": "code",
   "execution_count": 27,
   "metadata": {},
   "outputs": [
    {
     "data": {
      "text/plain": [
       "0.7410714285714286"
      ]
     },
     "execution_count": 27,
     "metadata": {},
     "output_type": "execute_result"
    }
   ],
   "source": [
    "accuracy_score(y_test, en_minmax_pred)"
   ]
  },
  {
   "cell_type": "markdown",
   "metadata": {},
   "source": [
    "### Standard Normalization + PCA\n",
    "### logistic regression\n"
   ]
  },
  {
   "cell_type": "code",
   "execution_count": 31,
   "metadata": {},
   "outputs": [],
   "source": [
    "df_sc = pd.read_csv(\"x_train_sc_pca_97.csv\") \n",
    "y_sc_train = df_sc['class']\n",
    "X_sc_train = df_sc.drop(['class'], axis = 1)\n",
    "df_sc_test = pd.read_csv(\"x_test_sc_pca_97.csv\") \n",
    "y_sc_test = df_sc_test['class']\n",
    "X_sc_test = df_sc_test.drop(['class'], axis = 1)\n"
   ]
  },
  {
   "cell_type": "code",
   "execution_count": 32,
   "metadata": {},
   "outputs": [
    {
     "data": {
      "text/html": [
       "<div>\n",
       "<style scoped>\n",
       "    .dataframe tbody tr th:only-of-type {\n",
       "        vertical-align: middle;\n",
       "    }\n",
       "\n",
       "    .dataframe tbody tr th {\n",
       "        vertical-align: top;\n",
       "    }\n",
       "\n",
       "    .dataframe thead th {\n",
       "        text-align: right;\n",
       "    }\n",
       "</style>\n",
       "<table border=\"1\" class=\"dataframe\">\n",
       "  <thead>\n",
       "    <tr style=\"text-align: right;\">\n",
       "      <th></th>\n",
       "      <th>0</th>\n",
       "      <th>1</th>\n",
       "      <th>2</th>\n",
       "      <th>3</th>\n",
       "      <th>4</th>\n",
       "      <th>...</th>\n",
       "      <th>818</th>\n",
       "      <th>819</th>\n",
       "      <th>820</th>\n",
       "      <th>821</th>\n",
       "      <th>class</th>\n",
       "    </tr>\n",
       "  </thead>\n",
       "  <tbody>\n",
       "    <tr>\n",
       "      <th>0</th>\n",
       "      <td>-7.724222</td>\n",
       "      <td>43.702136</td>\n",
       "      <td>-8.733438</td>\n",
       "      <td>-18.413934</td>\n",
       "      <td>-4.172738</td>\n",
       "      <td>...</td>\n",
       "      <td>-0.324779</td>\n",
       "      <td>0.600665</td>\n",
       "      <td>-0.135713</td>\n",
       "      <td>-0.283232</td>\n",
       "      <td>0</td>\n",
       "    </tr>\n",
       "    <tr>\n",
       "      <th>1</th>\n",
       "      <td>3.278755</td>\n",
       "      <td>46.345452</td>\n",
       "      <td>-8.714898</td>\n",
       "      <td>-6.171662</td>\n",
       "      <td>-10.362246</td>\n",
       "      <td>...</td>\n",
       "      <td>-0.059931</td>\n",
       "      <td>0.302256</td>\n",
       "      <td>0.883764</td>\n",
       "      <td>-0.200326</td>\n",
       "      <td>0</td>\n",
       "    </tr>\n",
       "    <tr>\n",
       "      <th>2</th>\n",
       "      <td>73.688649</td>\n",
       "      <td>22.888624</td>\n",
       "      <td>-4.408990</td>\n",
       "      <td>19.304803</td>\n",
       "      <td>14.994245</td>\n",
       "      <td>...</td>\n",
       "      <td>0.016746</td>\n",
       "      <td>-0.371382</td>\n",
       "      <td>0.056661</td>\n",
       "      <td>0.014483</td>\n",
       "      <td>0</td>\n",
       "    </tr>\n",
       "    <tr>\n",
       "      <th>...</th>\n",
       "      <td>...</td>\n",
       "      <td>...</td>\n",
       "      <td>...</td>\n",
       "      <td>...</td>\n",
       "      <td>...</td>\n",
       "      <td>...</td>\n",
       "      <td>...</td>\n",
       "      <td>...</td>\n",
       "      <td>...</td>\n",
       "      <td>...</td>\n",
       "      <td>...</td>\n",
       "    </tr>\n",
       "    <tr>\n",
       "      <th>109</th>\n",
       "      <td>-58.048963</td>\n",
       "      <td>2.991186</td>\n",
       "      <td>13.923840</td>\n",
       "      <td>-3.877659</td>\n",
       "      <td>8.519540</td>\n",
       "      <td>...</td>\n",
       "      <td>1.166759</td>\n",
       "      <td>-0.267535</td>\n",
       "      <td>-0.352912</td>\n",
       "      <td>0.258270</td>\n",
       "      <td>2</td>\n",
       "    </tr>\n",
       "    <tr>\n",
       "      <th>110</th>\n",
       "      <td>-1.896902</td>\n",
       "      <td>96.970440</td>\n",
       "      <td>-36.630747</td>\n",
       "      <td>23.175053</td>\n",
       "      <td>0.000823</td>\n",
       "      <td>...</td>\n",
       "      <td>-0.418050</td>\n",
       "      <td>-0.051926</td>\n",
       "      <td>0.457535</td>\n",
       "      <td>-0.718437</td>\n",
       "      <td>2</td>\n",
       "    </tr>\n",
       "    <tr>\n",
       "      <th>111</th>\n",
       "      <td>-39.331068</td>\n",
       "      <td>-14.513726</td>\n",
       "      <td>-6.902976</td>\n",
       "      <td>26.419090</td>\n",
       "      <td>-0.986210</td>\n",
       "      <td>...</td>\n",
       "      <td>-0.419198</td>\n",
       "      <td>-0.287850</td>\n",
       "      <td>0.752592</td>\n",
       "      <td>0.958320</td>\n",
       "      <td>2</td>\n",
       "    </tr>\n",
       "  </tbody>\n",
       "</table>\n",
       "<p>112 rows × 823 columns</p>\n",
       "</div>"
      ],
      "text/plain": [
       "             0          1          2          3          4  ...       818  \\\n",
       "0    -7.724222  43.702136  -8.733438 -18.413934  -4.172738  ... -0.324779   \n",
       "1     3.278755  46.345452  -8.714898  -6.171662 -10.362246  ... -0.059931   \n",
       "2    73.688649  22.888624  -4.408990  19.304803  14.994245  ...  0.016746   \n",
       "..         ...        ...        ...        ...        ...  ...       ...   \n",
       "109 -58.048963   2.991186  13.923840  -3.877659   8.519540  ...  1.166759   \n",
       "110  -1.896902  96.970440 -36.630747  23.175053   0.000823  ... -0.418050   \n",
       "111 -39.331068 -14.513726  -6.902976  26.419090  -0.986210  ... -0.419198   \n",
       "\n",
       "          819       820       821  class  \n",
       "0    0.600665 -0.135713 -0.283232      0  \n",
       "1    0.302256  0.883764 -0.200326      0  \n",
       "2   -0.371382  0.056661  0.014483      0  \n",
       "..        ...       ...       ...    ...  \n",
       "109 -0.267535 -0.352912  0.258270      2  \n",
       "110 -0.051926  0.457535 -0.718437      2  \n",
       "111 -0.287850  0.752592  0.958320      2  \n",
       "\n",
       "[112 rows x 823 columns]"
      ]
     },
     "execution_count": 32,
     "metadata": {},
     "output_type": "execute_result"
    }
   ],
   "source": [
    "pd.set_option(\"max_columns\", 10)\n",
    "pd.set_option(\"max_rows\", 6)\n",
    "df_sc_test"
   ]
  },
  {
   "cell_type": "code",
   "execution_count": 33,
   "metadata": {},
   "outputs": [
    {
     "name": "stdout",
     "output_type": "stream",
     "text": [
      "Fitting 5 folds for each of 15 candidates, totalling 75 fits\n"
     ]
    },
    {
     "data": {
      "text/plain": [
       "GridSearchCV(cv=5, estimator=LogisticRegression(),\n",
       "             param_grid={'C': [0.001, 0.01, 0.1, 1, 1.5, 2, 6, 8, 10, 20, 50,\n",
       "                               100, 400, 800, 1000],\n",
       "                         'class_weight': ['balanced'], 'max_iter': [10000],\n",
       "                         'multi_class': ['multinomial'], 'penalty': ['l2'],\n",
       "                         'solver': ['lbfgs']},\n",
       "             scoring='f1_macro', verbose=1)"
      ]
     },
     "execution_count": 33,
     "metadata": {},
     "output_type": "execute_result"
    }
   ],
   "source": [
    "grid_values = {'C': [0.001, 0.01, 0.1, 1, 1.5, 2, 6, 8, 10, 20, 50, 100, 400, 800, 1000],\n",
    "               'solver': ['lbfgs'],\n",
    "              'multi_class': ['multinomial'],\n",
    "              'penalty': ['l2'],\n",
    "               'max_iter': [10000],\n",
    "              'class_weight': ['balanced']}\n",
    "log_sc = LogisticRegression()\n",
    "log_sc = GridSearchCV(log_sc, param_grid = grid_values, scoring = 'f1_macro', cv=5, verbose=1)\n",
    "log_sc.fit(X_sc_train, y_sc_train)\n"
   ]
  },
  {
   "cell_type": "code",
   "execution_count": 34,
   "metadata": {},
   "outputs": [
    {
     "data": {
      "text/html": [
       "<div>\n",
       "<style scoped>\n",
       "    .dataframe tbody tr th:only-of-type {\n",
       "        vertical-align: middle;\n",
       "    }\n",
       "\n",
       "    .dataframe tbody tr th {\n",
       "        vertical-align: top;\n",
       "    }\n",
       "\n",
       "    .dataframe thead th {\n",
       "        text-align: right;\n",
       "    }\n",
       "</style>\n",
       "<table border=\"1\" class=\"dataframe\">\n",
       "  <thead>\n",
       "    <tr style=\"text-align: right;\">\n",
       "      <th></th>\n",
       "      <th>params</th>\n",
       "      <th>mean_test_score</th>\n",
       "    </tr>\n",
       "  </thead>\n",
       "  <tbody>\n",
       "    <tr>\n",
       "      <th>0</th>\n",
       "      <td>{'C': 0.001, 'class_weight': 'balanced', 'max_...</td>\n",
       "      <td>0.752255</td>\n",
       "    </tr>\n",
       "    <tr>\n",
       "      <th>1</th>\n",
       "      <td>{'C': 0.01, 'class_weight': 'balanced', 'max_i...</td>\n",
       "      <td>0.741837</td>\n",
       "    </tr>\n",
       "  </tbody>\n",
       "</table>\n",
       "</div>"
      ],
      "text/plain": [
       "                                              params  mean_test_score\n",
       "0  {'C': 0.001, 'class_weight': 'balanced', 'max_...         0.752255\n",
       "1  {'C': 0.01, 'class_weight': 'balanced', 'max_i...         0.741837"
      ]
     },
     "execution_count": 34,
     "metadata": {},
     "output_type": "execute_result"
    }
   ],
   "source": [
    "result_log_sc = pd.DataFrame(log_sc.cv_results_)\n",
    "result_log_sc.sort_values(by=['mean_test_score'],ascending=False)\n",
    "result_log_sc[['params', 'mean_test_score']].head(2)"
   ]
  },
  {
   "cell_type": "code",
   "execution_count": 35,
   "metadata": {},
   "outputs": [
    {
     "name": "stdout",
     "output_type": "stream",
     "text": [
      "Fitting 5 folds for each of 2 candidates, totalling 10 fits\n"
     ]
    },
    {
     "name": "stderr",
     "output_type": "stream",
     "text": [
      "/Users/selina/opt/anaconda3/lib/python3.8/site-packages/sklearn/linear_model/_logistic.py:1322: UserWarning: Setting penalty='none' will ignore the C and l1_ratio parameters\n",
      "  warnings.warn(\n",
      "/Users/selina/opt/anaconda3/lib/python3.8/site-packages/sklearn/linear_model/_logistic.py:1322: UserWarning: Setting penalty='none' will ignore the C and l1_ratio parameters\n",
      "  warnings.warn(\n",
      "/Users/selina/opt/anaconda3/lib/python3.8/site-packages/sklearn/linear_model/_logistic.py:1322: UserWarning: Setting penalty='none' will ignore the C and l1_ratio parameters\n",
      "  warnings.warn(\n",
      "/Users/selina/opt/anaconda3/lib/python3.8/site-packages/sklearn/linear_model/_logistic.py:1322: UserWarning: Setting penalty='none' will ignore the C and l1_ratio parameters\n",
      "  warnings.warn(\n",
      "/Users/selina/opt/anaconda3/lib/python3.8/site-packages/sklearn/linear_model/_logistic.py:1322: UserWarning: Setting penalty='none' will ignore the C and l1_ratio parameters\n",
      "  warnings.warn(\n"
     ]
    },
    {
     "data": {
      "text/plain": [
       "GridSearchCV(cv=5, estimator=LogisticRegression(),\n",
       "             param_grid={'C': [0.001], 'class_weight': ['balanced'],\n",
       "                         'max_iter': [10000], 'multi_class': ['multinomial'],\n",
       "                         'penalty': ['l2', 'none'], 'solver': ['lbfgs']},\n",
       "             scoring='f1_macro', verbose=1)"
      ]
     },
     "execution_count": 35,
     "metadata": {},
     "output_type": "execute_result"
    }
   ],
   "source": [
    "# Compare the best regularized model and non-regularized model\n",
    "grid_values = {'C': [0.001],\n",
    "               'solver': ['lbfgs'],\n",
    "              'multi_class': ['multinomial'],\n",
    "              'penalty': ['l2', 'none'],\n",
    "               'max_iter': [10000],\n",
    "              'class_weight': ['balanced']}\n",
    "log = LogisticRegression()\n",
    "log_sc = GridSearchCV(log, param_grid = grid_values, cv=5, verbose=1, scoring = 'f1_macro')\n",
    "log_sc.fit(X_sc_train, y_sc_train)\n"
   ]
  },
  {
   "cell_type": "code",
   "execution_count": 36,
   "metadata": {},
   "outputs": [
    {
     "name": "stdout",
     "output_type": "stream",
     "text": [
      "Confusion Matrix Standardization + Logistic Regression: \n",
      " [[28 12  0]\n",
      " [ 8 32  0]\n",
      " [ 0  0 32]]\n",
      "              precision    recall  f1-score   support\n",
      "\n",
      "       happy       0.78      0.70      0.74        40\n",
      "         sad       0.73      0.80      0.76        40\n",
      "       angry       1.00      1.00      1.00        32\n",
      "\n",
      "    accuracy                           0.82       112\n",
      "   macro avg       0.84      0.83      0.83       112\n",
      "weighted avg       0.82      0.82      0.82       112\n",
      "\n"
     ]
    }
   ],
   "source": [
    "log_sc_pred = log_sc.best_estimator_.predict(X_sc_test)\n",
    "cm = confusion_matrix(y_sc_test, log_sc_pred)\n",
    "\n",
    "print (\"Confusion Matrix Standardization + Logistic Regression: \\n\", cm)\n",
    "print(classification_report(y_sc_test, log_sc_pred, target_names=['happy', 'sad', 'angry']))"
   ]
  },
  {
   "cell_type": "code",
   "execution_count": 37,
   "metadata": {},
   "outputs": [
    {
     "data": {
      "text/plain": [
       "0.8214285714285714"
      ]
     },
     "execution_count": 37,
     "metadata": {},
     "output_type": "execute_result"
    }
   ],
   "source": [
    "accuracy_score(y_sc_test, log_sc_pred)\n"
   ]
  },
  {
   "cell_type": "code",
   "execution_count": 123,
   "metadata": {},
   "outputs": [
    {
     "data": {
      "image/png": "[encoded data removed]",
      "text/plain": [
       "<Figure size 576x576 with 1 Axes>"
      ]
     },
     "metadata": {
      "needs_background": "light"
     },
     "output_type": "display_data"
    }
   ],
   "source": [
    "# Binarize the output\n",
    "n_classes = 3\n",
    "y_score = log_sc.best_estimator_.predict_proba(X_sc_test)\n",
    "# Compute ROC curve and ROC area for each class\n",
    "lw = 2\n",
    "n_class = 3\n",
    "fpr = dict()\n",
    "tpr = dict()\n",
    "roc_auc = dict()\n",
    "for i in range(n_class):\n",
    "    fpr[i], tpr[i], _ = roc_curve(y_test[:, i], y_score[:, i])\n",
    "    roc_auc[i] = auc(fpr[i], tpr[i])\n",
    "\n",
    "# Compute micro-average ROC curve and ROC area\n",
    "fpr[\"micro\"], tpr[\"micro\"], _ = roc_curve(y_test.ravel(), y_score.ravel())\n",
    "roc_auc[\"micro\"] = auc(fpr[\"micro\"], tpr[\"micro\"])\n",
    "# First aggregate all false positive rates\n",
    "all_fpr = np.unique(np.concatenate([fpr[i] for i in range(n_classes)]))\n",
    "\n",
    "# Then interpolate all ROC curves at this points\n",
    "mean_tpr = np.zeros_like(all_fpr)\n",
    "for i in range(n_classes):\n",
    "    mean_tpr += np.interp(all_fpr, fpr[i], tpr[i])\n",
    "\n",
    "# Finally average it and compute AUC\n",
    "mean_tpr /= n_classes\n",
    "\n",
    "fpr[\"macro\"] = all_fpr\n",
    "tpr[\"macro\"] = mean_tpr\n",
    "roc_auc[\"macro\"] = auc(fpr[\"macro\"], tpr[\"macro\"])\n",
    "\n",
    "# Plot all ROC curves\n",
    "plt.figure(figsize=(8, 8))\n",
    "\n",
    "plt.plot(\n",
    "    fpr[\"macro\"],\n",
    "    tpr[\"macro\"],\n",
    "    label=\"macro-average ROC curve (area = {0:0.2f})\".format(roc_auc[\"macro\"]),\n",
    "    color=\"navy\",\n",
    "    linestyle=\":\",\n",
    "    linewidth=4,\n",
    ")\n",
    "\n",
    "colors = cycle([\"aqua\", \"darkorange\", \"cornflowerblue\"])\n",
    "classes = ['Happy', 'Sad', 'Angry']\n",
    "for i, color in zip(range(n_classes), colors):\n",
    "    plt.plot(\n",
    "        fpr[i],\n",
    "        tpr[i],\n",
    "        color=color,\n",
    "        lw=lw,\n",
    "        label=\"ROC curve of class {0} (area = {1:0.2f})\".format(classes[i], roc_auc[i]),\n",
    "    )\n",
    "\n",
    "plt.plot([0, 1], [0, 1], \"k--\", lw=lw)\n",
    "plt.xlim([0.0, 1.0])\n",
    "plt.ylim([0.0, 1.05])\n",
    "plt.xlabel(\"False Positive Rate\")\n",
    "plt.ylabel(\"True Positive Rate\")\n",
    "plt.title(\"Logistics Regression For Standardization + PCA Dataset\")\n",
    "plt.legend(loc=\"lower right\")\n",
    "plt.show()"
   ]
  },
  {
   "cell_type": "markdown",
   "metadata": {},
   "source": [
    "### Gaussian NB"
   ]
  },
  {
   "cell_type": "code",
   "execution_count": 38,
   "metadata": {},
   "outputs": [
    {
     "name": "stdout",
     "output_type": "stream",
     "text": [
      "Fitting 5 folds for each of 1000 candidates, totalling 5000 fits\n"
     ]
    },
    {
     "data": {
      "text/html": [
       "<div>\n",
       "<style scoped>\n",
       "    .dataframe tbody tr th:only-of-type {\n",
       "        vertical-align: middle;\n",
       "    }\n",
       "\n",
       "    .dataframe tbody tr th {\n",
       "        vertical-align: top;\n",
       "    }\n",
       "\n",
       "    .dataframe thead th {\n",
       "        text-align: right;\n",
       "    }\n",
       "</style>\n",
       "<table border=\"1\" class=\"dataframe\">\n",
       "  <thead>\n",
       "    <tr style=\"text-align: right;\">\n",
       "      <th></th>\n",
       "      <th>params</th>\n",
       "      <th>mean_test_score</th>\n",
       "    </tr>\n",
       "  </thead>\n",
       "  <tbody>\n",
       "    <tr>\n",
       "      <th>0</th>\n",
       "      <td>{'var_smoothing': 1.0}</td>\n",
       "      <td>0.496663</td>\n",
       "    </tr>\n",
       "    <tr>\n",
       "      <th>1</th>\n",
       "      <td>{'var_smoothing': 0.9794696670695393}</td>\n",
       "      <td>0.497123</td>\n",
       "    </tr>\n",
       "    <tr>\n",
       "      <th>2</th>\n",
       "      <td>{'var_smoothing': 0.9593608287093143}</td>\n",
       "      <td>0.497123</td>\n",
       "    </tr>\n",
       "    <tr>\n",
       "      <th>3</th>\n",
       "      <td>{'var_smoothing': 0.9396648314954694}</td>\n",
       "      <td>0.496710</td>\n",
       "    </tr>\n",
       "    <tr>\n",
       "      <th>4</th>\n",
       "      <td>{'var_smoothing': 0.9203731996618223}</td>\n",
       "      <td>0.496480</td>\n",
       "    </tr>\n",
       "  </tbody>\n",
       "</table>\n",
       "</div>"
      ],
      "text/plain": [
       "                                  params  mean_test_score\n",
       "0                 {'var_smoothing': 1.0}         0.496663\n",
       "1  {'var_smoothing': 0.9794696670695393}         0.497123\n",
       "2  {'var_smoothing': 0.9593608287093143}         0.497123\n",
       "3  {'var_smoothing': 0.9396648314954694}         0.496710\n",
       "4  {'var_smoothing': 0.9203731996618223}         0.496480"
      ]
     },
     "execution_count": 38,
     "metadata": {},
     "output_type": "execute_result"
    }
   ],
   "source": [
    "param_grid_nb = {\n",
    "    'var_smoothing': np.logspace(0,-9, num =1000)\n",
    "}\n",
    "\n",
    "nb_sc = GridSearchCV(estimator=GaussianNB(), param_grid=param_grid_nb, verbose=1, cv=5, scoring = 'f1_macro')\n",
    "nb_sc.fit(X_sc_train, y_sc_train)\n",
    "\n",
    "result_nb_sc = pd.DataFrame(nb_sc.cv_results_)\n",
    "result_nb_sc.sort_values(by=['mean_test_score'],ascending=False)\n",
    "result_nb_sc[['params', 'mean_test_score']].head(5)"
   ]
  },
  {
   "cell_type": "code",
   "execution_count": 39,
   "metadata": {},
   "outputs": [
    {
     "name": "stdout",
     "output_type": "stream",
     "text": [
      "Confusion Matrix Standardization + Gaussian NB: \n",
      " [[ 8 28  4]\n",
      " [ 1 38  1]\n",
      " [ 0 16 16]]\n",
      "              precision    recall  f1-score   support\n",
      "\n",
      "       happy       0.89      0.20      0.33        40\n",
      "         sad       0.46      0.95      0.62        40\n",
      "       angry       0.76      0.50      0.60        32\n",
      "\n",
      "    accuracy                           0.55       112\n",
      "   macro avg       0.70      0.55      0.52       112\n",
      "weighted avg       0.70      0.55      0.51       112\n",
      "\n"
     ]
    }
   ],
   "source": [
    "nb_sc_pred = nb_sc.best_estimator_.predict(X_sc_test)\n",
    "cm = confusion_matrix(y_sc_test, nb_sc_pred)\n",
    "\n",
    "print (\"Confusion Matrix Standardization + Gaussian NB: \\n\", cm)\n",
    "print(classification_report(y_sc_test, nb_sc_pred, target_names=['happy', 'sad', 'angry']))"
   ]
  },
  {
   "cell_type": "code",
   "execution_count": 40,
   "metadata": {},
   "outputs": [
    {
     "data": {
      "text/plain": [
       "0.5535714285714286"
      ]
     },
     "execution_count": 40,
     "metadata": {},
     "output_type": "execute_result"
    }
   ],
   "source": [
    "accuracy_score(y_sc_test, nb_sc_pred)\n"
   ]
  },
  {
   "cell_type": "code",
   "execution_count": 124,
   "metadata": {},
   "outputs": [
    {
     "data": {
      "image/png": "[encoded data removed]",
      "text/plain": [
       "<Figure size 576x576 with 1 Axes>"
      ]
     },
     "metadata": {
      "needs_background": "light"
     },
     "output_type": "display_data"
    }
   ],
   "source": [
    "# Binarize the output\n",
    "n_classes = 3\n",
    "y_score = nb_sc.best_estimator_.predict_proba(X_sc_test)\n",
    "# Compute ROC curve and ROC area for each class\n",
    "lw = 2\n",
    "n_class = 3\n",
    "fpr = dict()\n",
    "tpr = dict()\n",
    "roc_auc = dict()\n",
    "for i in range(n_class):\n",
    "    fpr[i], tpr[i], _ = roc_curve(y_test[:, i], y_score[:, i])\n",
    "    roc_auc[i] = auc(fpr[i], tpr[i])\n",
    "\n",
    "# Compute micro-average ROC curve and ROC area\n",
    "fpr[\"micro\"], tpr[\"micro\"], _ = roc_curve(y_test.ravel(), y_score.ravel())\n",
    "roc_auc[\"micro\"] = auc(fpr[\"micro\"], tpr[\"micro\"])\n",
    "# First aggregate all false positive rates\n",
    "all_fpr = np.unique(np.concatenate([fpr[i] for i in range(n_classes)]))\n",
    "\n",
    "# Then interpolate all ROC curves at this points\n",
    "mean_tpr = np.zeros_like(all_fpr)\n",
    "for i in range(n_classes):\n",
    "    mean_tpr += np.interp(all_fpr, fpr[i], tpr[i])\n",
    "\n",
    "# Finally average it and compute AUC\n",
    "mean_tpr /= n_classes\n",
    "\n",
    "fpr[\"macro\"] = all_fpr\n",
    "tpr[\"macro\"] = mean_tpr\n",
    "roc_auc[\"macro\"] = auc(fpr[\"macro\"], tpr[\"macro\"])\n",
    "\n",
    "# Plot all ROC curves\n",
    "plt.figure(figsize=(8, 8))\n",
    "\n",
    "plt.plot(\n",
    "    fpr[\"macro\"],\n",
    "    tpr[\"macro\"],\n",
    "    label=\"macro-average ROC curve (area = {0:0.2f})\".format(roc_auc[\"macro\"]),\n",
    "    color=\"navy\",\n",
    "    linestyle=\":\",\n",
    "    linewidth=4,\n",
    ")\n",
    "\n",
    "colors = cycle([\"aqua\", \"darkorange\", \"cornflowerblue\"])\n",
    "classes = ['Happy', 'Sad', 'Angry']\n",
    "for i, color in zip(range(n_classes), colors):\n",
    "    plt.plot(\n",
    "        fpr[i],\n",
    "        tpr[i],\n",
    "        color=color,\n",
    "        lw=lw,\n",
    "        label=\"ROC curve of class {0} (area = {1:0.2f})\".format(classes[i], roc_auc[i]),\n",
    "    )\n",
    "\n",
    "plt.plot([0, 1], [0, 1], \"k--\", lw=lw)\n",
    "plt.xlim([0.0, 1.0])\n",
    "plt.ylim([0.0, 1.05])\n",
    "plt.xlabel(\"False Positive Rate\")\n",
    "plt.ylabel(\"True Positive Rate\")\n",
    "plt.title(\"Gaussian Naive Bayes For Standardization + PCA Dataset\")\n",
    "plt.legend(loc=\"lower right\")\n",
    "plt.show()"
   ]
  },
  {
   "cell_type": "markdown",
   "metadata": {},
   "source": [
    "### Decision Tree"
   ]
  },
  {
   "cell_type": "code",
   "execution_count": 53,
   "metadata": {},
   "outputs": [
    {
     "name": "stdout",
     "output_type": "stream",
     "text": [
      "Fitting 5 folds for each of 201 candidates, totalling 1005 fits\n"
     ]
    },
    {
     "data": {
      "text/plain": [
       "GridSearchCV(cv=5, estimator=DecisionTreeClassifier(),\n",
       "             param_grid={'ccp_alpha': array([0.    , 0.0005, 0.001 , 0.0015, 0.002 , 0.0025, 0.003 , 0.0035,\n",
       "       0.004 , 0.0045, 0.005 , 0.0055, 0.006 , 0.0065, 0.007 , 0.0075,\n",
       "       0.008 , 0.0085, 0.009 , 0.0095, 0.01  , 0.0105, 0.011 , 0.0115,\n",
       "       0.012 , 0.0125, 0.013 , 0.0135, 0.014 , 0.0145, 0.015 , 0.0155,\n",
       "       0.016 , 0.0165, 0.017 , 0.0175, 0.018 , 0.0185, 0.019 , 0.0195,\n",
       "       0.02  , 0.020...\n",
       "       0.076 , 0.0765, 0.077 , 0.0775, 0.078 , 0.0785, 0.079 , 0.0795,\n",
       "       0.08  , 0.0805, 0.081 , 0.0815, 0.082 , 0.0825, 0.083 , 0.0835,\n",
       "       0.084 , 0.0845, 0.085 , 0.0855, 0.086 , 0.0865, 0.087 , 0.0875,\n",
       "       0.088 , 0.0885, 0.089 , 0.0895, 0.09  , 0.0905, 0.091 , 0.0915,\n",
       "       0.092 , 0.0925, 0.093 , 0.0935, 0.094 , 0.0945, 0.095 , 0.0955,\n",
       "       0.096 , 0.0965, 0.097 , 0.0975, 0.098 , 0.0985, 0.099 , 0.0995,\n",
       "       0.1   ]),\n",
       "                         'random_state': [42]},\n",
       "             scoring='f1_macro', verbose=1)"
      ]
     },
     "execution_count": 53,
     "metadata": {},
     "output_type": "execute_result"
    }
   ],
   "source": [
    "grid_values = {'ccp_alpha': np.linspace(0, 0.10, 201),\n",
    "               'random_state': [42]}\n",
    "\n",
    "            \n",
    "dtc = DecisionTreeClassifier()\n",
    "dtc_sc = GridSearchCV(dtc, param_grid = grid_values, scoring = 'f1_macro', cv=5, verbose=1) \n",
    "dtc_sc.fit(X_sc_train, y_sc_train)"
   ]
  },
  {
   "cell_type": "code",
   "execution_count": 54,
   "metadata": {},
   "outputs": [
    {
     "data": {
      "text/html": [
       "<div>\n",
       "<style scoped>\n",
       "    .dataframe tbody tr th:only-of-type {\n",
       "        vertical-align: middle;\n",
       "    }\n",
       "\n",
       "    .dataframe tbody tr th {\n",
       "        vertical-align: top;\n",
       "    }\n",
       "\n",
       "    .dataframe thead th {\n",
       "        text-align: right;\n",
       "    }\n",
       "</style>\n",
       "<table border=\"1\" class=\"dataframe\">\n",
       "  <thead>\n",
       "    <tr style=\"text-align: right;\">\n",
       "      <th></th>\n",
       "      <th>params</th>\n",
       "      <th>mean_test_score</th>\n",
       "    </tr>\n",
       "  </thead>\n",
       "  <tbody>\n",
       "    <tr>\n",
       "      <th>0</th>\n",
       "      <td>{'ccp_alpha': 0.0, 'random_state': 42}</td>\n",
       "      <td>0.583901</td>\n",
       "    </tr>\n",
       "    <tr>\n",
       "      <th>1</th>\n",
       "      <td>{'ccp_alpha': 0.0005, 'random_state': 42}</td>\n",
       "      <td>0.583599</td>\n",
       "    </tr>\n",
       "    <tr>\n",
       "      <th>2</th>\n",
       "      <td>{'ccp_alpha': 0.001, 'random_state': 42}</td>\n",
       "      <td>0.587887</td>\n",
       "    </tr>\n",
       "    <tr>\n",
       "      <th>3</th>\n",
       "      <td>{'ccp_alpha': 0.0015, 'random_state': 42}</td>\n",
       "      <td>0.594665</td>\n",
       "    </tr>\n",
       "    <tr>\n",
       "      <th>4</th>\n",
       "      <td>{'ccp_alpha': 0.002, 'random_state': 42}</td>\n",
       "      <td>0.596543</td>\n",
       "    </tr>\n",
       "  </tbody>\n",
       "</table>\n",
       "</div>"
      ],
      "text/plain": [
       "                                      params  mean_test_score\n",
       "0     {'ccp_alpha': 0.0, 'random_state': 42}         0.583901\n",
       "1  {'ccp_alpha': 0.0005, 'random_state': 42}         0.583599\n",
       "2   {'ccp_alpha': 0.001, 'random_state': 42}         0.587887\n",
       "3  {'ccp_alpha': 0.0015, 'random_state': 42}         0.594665\n",
       "4   {'ccp_alpha': 0.002, 'random_state': 42}         0.596543"
      ]
     },
     "execution_count": 54,
     "metadata": {},
     "output_type": "execute_result"
    }
   ],
   "source": [
    "result_dtc_sc = pd.DataFrame(dtc_sc.cv_results_)\n",
    "result_dtc_sc.sort_values(by=['mean_test_score'],ascending=False)\n",
    "result_dtc_sc[['params', 'mean_test_score']].head(5)"
   ]
  },
  {
   "cell_type": "code",
   "execution_count": 55,
   "metadata": {},
   "outputs": [
    {
     "name": "stdout",
     "output_type": "stream",
     "text": [
      "Confusion Matrix For Standardization + Decision Tree: \n",
      " [[19 16  5]\n",
      " [14 21  5]\n",
      " [ 3  2 27]]\n",
      "              precision    recall  f1-score   support\n",
      "\n",
      "       happy       0.53      0.47      0.50        40\n",
      "         sad       0.54      0.53      0.53        40\n",
      "       angry       0.73      0.84      0.78        32\n",
      "\n",
      "    accuracy                           0.60       112\n",
      "   macro avg       0.60      0.61      0.60       112\n",
      "weighted avg       0.59      0.60      0.59       112\n",
      "\n"
     ]
    }
   ],
   "source": [
    "dtc_sc_pred = dtc_sc.best_estimator_.predict(X_sc_test)\n",
    "cm = confusion_matrix(y_sc_test, dtc_sc_pred)\n",
    "\n",
    "print (\"Confusion Matrix For Standardization + Decision Tree: \\n\", cm)\n",
    "print(classification_report(y_sc_test, dtc_sc_pred, target_names=['happy', 'sad', 'angry']))"
   ]
  },
  {
   "cell_type": "code",
   "execution_count": 56,
   "metadata": {},
   "outputs": [
    {
     "data": {
      "text/plain": [
       "0.5982142857142857"
      ]
     },
     "execution_count": 56,
     "metadata": {},
     "output_type": "execute_result"
    }
   ],
   "source": [
    "accuracy_score(y_sc_test, dtc_sc_pred)"
   ]
  },
  {
   "cell_type": "code",
   "execution_count": 125,
   "metadata": {},
   "outputs": [
    {
     "data": {
      "image/png": "[encoded data removed]",
      "text/plain": [
       "<Figure size 576x576 with 1 Axes>"
      ]
     },
     "metadata": {
      "needs_background": "light"
     },
     "output_type": "display_data"
    }
   ],
   "source": [
    "# Binarize the output\n",
    "n_classes = 3\n",
    "y_score = dtc_sc.best_estimator_.predict_proba(X_sc_test)\n",
    "# Compute ROC curve and ROC area for each class\n",
    "lw = 2\n",
    "n_class = 3\n",
    "fpr = dict()\n",
    "tpr = dict()\n",
    "roc_auc = dict()\n",
    "for i in range(n_class):\n",
    "    fpr[i], tpr[i], _ = roc_curve(y_test[:, i], y_score[:, i])\n",
    "    roc_auc[i] = auc(fpr[i], tpr[i])\n",
    "\n",
    "# Compute micro-average ROC curve and ROC area\n",
    "fpr[\"micro\"], tpr[\"micro\"], _ = roc_curve(y_test.ravel(), y_score.ravel())\n",
    "roc_auc[\"micro\"] = auc(fpr[\"micro\"], tpr[\"micro\"])\n",
    "# First aggregate all false positive rates\n",
    "all_fpr = np.unique(np.concatenate([fpr[i] for i in range(n_classes)]))\n",
    "\n",
    "# Then interpolate all ROC curves at this points\n",
    "mean_tpr = np.zeros_like(all_fpr)\n",
    "for i in range(n_classes):\n",
    "    mean_tpr += np.interp(all_fpr, fpr[i], tpr[i])\n",
    "\n",
    "# Finally average it and compute AUC\n",
    "mean_tpr /= n_classes\n",
    "\n",
    "fpr[\"macro\"] = all_fpr\n",
    "tpr[\"macro\"] = mean_tpr\n",
    "roc_auc[\"macro\"] = auc(fpr[\"macro\"], tpr[\"macro\"])\n",
    "\n",
    "# Plot all ROC curves\n",
    "plt.figure(figsize=(8, 8))\n",
    "\n",
    "plt.plot(\n",
    "    fpr[\"macro\"],\n",
    "    tpr[\"macro\"],\n",
    "    label=\"macro-average ROC curve (area = {0:0.2f})\".format(roc_auc[\"macro\"]),\n",
    "    color=\"navy\",\n",
    "    linestyle=\":\",\n",
    "    linewidth=4,\n",
    ")\n",
    "\n",
    "colors = cycle([\"aqua\", \"darkorange\", \"cornflowerblue\"])\n",
    "classes = ['Happy', 'Sad', 'Angry']\n",
    "for i, color in zip(range(n_classes), colors):\n",
    "    plt.plot(\n",
    "        fpr[i],\n",
    "        tpr[i],\n",
    "        color=color,\n",
    "        lw=lw,\n",
    "        label=\"ROC curve of class {0} (area = {1:0.2f})\".format(classes[i], roc_auc[i]),\n",
    "    )\n",
    "\n",
    "plt.plot([0, 1], [0, 1], \"k--\", lw=lw)\n",
    "plt.xlim([0.0, 1.0])\n",
    "plt.ylim([0.0, 1.05])\n",
    "plt.xlabel(\"False Positive Rate\")\n",
    "plt.ylabel(\"True Positive Rate\")\n",
    "plt.title(\"Decision Tree For Standardization + PCA Dataset\")\n",
    "plt.legend(loc=\"lower right\")\n",
    "plt.show()"
   ]
  },
  {
   "cell_type": "markdown",
   "metadata": {},
   "source": [
    "### Ensemble Model"
   ]
  },
  {
   "cell_type": "code",
   "execution_count": 46,
   "metadata": {},
   "outputs": [
    {
     "data": {
      "text/html": [
       "<div>\n",
       "<style scoped>\n",
       "    .dataframe tbody tr th:only-of-type {\n",
       "        vertical-align: middle;\n",
       "    }\n",
       "\n",
       "    .dataframe tbody tr th {\n",
       "        vertical-align: top;\n",
       "    }\n",
       "\n",
       "    .dataframe thead th {\n",
       "        text-align: right;\n",
       "    }\n",
       "</style>\n",
       "<table border=\"1\" class=\"dataframe\">\n",
       "  <thead>\n",
       "    <tr style=\"text-align: right;\">\n",
       "      <th></th>\n",
       "      <th>logistic Regression</th>\n",
       "      <th>naive bayes</th>\n",
       "      <th>Decision Tree</th>\n",
       "    </tr>\n",
       "  </thead>\n",
       "  <tbody>\n",
       "    <tr>\n",
       "      <th>0</th>\n",
       "      <td>0</td>\n",
       "      <td>2</td>\n",
       "      <td>1</td>\n",
       "    </tr>\n",
       "    <tr>\n",
       "      <th>1</th>\n",
       "      <td>0</td>\n",
       "      <td>1</td>\n",
       "      <td>1</td>\n",
       "    </tr>\n",
       "    <tr>\n",
       "      <th>2</th>\n",
       "      <td>0</td>\n",
       "      <td>1</td>\n",
       "      <td>1</td>\n",
       "    </tr>\n",
       "    <tr>\n",
       "      <th>...</th>\n",
       "      <td>...</td>\n",
       "      <td>...</td>\n",
       "      <td>...</td>\n",
       "    </tr>\n",
       "    <tr>\n",
       "      <th>109</th>\n",
       "      <td>2</td>\n",
       "      <td>2</td>\n",
       "      <td>0</td>\n",
       "    </tr>\n",
       "    <tr>\n",
       "      <th>110</th>\n",
       "      <td>2</td>\n",
       "      <td>1</td>\n",
       "      <td>2</td>\n",
       "    </tr>\n",
       "    <tr>\n",
       "      <th>111</th>\n",
       "      <td>2</td>\n",
       "      <td>2</td>\n",
       "      <td>2</td>\n",
       "    </tr>\n",
       "  </tbody>\n",
       "</table>\n",
       "<p>112 rows × 3 columns</p>\n",
       "</div>"
      ],
      "text/plain": [
       "     logistic Regression  naive bayes  Decision Tree\n",
       "0                      0            2              1\n",
       "1                      0            1              1\n",
       "2                      0            1              1\n",
       "..                   ...          ...            ...\n",
       "109                    2            2              0\n",
       "110                    2            1              2\n",
       "111                    2            2              2\n",
       "\n",
       "[112 rows x 3 columns]"
      ]
     },
     "execution_count": 46,
     "metadata": {},
     "output_type": "execute_result"
    }
   ],
   "source": [
    "en_sc = pd.DataFrame()\n",
    "en_sc['logistic Regression'] = log_sc_pred\n",
    "en_sc['naive bayes'] = nb_sc_pred\n",
    "en_sc['Decision Tree'] = dtc_sc_pred\n",
    "en_sc"
   ]
  },
  {
   "cell_type": "code",
   "execution_count": 47,
   "metadata": {},
   "outputs": [
    {
     "name": "stdout",
     "output_type": "stream",
     "text": [
      "Confusion Matrix For MinMax + Ensemble: \n",
      " [[26 14  0]\n",
      " [ 7 33  0]\n",
      " [ 3  1 28]]\n",
      "              precision    recall  f1-score   support\n",
      "\n",
      "       happy       0.72      0.65      0.68        40\n",
      "         sad       0.69      0.82      0.75        40\n",
      "       angry       1.00      0.88      0.93        32\n",
      "\n",
      "    accuracy                           0.78       112\n",
      "   macro avg       0.80      0.78      0.79       112\n",
      "weighted avg       0.79      0.78      0.78       112\n",
      "\n"
     ]
    }
   ],
   "source": [
    "en_sc_pred = en_sc.mode(axis='columns').iloc[:, 0]\n",
    "cm = confusion_matrix(y_sc_test, en_sc_pred)\n",
    "\n",
    "print (\"Confusion Matrix For MinMax + Ensemble: \\n\", cm)\n",
    "print(classification_report(y_sc_test, en_sc_pred, target_names=['happy', 'sad', 'angry']))"
   ]
  },
  {
   "cell_type": "code",
   "execution_count": 48,
   "metadata": {},
   "outputs": [
    {
     "data": {
      "text/plain": [
       "0.7767857142857143"
      ]
     },
     "execution_count": 48,
     "metadata": {},
     "output_type": "execute_result"
    }
   ],
   "source": [
    "accuracy_score(y_sc_test, en_sc_pred)"
   ]
  },
  {
   "cell_type": "markdown",
   "metadata": {},
   "source": [
    "# Time for Each Model"
   ]
  },
  {
   "cell_type": "code",
   "execution_count": null,
   "metadata": {},
   "outputs": [],
   "source": [
    "import time\n",
    "start = time.time()\n",
    "model.fit(X, y)\n",
    "stop = time.time()\n",
    "print(f\"Training time: {stop - start}s\")"
   ]
  },
  {
   "cell_type": "code",
   "execution_count": null,
   "metadata": {},
   "outputs": [],
   "source": [
    "start = time.time()\n",
    "model.fit(X, y)\n",
    "stop = time.time()\n",
    "print(f\"Training time: {stop - start}s\")"
   ]
  },
  {
   "cell_type": "code",
   "execution_count": null,
   "metadata": {},
   "outputs": [],
   "source": [
    "start = time.time()\n",
    "model.fit(X, y)\n",
    "stop = time.time()\n",
    "print(f\"Training time: {stop - start}s\")"
   ]
  },
  {
   "cell_type": "code",
   "execution_count": null,
   "metadata": {},
   "outputs": [],
   "source": [
    "start = time.time()\n",
    "model.fit(X, y)\n",
    "stop = time.time()\n",
    "print(f\"Training time: {stop - start}s\")"
   ]
  },
  {
   "cell_type": "code",
   "execution_count": null,
   "metadata": {},
   "outputs": [],
   "source": [
    "start = time.time()\n",
    "model.fit(X, y)\n",
    "stop = time.time()\n",
    "print(f\"Training time: {stop - start}s\")"
   ]
  },
  {
   "cell_type": "code",
   "execution_count": null,
   "metadata": {},
   "outputs": [],
   "source": [
    "start = time.time()\n",
    "model.fit(X, y)\n",
    "stop = time.time()\n",
    "print(f\"Training time: {stop - start}s\")"
   ]
  },
  {
   "cell_type": "markdown",
   "metadata": {},
   "source": [
    "# Space complexity"
   ]
  },
  {
   "cell_type": "code",
   "execution_count": null,
   "metadata": {},
   "outputs": [],
   "source": [
    "from memory_profiler import profile"
   ]
  },
  {
   "cell_type": "code",
   "execution_count": null,
   "metadata": {},
   "outputs": [],
   "source": []
  }
 ],
 "metadata": {
  "kernelspec": {
   "display_name": "Python 3",
   "language": "python",
   "name": "python3"
  },
  "language_info": {
   "codemirror_mode": {
    "name": "ipython",
    "version": 3
   },
   "file_extension": ".py",
   "mimetype": "text/x-python",
   "name": "python",
   "nbconvert_exporter": "python",
   "pygments_lexer": "ipython3",
   "version": "3.8.3"
  }
 },
 "nbformat": 4,
 "nbformat_minor": 4
}
